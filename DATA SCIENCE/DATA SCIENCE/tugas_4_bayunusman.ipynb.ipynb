{
 "cells": [
  {
   "cell_type": "markdown",
   "metadata": {},
   "source": [
    "1. Buatlah sebuah fungsi di python yang memerlukan dua argument, nama dan usia. Lalu menampilkan dua argument tersebut saat fungsi dipanggil"
   ]
  },
  {
   "cell_type": "code",
   "execution_count": 2,
   "metadata": {},
   "outputs": [
    {
     "name": "stdout",
     "output_type": "stream",
     "text": [
      "rudi 20\n"
     ]
    }
   ],
   "source": [
    "#kerjakan soal no. 1 pada sel ini\n",
    "\n",
    "#contoh pemanggilan fungsi\n",
    "#func1(\"Rina\", 20)\n",
    "def fungsi_1(nama, usia):\n",
    "    print(nama, usia)\n",
    "fungsi_1(\"rudi\",20)\n",
    "#output\n",
    "#Rina 20\n",
    "# Membuat Fungsi\n",
    "\n",
    "#fungsi_04(nama = 'rudi')"
   ]
  },
  {
   "cell_type": "markdown",
   "metadata": {},
   "source": [
    "2. Buatlah fungsi yang bisa melakukan print semua parameter/argument yang menjadi inputan. Fungsi tersebut harus bisa menerima berapapun argument yang dimasukkan tanpa error. "
   ]
  },
  {
   "cell_type": "code",
   "execution_count": 7,
   "metadata": {},
   "outputs": [
    {
     "name": "stdout",
     "output_type": "stream",
     "text": [
      "1\n",
      "2\n",
      "3\n",
      "1\n",
      "2\n",
      "3\n",
      "4\n",
      "5\n",
      "6\n"
     ]
    },
    {
     "data": {
      "text/plain": [
       "'\\noutput\\n1\\n2\\n3\\n4\\n5\\n6\\n'"
      ]
     },
     "execution_count": 7,
     "metadata": {},
     "output_type": "execute_result"
    }
   ],
   "source": [
    "#kerjakan soal no. 2 pada sel ini\n",
    "def perurutan(*args):\n",
    "    for isi in args:\n",
    "        print(isi)\n",
    "perurutan(1,2,3)\n",
    "\n",
    "#contoh pemanggilan fungsi\n",
    "#func2(1,2,3)\n",
    "\n",
    "\n",
    "'''\n",
    "output\n",
    "1\n",
    "2\n",
    "3\n",
    "'''\n",
    "\n",
    "\n",
    "#contoh pemanggilan fungsi\n",
    "#func1(1,2,3,4,5,6)\n",
    "def perurutan(*args):\n",
    "    for isi in args:\n",
    "        print(isi)\n",
    "perurutan(1,2,3,4,5,6)\n",
    "\n",
    "#contoh pemanggilan fungsi\n",
    "#func2(1,2,3)\n",
    "'''\n",
    "output\n",
    "1\n",
    "2\n",
    "3\n",
    "4\n",
    "5\n",
    "6\n",
    "'''"
   ]
  },
  {
   "cell_type": "markdown",
   "metadata": {},
   "source": [
    "3. Buatlah sebuah fungsi yang dapat mencari jumlah total dari anggota pada list. Syarat pengerjaan:\n",
    "     - tanpa menggunakan loop/iterasi\n",
    "     - manfaatkan fungsi lambda\n",
    "\n",
    "list_nilai = [23,17,5,8,25,15]"
   ]
  },
  {
   "cell_type": "code",
   "execution_count": 8,
   "metadata": {},
   "outputs": [
    {
     "name": "stdout",
     "output_type": "stream",
     "text": [
      "93\n"
     ]
    }
   ],
   "source": [
    "#kerjakan soal no. 3 pada sel ini\n",
    "from functools import reduce\n",
    "data =  [23,17,5,8,25,15]\n",
    "result = reduce(lambda x,y: x + y, data)\n",
    "print(result)\n",
    "#contoh pemanggilan fungsi\n",
    "#func3(list_nilai)\n",
    "\n",
    "#output\n",
    "#93"
   ]
  },
  {
   "cell_type": "markdown",
   "metadata": {},
   "source": [
    "4. Buatlah sebuah fungsi yang dapat mencari nilai yang lebih besar/sama dengan 80 dari anggota pada list. Syarat pengerjaan:\n",
    "     - tanpa menggunakan loop/iterasi\n",
    "     - manfaatkan fungsi lambda\n",
    "     - ouput merupakan list\n",
    "\n",
    "nilai_siswa = [67,89,80,67,25,92]"
   ]
  },
  {
   "cell_type": "code",
   "execution_count": 10,
   "metadata": {},
   "outputs": [
    {
     "name": "stdout",
     "output_type": "stream",
     "text": [
      "[89, 80, 92]\n"
     ]
    }
   ],
   "source": [
    "#kerjakan soal no. 4 pada sel ini\n",
    "nilai_siswa = [67,89,80,67,25,92]\n",
    "result = list(filter(lambda x : x >=80, nilai_siswa))\n",
    "print(result)\n",
    "\n",
    "#contoh pemanggilan fungsi\n",
    "#func4(nilai_siswa)\n",
    "\n",
    "#output\n",
    "#[89,80,92]"
   ]
  },
  {
   "cell_type": "markdown",
   "metadata": {},
   "source": [
    "5. Buatlah sebuah fungsi untuk mengecek apakah suatu string palindrom atau bukan\n",
    "\n",
    "kata_1 = \"makam\"\n",
    "kata_2 = \"makan\""
   ]
  },
  {
   "cell_type": "code",
   "execution_count": 17,
   "metadata": {},
   "outputs": [
    {
     "name": "stdout",
     "output_type": "stream",
     "text": [
      "makam merupakan Palindrom\n",
      "makan Bukan merupakan Palindrom\n"
     ]
    }
   ],
   "source": [
    "#kerjakan soal no.5 pada sel ini\n",
    "def polindrom(kata):\n",
    "    temp=str()\n",
    "    for i in range(len(kata)-1, -1, -1): #Looping dari karakter / huruf terakhir\n",
    "        temp+=kata[i]   \n",
    "\n",
    "    if(kata == temp): #Pengecekan kondisi dengan membandingkan kedua variabel\n",
    "        print(kata,\"merupakan Palindrom\")\n",
    "    else:\n",
    "        print(kata,\"Bukan merupakan Palindrom\")\n",
    "        \n",
    "polindrom(\"makam\")\n",
    "polindrom(\"makan\")\n",
    "            \n",
    "            \n",
    "    \n",
    "    \n",
    "    \n",
    "#contoh pemanggilan fungsi\n",
    "#test_palindrom(kata_1)\n",
    "#test_palindrom(kata_2)\n",
    "\n",
    "#output\n",
    "#makam merupakan palindrom\n",
    "#makan bukan merupakan palindrom"
   ]
  },
  {
   "cell_type": "code",
   "execution_count": null,
   "metadata": {},
   "outputs": [],
   "source": []
  }
 ],
 "metadata": {
  "kernelspec": {
   "display_name": "Python 3",
   "language": "python",
   "name": "python3"
  },
  "language_info": {
   "codemirror_mode": {
    "name": "ipython",
    "version": 3
   },
   "file_extension": ".py",
   "mimetype": "text/x-python",
   "name": "python",
   "nbconvert_exporter": "python",
   "pygments_lexer": "ipython3",
   "version": "3.8.5"
  }
 },
 "nbformat": 4,
 "nbformat_minor": 2
}
