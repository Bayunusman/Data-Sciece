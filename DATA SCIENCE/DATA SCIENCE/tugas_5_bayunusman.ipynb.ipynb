{
 "cells": [
  {
   "cell_type": "markdown",
   "metadata": {
    "id": "X_-RZ45njo1n"
   },
   "source": [
    "1. Buatlah sebuah class dengan nama class = Kendaraan,  tanpa variabel, attribute dan methods"
   ]
  },
  {
   "cell_type": "code",
   "execution_count": 1,
   "metadata": {
    "id": "2_SV-dIsjo1u"
   },
   "outputs": [
    {
     "name": "stdout",
     "output_type": "stream",
     "text": [
      "Mobil\n"
     ]
    }
   ],
   "source": [
    "#kerjakan soal 1 pada sel ini\n",
    "class Kendaraan:\n",
    "    \n",
    "    def __init__(self):\n",
    "        print(\"Mobil\")\n",
    "        \n",
    "hero1 = Kendaraan()"
   ]
  },
  {
   "cell_type": "markdown",
   "metadata": {
    "id": "Sb_aVB-Ujo1v"
   },
   "source": [
    "2. Buatlah sebuah class dengan nama class = Kendaraan, yang memiliki atribut instance kecepatan_maksimum dan jarak_tempuh"
   ]
  },
  {
   "cell_type": "code",
   "execution_count": 6,
   "metadata": {
    "id": "2kEaZBsPjo1w"
   },
   "outputs": [
    {
     "name": "stdout",
     "output_type": "stream",
     "text": [
      "240 10\n"
     ]
    }
   ],
   "source": [
    "#kerjakan soal no 2 pada sel ini\n",
    "\n",
    "#contoh pemanggilan\n",
    "#model_1 = Kendaraan(240,10)\n",
    "#print(model_1.kecepatan_maksimum, model_1.jarak_tempuh)\n",
    "class Hero: #template\n",
    "    pass\n",
    "\n",
    "model_1 = Hero()\n",
    "\n",
    "model_1.kecepatan_maksimum = 240\n",
    "model_1.jarak_tempuh = 10\n",
    "\n",
    "\n",
    "\n",
    "print(model_1.kecepatan_maksimum, model_1.jarak_tempuh)\n",
    "#print(model_1.jarak_tempuh)\n",
    "#output\n",
    "#240 10"
   ]
  },
  {
   "cell_type": "markdown",
   "metadata": {
    "id": "mQcUuE-Mjo1x"
   },
   "source": [
    "3. Buatlah sebuah class dengan nama Tesla yang bersifat inheritance/turunan dari class mobil"
   ]
  },
  {
   "cell_type": "code",
   "execution_count": 19,
   "metadata": {
    "id": "np3XdRV6jo1x",
    "outputId": "f03b11e9-e570-448c-cb3d-cd2ae3415fb4"
   },
   "outputs": [
    {
     "name": "stdout",
     "output_type": "stream",
     "text": [
      "{'Nama_mobil': 'model x', 'Warna': 'perak', 'Bahan_bakar': 'listrik'}\n"
     ]
    }
   ],
   "source": [
    "#kerjakan soal no 3 pada sel ini\n",
    "\n",
    "class Mobil:\n",
    "\n",
    "    def __init__(self, nama, warna, bahan_bakar):\n",
    "        self.Nama_mobil = nama\n",
    "        self.Warna = warna\n",
    "        self.Bahan_bakar = bahan_bakar\n",
    "        \n",
    "model_x = Mobil(\"model x\",\"perak\",\"listrik\")\n",
    "print(model_x.__dict__)\n",
    "# contoh pemanggilan\n",
    "# model_x = Tesla(\"model x\",\"perak\",\"listrik\")\n",
    "#print(f\"Mobil: {model_x.nama}, Warna: {model_x.warna}, Bahan Bakar: {model_x.bahan_bakar}\")\n",
    "\n",
    "# output\n",
    "# Nama Mobil: model x, Warna: perak, Bahan Bakar: listrik\n"
   ]
  },
  {
   "cell_type": "markdown",
   "metadata": {
    "id": "Dks9wPRZjo1z"
   },
   "source": [
    "4. Buatlah sebuah class dengan ketentuan:\n",
    "    - memiliki nama Aritmatika\n",
    "    - instance atribut/input untuk class adalah dua integer\n",
    "    - memiliki metode yang bernama add yang menampilkan hasil penjumlahan instance atribut/inputan class"
   ]
  },
  {
   "cell_type": "code",
   "execution_count": 27,
   "metadata": {
    "id": "nyZrczeojo1z"
   },
   "outputs": [
    {
     "name": "stdout",
     "output_type": "stream",
     "text": [
      "14\n"
     ]
    }
   ],
   "source": [
    "#kerjakan soal no 4 pada sel ini\n",
    "class Aritmatika:\n",
    "    def __init__(self):\n",
    "        a = 10\n",
    "        b = 4\n",
    "        print(a+b)\n",
    "\n",
    "model_hitung = Aritmatika()\n",
    "#model_hitung.add()\n",
    "#model_hitung.add()      \n",
    "# contoh pemanggilan\n",
    "# model_hitung = Aritmatika(10,4)\n",
    "# model_hitung.add()\n",
    "\n",
    "# output\n",
    "# 14"
   ]
  },
  {
   "cell_type": "code",
   "execution_count": null,
   "metadata": {},
   "outputs": [],
   "source": []
  }
 ],
 "metadata": {
  "colab": {
   "name": "Tugas_5.ipynb",
   "provenance": []
  },
  "interpreter": {
   "hash": "b02d93efda564da1915d42b0288c26f05ac833e7645184a564f32e638d57cc3e"
  },
  "kernelspec": {
   "display_name": "Python 3",
   "language": "python",
   "name": "python3"
  },
  "language_info": {
   "codemirror_mode": {
    "name": "ipython",
    "version": 3
   },
   "file_extension": ".py",
   "mimetype": "text/x-python",
   "name": "python",
   "nbconvert_exporter": "python",
   "pygments_lexer": "ipython3",
   "version": "3.8.5"
  }
 },
 "nbformat": 4,
 "nbformat_minor": 1
}
