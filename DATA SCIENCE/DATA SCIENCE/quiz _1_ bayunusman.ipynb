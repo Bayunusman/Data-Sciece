{
 "cells": [
  {
   "cell_type": "code",
   "execution_count": 11,
   "id": "d531e170",
   "metadata": {},
   "outputs": [],
   "source": [
    "import requests\n",
    "from bs4 import BeautifulSoup"
   ]
  },
  {
   "cell_type": "code",
   "execution_count": 12,
   "id": "74029d56",
   "metadata": {},
   "outputs": [],
   "source": [
    "page = requests.get('https://indeks.kompas.com/')\n",
    "soup = BeautifulSoup(page.text, 'html.parser')"
   ]
  },
  {
   "cell_type": "code",
   "execution_count": 13,
   "id": "8496bb52",
   "metadata": {},
   "outputs": [
    {
     "name": "stdout",
     "output_type": "stream",
     "text": [
      "Success\n"
     ]
    }
   ],
   "source": [
    "if page.status_code==200:\n",
    "   print('Success')"
   ]
  },
  {
   "cell_type": "code",
   "execution_count": 17,
   "id": "36deed34",
   "metadata": {},
   "outputs": [],
   "source": [
    "articles = soup.find_all('https://money.kompas.com/read/2022/04/03/203000926/kemenaker-sebut-banyak-peluang-pekerja-formal-dapat-bekerja-di-abu-dhabi')\n",
    "for p in articles:\n",
    "    print(a.text)"
   ]
  },
  {
   "cell_type": "code",
   "execution_count": 18,
   "id": "6cc63a8e",
   "metadata": {},
   "outputs": [
    {
     "ename": "SyntaxError",
     "evalue": "invalid syntax (Temp/ipykernel_12856/2763578562.py, line 1)",
     "output_type": "error",
     "traceback": [
      "\u001b[1;36m  File \u001b[1;32m\"C:\\Users\\BAYUNU~1\\AppData\\Local\\Temp/ipykernel_12856/2763578562.py\"\u001b[1;36m, line \u001b[1;32m1\u001b[0m\n\u001b[1;33m    for p in soup.find_all('https://money.kompas.com/read/2022/04/03/203000926/kemenaker-sebut-banyak-peluang-pekerja-formal-dapat-bekerja-di-abu-dhabi')\u001b[0m\n\u001b[1;37m                                                                                                                                                         ^\u001b[0m\n\u001b[1;31mSyntaxError\u001b[0m\u001b[1;31m:\u001b[0m invalid syntax\n"
     ]
    }
   ],
   "source": [
    "for p in soup.find_all('https://money.kompas.com/read/2022/04/03/203000926/kemenaker-sebut-banyak-peluang-pekerja-formal-dapat-bekerja-di-abu-dhabi')\n",
    "    print(a.text)"
   ]
  },
  {
   "cell_type": "code",
   "execution_count": null,
   "id": "053e38ad",
   "metadata": {},
   "outputs": [],
   "source": []
  }
 ],
 "metadata": {
  "kernelspec": {
   "display_name": "Python 3 (ipykernel)",
   "language": "python",
   "name": "python3"
  },
  "language_info": {
   "codemirror_mode": {
    "name": "ipython",
    "version": 3
   },
   "file_extension": ".py",
   "mimetype": "text/x-python",
   "name": "python",
   "nbconvert_exporter": "python",
   "pygments_lexer": "ipython3",
   "version": "3.9.7"
  }
 },
 "nbformat": 4,
 "nbformat_minor": 5
}
