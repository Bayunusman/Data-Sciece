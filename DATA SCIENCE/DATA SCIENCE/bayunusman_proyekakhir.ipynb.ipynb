{
  "nbformat": 4,
  "nbformat_minor": 0,
  "metadata": {
    "colab": {
      "name": "Untitled1.ipynb",
      "provenance": []
    },
    "kernelspec": {
      "name": "python3",
      "display_name": "Python 3"
    },
    "language_info": {
      "name": "python"
    }
  },
  "cells": [
    {
      "cell_type": "code",
      "execution_count": 251,
      "metadata": {
        "id": "ypfOiaUP4DQK"
      },
      "outputs": [],
      "source": [
        "#Saya importkan semua yang dibutuhkan dalam program ini\n",
        "import json, requests\n",
        "import tweepy\n",
        "import requests\n",
        "from bs4 import BeautifulSoup\n",
        "import pandas as pd\n",
        "from tweepy import OAuthHandler\n",
        "import re, string\n",
        "from nltk.tokenize import word_tokenize, sent_tokenize\n",
        "from nltk.corpus import stopwords\n",
        "from Sastrawi.Stemmer.StemmerFactory import StemmerFactory as SF\n",
        "import nltk"
      ]
    },
    {
      "cell_type": "code",
      "source": [
        "#Saya masuk ke Twitter melalui file Json dengan nama 'token' yang sebelumnya sudah saya buatkan\n",
        "with open(\"token.json\") as f:\n",
        "  tokens = json.load(f)"
      ],
      "metadata": {
        "id": "22gJtNCu4eCn"
      },
      "execution_count": 252,
      "outputs": []
    },
    {
      "cell_type": "code",
      "source": [
        "#saya inputkan dari token Json tersebut\n",
        "with open(\"token.json\") as f:\n",
        "  tokens = json.load(f)\n",
        "\n",
        "bearer_token = tokens['bearer_token']\n",
        "api_key = tokens['api_key']\n",
        "api_key_secret = tokens['api_key_secret']\n",
        "access_token = tokens['acces_token']\n",
        "acces_token_secrett = tokens['acces_token_secret']\n",
        "\n",
        "tokens.keys()\n"
      ],
      "metadata": {
        "colab": {
          "base_uri": "https://localhost:8080/"
        },
        "id": "P8crMU0V4eFi",
        "outputId": "5a195826-87f2-4d91-a569-470c15d6eb22"
      },
      "execution_count": 253,
      "outputs": [
        {
          "output_type": "execute_result",
          "data": {
            "text/plain": [
              "dict_keys(['bearer_token', 'api_key', 'api_key_secret', 'acces_token', 'acces_token_secret'])"
            ]
          },
          "metadata": {},
          "execution_count": 253
        }
      ]
    },
    {
      "cell_type": "code",
      "source": [
        "#buat variabel authentikasi dan api\n",
        "auth = tweepy.OAuthHandler(api_key, api_key_secret)\n",
        "auth.set_access_token(access_token,acces_token_secrett)\n",
        "api = tweepy.API(auth, wait_on_rate_limit=True)"
      ],
      "metadata": {
        "id": "MoFC0Xrt4eJD"
      },
      "execution_count": 254,
      "outputs": []
    },
    {
      "cell_type": "code",
      "source": [
        "#mencari topik perbincangan dengan tema 'Mahasiswa'\n",
        "posts = api.user_timeline(screen_name=\"Mahasiswa\", count = 200, lang =\"en\", tweet_mode=\"extended\")"
      ],
      "metadata": {
        "id": "qZ5_8gyh6xK9"
      },
      "execution_count": 255,
      "outputs": []
    },
    {
      "cell_type": "code",
      "source": [
        "#saya menggunakan dataframe agar lebih terlihat jelas\n",
        "df = pd.DataFrame([tweet.full_text for tweet in posts], columns=['Tweets'])"
      ],
      "metadata": {
        "id": "fSH9fM4FE4GF"
      },
      "execution_count": 256,
      "outputs": []
    },
    {
      "cell_type": "code",
      "source": [
        "#saya cleaning dari text atau tanda yang tidak dibutuhkan\n",
        "def cleanTxt(text):\n",
        "    text = re.sub('@[A-Za-z0–9]+', '', text) # Menghapus @mentions\n",
        "    text = re.sub('#', '', text) # Menghapus '#' hash tag\n",
        "    text = re.sub('RT[\\s]+', '', text) # Menghapus RT\n",
        "    text = re.sub('https?:\\/\\/\\S+', '', text) # Menghapus hyperlink\n",
        "    return text"
      ],
      "metadata": {
        "id": "ddxdjiOEFGSM"
      },
      "execution_count": 257,
      "outputs": []
    },
    {
      "cell_type": "code",
      "source": [
        "#intruksi dari perintah sebelumnya\n",
        "df['Tweets'] = df['Tweets'].apply(cleanTxt)"
      ],
      "metadata": {
        "id": "jMp0yyYNFNWQ"
      },
      "execution_count": 258,
      "outputs": []
    },
    {
      "cell_type": "code",
      "source": [
        "#memanggil\n",
        "df.head(10)"
      ],
      "metadata": {
        "colab": {
          "base_uri": "https://localhost:8080/",
          "height": 363
        },
        "id": "WF3Ml-hPFPQq",
        "outputId": "4298eed3-c79d-470a-bbde-6a32d34bd390"
      },
      "execution_count": 259,
      "outputs": [
        {
          "output_type": "execute_result",
          "data": {
            "text/plain": [
              "                                              Tweets\n",
              "0  Selamat Ujian Nasional calon Mahasiswa Hebat. ...\n",
              "1                                       Selamat sore\n",
              "2                        Yok \":  ayokk, salam kenal”\n",
              "3  Gunung nya sih kagak. Yg dibawah gunung kali y...\n",
              "4                              eta salaman dulu sini\n",
              "5  Suatu saat pengalaman lah yg mebedakan kalian ...\n",
              "6  Ciyan \": tolak valentine karena belom move on ...\n",
              "7  Banjir min banjir \": Kamu orang apa ces cesan ...\n",
              "8  Gw g setuju klo syaratny keterangan tdk mampu ...\n",
              "9  Hidup cuma sekali. Cari lah kebahagiaan yg jug..."
            ],
            "text/html": [
              "\n",
              "  <div id=\"df-40ebb438-242a-45f8-b3dc-c1276419921d\">\n",
              "    <div class=\"colab-df-container\">\n",
              "      <div>\n",
              "<style scoped>\n",
              "    .dataframe tbody tr th:only-of-type {\n",
              "        vertical-align: middle;\n",
              "    }\n",
              "\n",
              "    .dataframe tbody tr th {\n",
              "        vertical-align: top;\n",
              "    }\n",
              "\n",
              "    .dataframe thead th {\n",
              "        text-align: right;\n",
              "    }\n",
              "</style>\n",
              "<table border=\"1\" class=\"dataframe\">\n",
              "  <thead>\n",
              "    <tr style=\"text-align: right;\">\n",
              "      <th></th>\n",
              "      <th>Tweets</th>\n",
              "    </tr>\n",
              "  </thead>\n",
              "  <tbody>\n",
              "    <tr>\n",
              "      <th>0</th>\n",
              "      <td>Selamat Ujian Nasional calon Mahasiswa Hebat. ...</td>\n",
              "    </tr>\n",
              "    <tr>\n",
              "      <th>1</th>\n",
              "      <td>Selamat sore</td>\n",
              "    </tr>\n",
              "    <tr>\n",
              "      <th>2</th>\n",
              "      <td>Yok \":  ayokk, salam kenal”</td>\n",
              "    </tr>\n",
              "    <tr>\n",
              "      <th>3</th>\n",
              "      <td>Gunung nya sih kagak. Yg dibawah gunung kali y...</td>\n",
              "    </tr>\n",
              "    <tr>\n",
              "      <th>4</th>\n",
              "      <td>eta salaman dulu sini</td>\n",
              "    </tr>\n",
              "    <tr>\n",
              "      <th>5</th>\n",
              "      <td>Suatu saat pengalaman lah yg mebedakan kalian ...</td>\n",
              "    </tr>\n",
              "    <tr>\n",
              "      <th>6</th>\n",
              "      <td>Ciyan \": tolak valentine karena belom move on ...</td>\n",
              "    </tr>\n",
              "    <tr>\n",
              "      <th>7</th>\n",
              "      <td>Banjir min banjir \": Kamu orang apa ces cesan ...</td>\n",
              "    </tr>\n",
              "    <tr>\n",
              "      <th>8</th>\n",
              "      <td>Gw g setuju klo syaratny keterangan tdk mampu ...</td>\n",
              "    </tr>\n",
              "    <tr>\n",
              "      <th>9</th>\n",
              "      <td>Hidup cuma sekali. Cari lah kebahagiaan yg jug...</td>\n",
              "    </tr>\n",
              "  </tbody>\n",
              "</table>\n",
              "</div>\n",
              "      <button class=\"colab-df-convert\" onclick=\"convertToInteractive('df-40ebb438-242a-45f8-b3dc-c1276419921d')\"\n",
              "              title=\"Convert this dataframe to an interactive table.\"\n",
              "              style=\"display:none;\">\n",
              "        \n",
              "  <svg xmlns=\"http://www.w3.org/2000/svg\" height=\"24px\"viewBox=\"0 0 24 24\"\n",
              "       width=\"24px\">\n",
              "    <path d=\"M0 0h24v24H0V0z\" fill=\"none\"/>\n",
              "    <path d=\"M18.56 5.44l.94 2.06.94-2.06 2.06-.94-2.06-.94-.94-2.06-.94 2.06-2.06.94zm-11 1L8.5 8.5l.94-2.06 2.06-.94-2.06-.94L8.5 2.5l-.94 2.06-2.06.94zm10 10l.94 2.06.94-2.06 2.06-.94-2.06-.94-.94-2.06-.94 2.06-2.06.94z\"/><path d=\"M17.41 7.96l-1.37-1.37c-.4-.4-.92-.59-1.43-.59-.52 0-1.04.2-1.43.59L10.3 9.45l-7.72 7.72c-.78.78-.78 2.05 0 2.83L4 21.41c.39.39.9.59 1.41.59.51 0 1.02-.2 1.41-.59l7.78-7.78 2.81-2.81c.8-.78.8-2.07 0-2.86zM5.41 20L4 18.59l7.72-7.72 1.47 1.35L5.41 20z\"/>\n",
              "  </svg>\n",
              "      </button>\n",
              "      \n",
              "  <style>\n",
              "    .colab-df-container {\n",
              "      display:flex;\n",
              "      flex-wrap:wrap;\n",
              "      gap: 12px;\n",
              "    }\n",
              "\n",
              "    .colab-df-convert {\n",
              "      background-color: #E8F0FE;\n",
              "      border: none;\n",
              "      border-radius: 50%;\n",
              "      cursor: pointer;\n",
              "      display: none;\n",
              "      fill: #1967D2;\n",
              "      height: 32px;\n",
              "      padding: 0 0 0 0;\n",
              "      width: 32px;\n",
              "    }\n",
              "\n",
              "    .colab-df-convert:hover {\n",
              "      background-color: #E2EBFA;\n",
              "      box-shadow: 0px 1px 2px rgba(60, 64, 67, 0.3), 0px 1px 3px 1px rgba(60, 64, 67, 0.15);\n",
              "      fill: #174EA6;\n",
              "    }\n",
              "\n",
              "    [theme=dark] .colab-df-convert {\n",
              "      background-color: #3B4455;\n",
              "      fill: #D2E3FC;\n",
              "    }\n",
              "\n",
              "    [theme=dark] .colab-df-convert:hover {\n",
              "      background-color: #434B5C;\n",
              "      box-shadow: 0px 1px 3px 1px rgba(0, 0, 0, 0.15);\n",
              "      filter: drop-shadow(0px 1px 2px rgba(0, 0, 0, 0.3));\n",
              "      fill: #FFFFFF;\n",
              "    }\n",
              "  </style>\n",
              "\n",
              "      <script>\n",
              "        const buttonEl =\n",
              "          document.querySelector('#df-40ebb438-242a-45f8-b3dc-c1276419921d button.colab-df-convert');\n",
              "        buttonEl.style.display =\n",
              "          google.colab.kernel.accessAllowed ? 'block' : 'none';\n",
              "\n",
              "        async function convertToInteractive(key) {\n",
              "          const element = document.querySelector('#df-40ebb438-242a-45f8-b3dc-c1276419921d');\n",
              "          const dataTable =\n",
              "            await google.colab.kernel.invokeFunction('convertToInteractive',\n",
              "                                                     [key], {});\n",
              "          if (!dataTable) return;\n",
              "\n",
              "          const docLinkHtml = 'Like what you see? Visit the ' +\n",
              "            '<a target=\"_blank\" href=https://colab.research.google.com/notebooks/data_table.ipynb>data table notebook</a>'\n",
              "            + ' to learn more about interactive tables.';\n",
              "          element.innerHTML = '';\n",
              "          dataTable['output_type'] = 'display_data';\n",
              "          await google.colab.output.renderOutput(dataTable, element);\n",
              "          const docLink = document.createElement('div');\n",
              "          docLink.innerHTML = docLinkHtml;\n",
              "          element.appendChild(docLink);\n",
              "        }\n",
              "      </script>\n",
              "    </div>\n",
              "  </div>\n",
              "  "
            ]
          },
          "metadata": {},
          "execution_count": 259
        }
      ]
    },
    {
      "cell_type": "code",
      "source": [
        "#memanggil dengan bentuk yang lain\n",
        "print(\"Berikut ini adalah 10 twit terakhir dari akun @Mahasiswa:\\n\")\n",
        "i=1\n",
        "for tweet in posts[:10]:\n",
        "    print(str(i) +') '+ tweet.full_text + '\\n')\n",
        "    i= i+1"
      ],
      "metadata": {
        "colab": {
          "base_uri": "https://localhost:8080/"
        },
        "id": "sZF5LTLp7lWl",
        "outputId": "a17a3bf2-2b63-434f-975b-a07ace3a41a6"
      },
      "execution_count": 260,
      "outputs": [
        {
          "output_type": "stream",
          "name": "stdout",
          "text": [
            "Berikut ini adalah 10 twit terakhir dari akun @Mahasiswa:\n",
            "\n",
            "1) Selamat Ujian Nasional calon Mahasiswa Hebat. Semoga berjalan lancar dan hasil memuaskan. :)\n",
            "\n",
            "2) Selamat sore\n",
            "\n",
            "3) Yok \"@SagalaLC: @Mahasiswa ayokk, salam kenal”\n",
            "\n",
            "4) Gunung nya sih kagak. Yg dibawah gunung kali yak \"@mahasiswajatim: Apane seng banjir? Hayo? RT @Mahasiswa: Banjir min banjir \"@mahasiswajati\n",
            "\n",
            "5) @SagalaLC eta salaman dulu sini\n",
            "\n",
            "6) Suatu saat pengalaman lah yg mebedakan kalian mahasiswa dengan orang biasa. :) #mahasiswaITUsimpel\n",
            "\n",
            "7) Ciyan \"@yeahmahasiswa: tolak valentine karena belom move on #klasik”\n",
            "\n",
            "8) Banjir min banjir \"@mahasiswajatim: Kamu orang apa ces cesan sih? Di colokin sana sini kok oke oke aja loh”\n",
            "\n",
            "9) Gw g setuju klo syaratny keterangan tdk mampu \"@BeasiswaIndo: #SurveiBeasiswa: menurut km. sudah adilkah sistem #beasiswa dikampusmu? ~0213”\n",
            "\n",
            "10) Hidup cuma sekali. Cari lah kebahagiaan yg juga membahagiakan orang lain ( emak babe sodara sahabat Semuanya deh. ).\n",
            "\n"
          ]
        }
      ]
    },
    {
      "cell_type": "code",
      "source": [
        "#Memanggil data Mahasiswa dari situs berita\n",
        "page = requests.get('https://edukasi.kompas.com/read/2022/03/30/151059571/kisah-tiga-siswa-penghafal-alquran-raih-beasiswa-umrah-dari-sekolah')\n",
        "soup = BeautifulSoup(page.text, 'html.parser')"
      ],
      "metadata": {
        "id": "naGPIJ_k9xSD"
      },
      "execution_count": 261,
      "outputs": []
    },
    {
      "cell_type": "code",
      "source": [
        "#saya pastikan panggilan tersebut sukses\n",
        "if page.status_code==200:\n",
        "  print('sukses')"
      ],
      "metadata": {
        "colab": {
          "base_uri": "https://localhost:8080/"
        },
        "id": "7meiAsPp-shE",
        "outputId": "20ca86f9-4640-45fc-946d-e3460030d602"
      },
      "execution_count": 262,
      "outputs": [
        {
          "output_type": "stream",
          "name": "stdout",
          "text": [
            "sukses\n"
          ]
        }
      ]
    },
    {
      "cell_type": "code",
      "source": [
        "#intruksi 'p' menandakan isi dari berita tersebut\n",
        "articles = soup.find_all('p')\n",
        "for p in articles:\n",
        "    print(p.text)"
      ],
      "metadata": {
        "colab": {
          "base_uri": "https://localhost:8080/"
        },
        "id": "nrU1XU00_WwA",
        "outputId": "dc2da663-1447-4372-ffdf-9be19583443e"
      },
      "execution_count": 263,
      "outputs": [
        {
          "output_type": "stream",
          "name": "stdout",
          "text": [
            "Kisah Tiga Siswa Penghafal Alquran Raih Beasiswa Umrah dari Sekolah\n",
            "\n",
            "KOMPAS.com - Sudah empat tahun, Sekolah Menengah Atas Negeri (SMAN) 2 Lembang konsisten menyelenggarakan program Beasiswa Umrah untuk para siswanya yang telah lulus Munaqosah Tahfidz Alquran.\n",
            "Tahun 2022 ini, tiga siswa penghafal Alquran yakni Siti Apriliani kelas XI IPS 5, Dina Susilawati (XI IPS 1), dan Nazwa Manfalutfi A. (XI MIPA 2) terpilih melaksanakan ibadah umrah. Termasuk satu staf tata usaha, Kusnadi Hidayat.\n",
            "Dilansir dari laman Disdik Jabar, mereka berangkat ke Tanah Suci pada 14 Mei 2022 bersama dua angkatan (6 siswa 2 guru/tenaga kependidikan) penerima beasiswa tahfiz sebelumnya yang tertunda karena Covid-19.\n",
            "Baca juga: Mahasiswa Butuh Biaya Kuliah dan Hidup? Daftar Beasiswa Pertamina 2022\n",
            "Kepala SMAN 2 Lembang, Lina menjelaskan bahwa program tersebut menegaskan salah satu visi SMAN 2 Lembang, yaitu \"Membentuk Insan Akademis yang Religius, Unggul, Kompetitif, dan Berwawasan Lingkungan\".\n",
            "\"Sudah empat tahun SMAN 2 Lembang konsisten menyelenggarakan program ini,\" ujarnya seperti dilansir dari laman Disik Provinsi Jabar, Rabu (30/3/2022).\n",
            "Kuncinya, kata Lina, adalah komitmen dan konsistensi. Dengan demikian, pihaknya pun mendapatkan trust (kepercayaan) penuh dari warga sekolah, tak terkecuali orang tua siswa.\n",
            "\"Orang tua sangat mendukung, bahkan ada yang sengaja seminggu atau sebulan sekali sengaja datang ke sekolah untuk berinfak,\" ungkapnya.\n",
            "Melalui program beasiswa umrah, Lina menilai ada banyak pendidikan karakter yang diterima oleh siswa. Mulai dari pembiasaan membaca Al Qur'an, meningkatkan jiwa kompetitif, dan berbagi.\n",
            "Baca juga: Sosok Teguh Juliawan, Kepala Sekolah Inspiratif Tingkat Nasional 2021\n",
            "Sumber dana beasiswa sendiri merupakan hasil infak seribu rupiah sehari dari seluruh siswa SMAN 2 Lembang.\n",
            "Meski demikian, pihaknya tetap menjunjung toleransi. Pihaknya tak memaksakan program tersebut diikuti oleh siswa nonmuslim.\n",
            "\n",
            "Artikel ini merupakan bagian dari Parapuan.\n",
            "Parapuan adalah ruang aktualisasi diri perempuan untuk mencapai mimpinya.\n",
            "Tulis komentarmu dengan tagar #JernihBerkomentar dan menangkan e-voucher untuk 90 pemenang!\n",
            "Kunjungi kanal-kanal Sonora.id\n",
            "Motivasi\n",
            "Fengshui\n",
            "Tips Bisnis\n",
            "Kesehatan\n",
            "Dapatkan informasi dan insight pilihan redaksi Kompas.com\n",
            "Periksa kembali dan lengkapi data dirimu.\n",
            "Data dirimu akan digunakan untuk verifikasi akun ketika kamu membutuhkan bantuan atau ketika ditemukan aktivitas tidak biasa pada akunmu.\n",
            "Segera lengkapi data dirimu untuk ikutan program #JernihBerkomentar.\n"
          ]
        }
      ]
    },
    {
      "cell_type": "code",
      "source": [
        "#menyimpan data ke csv\n",
        "df.to_csv(\"berita_mahasiswa.csv\")"
      ],
      "metadata": {
        "id": "wWG92GJmCj0P"
      },
      "execution_count": 264,
      "outputs": []
    },
    {
      "cell_type": "code",
      "source": [
        "#saya tampilkan untuk memastikan sudah tersipan atau belum\n",
        "df = pd.read_csv('berita_mahasiswa.csv')\n",
        "df"
      ],
      "metadata": {
        "colab": {
          "base_uri": "https://localhost:8080/",
          "height": 424
        },
        "id": "B-8ZhkldIHLR",
        "outputId": "6c003888-a26a-4ba3-e9d2-b0cfc23ac11e"
      },
      "execution_count": 265,
      "outputs": [
        {
          "output_type": "execute_result",
          "data": {
            "text/plain": [
              "     Unnamed: 0                                             Tweets\n",
              "0             0  Selamat Ujian Nasional calon Mahasiswa Hebat. ...\n",
              "1             1                                       Selamat sore\n",
              "2             2                        Yok \":  ayokk, salam kenal”\n",
              "3             3  Gunung nya sih kagak. Yg dibawah gunung kali y...\n",
              "4             4                              eta salaman dulu sini\n",
              "..          ...                                                ...\n",
              "193         193  Gw udah mulai naruh barang dikosan nih... siap...\n",
              "194         194  Hallo apakabar buku dan binder . . . Ada yg su...\n",
              "195         195                                      Good morning.\n",
              "196         196                Masuk hari ke 2 .... di 2014 nih...\n",
              "197         197  Via \": Beasiswa International Business Scholar...\n",
              "\n",
              "[198 rows x 2 columns]"
            ],
            "text/html": [
              "\n",
              "  <div id=\"df-f8f295c9-c78f-46ee-ae41-0f4d44bdce85\">\n",
              "    <div class=\"colab-df-container\">\n",
              "      <div>\n",
              "<style scoped>\n",
              "    .dataframe tbody tr th:only-of-type {\n",
              "        vertical-align: middle;\n",
              "    }\n",
              "\n",
              "    .dataframe tbody tr th {\n",
              "        vertical-align: top;\n",
              "    }\n",
              "\n",
              "    .dataframe thead th {\n",
              "        text-align: right;\n",
              "    }\n",
              "</style>\n",
              "<table border=\"1\" class=\"dataframe\">\n",
              "  <thead>\n",
              "    <tr style=\"text-align: right;\">\n",
              "      <th></th>\n",
              "      <th>Unnamed: 0</th>\n",
              "      <th>Tweets</th>\n",
              "    </tr>\n",
              "  </thead>\n",
              "  <tbody>\n",
              "    <tr>\n",
              "      <th>0</th>\n",
              "      <td>0</td>\n",
              "      <td>Selamat Ujian Nasional calon Mahasiswa Hebat. ...</td>\n",
              "    </tr>\n",
              "    <tr>\n",
              "      <th>1</th>\n",
              "      <td>1</td>\n",
              "      <td>Selamat sore</td>\n",
              "    </tr>\n",
              "    <tr>\n",
              "      <th>2</th>\n",
              "      <td>2</td>\n",
              "      <td>Yok \":  ayokk, salam kenal”</td>\n",
              "    </tr>\n",
              "    <tr>\n",
              "      <th>3</th>\n",
              "      <td>3</td>\n",
              "      <td>Gunung nya sih kagak. Yg dibawah gunung kali y...</td>\n",
              "    </tr>\n",
              "    <tr>\n",
              "      <th>4</th>\n",
              "      <td>4</td>\n",
              "      <td>eta salaman dulu sini</td>\n",
              "    </tr>\n",
              "    <tr>\n",
              "      <th>...</th>\n",
              "      <td>...</td>\n",
              "      <td>...</td>\n",
              "    </tr>\n",
              "    <tr>\n",
              "      <th>193</th>\n",
              "      <td>193</td>\n",
              "      <td>Gw udah mulai naruh barang dikosan nih... siap...</td>\n",
              "    </tr>\n",
              "    <tr>\n",
              "      <th>194</th>\n",
              "      <td>194</td>\n",
              "      <td>Hallo apakabar buku dan binder . . . Ada yg su...</td>\n",
              "    </tr>\n",
              "    <tr>\n",
              "      <th>195</th>\n",
              "      <td>195</td>\n",
              "      <td>Good morning.</td>\n",
              "    </tr>\n",
              "    <tr>\n",
              "      <th>196</th>\n",
              "      <td>196</td>\n",
              "      <td>Masuk hari ke 2 .... di 2014 nih...</td>\n",
              "    </tr>\n",
              "    <tr>\n",
              "      <th>197</th>\n",
              "      <td>197</td>\n",
              "      <td>Via \": Beasiswa International Business Scholar...</td>\n",
              "    </tr>\n",
              "  </tbody>\n",
              "</table>\n",
              "<p>198 rows × 2 columns</p>\n",
              "</div>\n",
              "      <button class=\"colab-df-convert\" onclick=\"convertToInteractive('df-f8f295c9-c78f-46ee-ae41-0f4d44bdce85')\"\n",
              "              title=\"Convert this dataframe to an interactive table.\"\n",
              "              style=\"display:none;\">\n",
              "        \n",
              "  <svg xmlns=\"http://www.w3.org/2000/svg\" height=\"24px\"viewBox=\"0 0 24 24\"\n",
              "       width=\"24px\">\n",
              "    <path d=\"M0 0h24v24H0V0z\" fill=\"none\"/>\n",
              "    <path d=\"M18.56 5.44l.94 2.06.94-2.06 2.06-.94-2.06-.94-.94-2.06-.94 2.06-2.06.94zm-11 1L8.5 8.5l.94-2.06 2.06-.94-2.06-.94L8.5 2.5l-.94 2.06-2.06.94zm10 10l.94 2.06.94-2.06 2.06-.94-2.06-.94-.94-2.06-.94 2.06-2.06.94z\"/><path d=\"M17.41 7.96l-1.37-1.37c-.4-.4-.92-.59-1.43-.59-.52 0-1.04.2-1.43.59L10.3 9.45l-7.72 7.72c-.78.78-.78 2.05 0 2.83L4 21.41c.39.39.9.59 1.41.59.51 0 1.02-.2 1.41-.59l7.78-7.78 2.81-2.81c.8-.78.8-2.07 0-2.86zM5.41 20L4 18.59l7.72-7.72 1.47 1.35L5.41 20z\"/>\n",
              "  </svg>\n",
              "      </button>\n",
              "      \n",
              "  <style>\n",
              "    .colab-df-container {\n",
              "      display:flex;\n",
              "      flex-wrap:wrap;\n",
              "      gap: 12px;\n",
              "    }\n",
              "\n",
              "    .colab-df-convert {\n",
              "      background-color: #E8F0FE;\n",
              "      border: none;\n",
              "      border-radius: 50%;\n",
              "      cursor: pointer;\n",
              "      display: none;\n",
              "      fill: #1967D2;\n",
              "      height: 32px;\n",
              "      padding: 0 0 0 0;\n",
              "      width: 32px;\n",
              "    }\n",
              "\n",
              "    .colab-df-convert:hover {\n",
              "      background-color: #E2EBFA;\n",
              "      box-shadow: 0px 1px 2px rgba(60, 64, 67, 0.3), 0px 1px 3px 1px rgba(60, 64, 67, 0.15);\n",
              "      fill: #174EA6;\n",
              "    }\n",
              "\n",
              "    [theme=dark] .colab-df-convert {\n",
              "      background-color: #3B4455;\n",
              "      fill: #D2E3FC;\n",
              "    }\n",
              "\n",
              "    [theme=dark] .colab-df-convert:hover {\n",
              "      background-color: #434B5C;\n",
              "      box-shadow: 0px 1px 3px 1px rgba(0, 0, 0, 0.15);\n",
              "      filter: drop-shadow(0px 1px 2px rgba(0, 0, 0, 0.3));\n",
              "      fill: #FFFFFF;\n",
              "    }\n",
              "  </style>\n",
              "\n",
              "      <script>\n",
              "        const buttonEl =\n",
              "          document.querySelector('#df-f8f295c9-c78f-46ee-ae41-0f4d44bdce85 button.colab-df-convert');\n",
              "        buttonEl.style.display =\n",
              "          google.colab.kernel.accessAllowed ? 'block' : 'none';\n",
              "\n",
              "        async function convertToInteractive(key) {\n",
              "          const element = document.querySelector('#df-f8f295c9-c78f-46ee-ae41-0f4d44bdce85');\n",
              "          const dataTable =\n",
              "            await google.colab.kernel.invokeFunction('convertToInteractive',\n",
              "                                                     [key], {});\n",
              "          if (!dataTable) return;\n",
              "\n",
              "          const docLinkHtml = 'Like what you see? Visit the ' +\n",
              "            '<a target=\"_blank\" href=https://colab.research.google.com/notebooks/data_table.ipynb>data table notebook</a>'\n",
              "            + ' to learn more about interactive tables.';\n",
              "          element.innerHTML = '';\n",
              "          dataTable['output_type'] = 'display_data';\n",
              "          await google.colab.output.renderOutput(dataTable, element);\n",
              "          const docLink = document.createElement('div');\n",
              "          docLink.innerHTML = docLinkHtml;\n",
              "          element.appendChild(docLink);\n",
              "        }\n",
              "      </script>\n",
              "    </div>\n",
              "  </div>\n",
              "  "
            ]
          },
          "metadata": {},
          "execution_count": 265
        }
      ]
    },
    {
      "cell_type": "code",
      "source": [
        "# membersihkan data dengan fungsi case folding dan fungsi filter stopword\n",
        "def case_folding(data):\n",
        "    data = data.lower()\n",
        "    data = ' '.join(re.sub(\"(@[A-Za-z0-9]+)|([^0-9A-Za-z \\t])|(\\w+:\\/\\/\\S+)\",\" \",data).split())\n",
        "    data = re.sub(r\"\\d+\", \"\", data)\n",
        "    data = data.translate(str.maketrans(\"\",\"\",string.punctuation))\n",
        "    data = re.sub(r\"\\n\",\"\",data)\n",
        "    data = re.sub(r\"\\t\",\"\",data)\n",
        "    return data"
      ],
      "metadata": {
        "id": "LoxASySUd07j"
      },
      "execution_count": 266,
      "outputs": []
    },
    {
      "cell_type": "code",
      "source": [
        "def stopword_cleaner(data):\n",
        "    sw_indonesia = stopwords.words(\"indonesian\")\n",
        "    data  = [word for word in data if word not in sw_indonesia]\n",
        "    data = ' '.join(data)\n",
        "    return data"
      ],
      "metadata": {
        "id": "FkDTcsNOd6kR"
      },
      "execution_count": 267,
      "outputs": []
    },
    {
      "cell_type": "code",
      "source": [
        "#Merapkan dengan memanfaatkan metode iloc\n",
        "#MAAF STUCK, MASIH ERROR\n",
        "#for index in range (len(df[\"Tweets\"])):\n",
        " # df[\"Tweets\"].iloc[index] = case_folding(df[\"Tweets\"].iloc[index])\n",
        " # df[\"Tweets\"].iloc[index] = word_tokenize(df[\"Tweets\"].iloc[index])\n",
        " # df[\"Tweets\"].iloc[index] = stopword_cleaner(df[\"Tweets\"].iloc[index])"
      ],
      "metadata": {
        "id": "XK1F_gwveCMp"
      },
      "execution_count": 268,
      "outputs": []
    },
    {
      "cell_type": "code",
      "source": [
        "#data_berita = [berita.split() for berita in df[\"Tweets\"]]\n",
        "#data_berita\n",
        "#MASIH ERROR"
      ],
      "metadata": {
        "id": "IGebIqhkeHDr"
      },
      "execution_count": 269,
      "outputs": []
    },
    {
      "cell_type": "code",
      "source": [
        "import matplotlib.pyplot as plt\n",
        "#Distribusi Frekuensi Jumlah Karakter per Data\n",
        "bin_range = np.arange(0, 260, 10)\n",
        "df['Tweets'].str.len().hist(bins=bin_range)\n",
        "plt.show()\n",
        " "
      ],
      "metadata": {
        "id": "SAp2tI_5XUeG",
        "outputId": "b96318db-7ef0-4d69-fe5a-7d157609fa58",
        "colab": {
          "base_uri": "https://localhost:8080/",
          "height": 265
        }
      },
      "execution_count": 270,
      "outputs": [
        {
          "output_type": "display_data",
          "data": {
            "text/plain": [
              "<Figure size 432x288 with 1 Axes>"
            ],
            "image/png": "[encoded data removed]"
          },
          "metadata": {
            "needs_background": "light"
          }
        }
      ]
    },
    {
      "cell_type": "code",
      "source": [
        "#Distribusi Frekuensi Kata\n",
        "#tokenization pada dataset\n",
        "df['Tweets'] = df['Tweets'].apply(lambda x: word_tokenize(str(x)))"
      ],
      "metadata": {
        "id": "csd7hu9lYIS0"
      },
      "execution_count": 271,
      "outputs": []
    },
    {
      "cell_type": "code",
      "source": [
        "#masukkan pada semua token tersebut pada satu list yang sama\n",
        "Tweet = [word for Tweets in df['Tweets'] for word in Tweets]\n",
        " "
      ],
      "metadata": {
        "id": "s4KqMX0pZZue"
      },
      "execution_count": 272,
      "outputs": []
    },
    {
      "cell_type": "code",
      "source": [
        "#Kita akan memanfaatkan library freqdist yang dimiliki oleh NLTK\n",
        "from nltk.probability import FreqDist\n",
        "fqdist = FreqDist(Tweet)\n",
        "\n",
        "print(fqdist)"
      ],
      "metadata": {
        "id": "oncGe1b9Zqh9",
        "outputId": "41574b8e-e8ee-4213-cee8-7a95df627755",
        "colab": {
          "base_uri": "https://localhost:8080/"
        }
      },
      "execution_count": 273,
      "outputs": [
        {
          "output_type": "stream",
          "name": "stdout",
          "text": [
            "<FreqDist with 1195 samples and 2672 outcomes>\n"
          ]
        }
      ]
    },
    {
      "cell_type": "code",
      "source": [
        "#Untuk mengetahui kata dan jumlah dari masing-masing kata kita bisa menggunakan.\n",
        "most_common_word = fqdist.most_common(20)\n",
        "\n",
        "print(most_common_word)"
      ],
      "metadata": {
        "id": "zX6dk_CaarN7",
        "outputId": "ad3ee47f-d392-484b-b1d7-fb07f20609e8",
        "colab": {
          "base_uri": "https://localhost:8080/"
        }
      },
      "execution_count": 274,
      "outputs": [
        {
          "output_type": "stream",
          "name": "stdout",
          "text": [
            "[('.', 156), ('...', 80), (':', 62), (',', 47), ('?', 45), ('”', 30), ('yang', 30), ('``', 25), ('lo', 25), ('–', 25), (')', 22), ('dengan', 20), ('dan', 19), (\"''\", 19), ('yg', 18), ('mahasiswa', 16), ('apa', 15), ('belajar', 15), ('akan', 15), ('ini', 14)]\n"
          ]
        }
      ]
    },
    {
      "cell_type": "code",
      "source": [
        "fqdist.plot(20,cumulative=False)\n",
        "\n",
        "plt.show()"
      ],
      "metadata": {
        "id": "n9MzKswBa5cJ",
        "outputId": "dec4131b-2290-4196-bd08-432ccdefb4c4",
        "colab": {
          "base_uri": "https://localhost:8080/",
          "height": 325
        }
      },
      "execution_count": 275,
      "outputs": [
        {
          "output_type": "display_data",
          "data": {
            "text/plain": [
              "<Figure size 432x288 with 1 Axes>"
            ],
            "image/png": "[encoded data removed]"
          },
          "metadata": {
            "needs_background": "light"
          }
        }
      ]
    },
    {
      "cell_type": "code",
      "source": [
        "#Distribusi Ngram\n",
        "#melakukan dengan module ngram pada NLTK\n",
        "result = pd.Series(nltk.ngrams(Tweet, 2)).value_counts()[:20]"
      ],
      "metadata": {
        "id": "rNXF9R5LbSmA"
      },
      "execution_count": 276,
      "outputs": []
    },
    {
      "cell_type": "code",
      "source": [
        "print (result)"
      ],
      "metadata": {
        "id": "Pax7TtRcbsex",
        "outputId": "73398698-0c4c-4e9a-b1f8-758ffb540487",
        "colab": {
          "base_uri": "https://localhost:8080/"
        }
      },
      "execution_count": 277,
      "outputs": [
        {
          "output_type": "stream",
          "name": "stdout",
          "text": [
            "(”, –)                     23\n",
            "(..., .)                   18\n",
            "(``, :)                    15\n",
            "(., :)                      9\n",
            "(:, D)                      8\n",
            "(:, ))                      8\n",
            "(!, !)                      8\n",
            "(Good, morning)             6\n",
            "(), .)                      6\n",
            "(mahasiswa, .)              5\n",
            "(semua, ?)                  5\n",
            "(nih, ...)                  5\n",
            "(kamu, tidak)               5\n",
            "(., mahasiswaITUsimpel)     4\n",
            "(., Dan)                    4\n",
            "(apa, yang)                 4\n",
            "(..., :)                    4\n",
            "(ye, ...)                   4\n",
            "(lo, semua)                 4\n",
            "(., Selamat)                4\n",
            "dtype: int64\n"
          ]
        }
      ]
    },
    {
      "cell_type": "markdown",
      "source": [
        "Saya mengambil tema Mahasiswa karena saya sendiri adalah mahasiswa di semester awal dan ingin tau apa aja yang sedang viral di twitter pada kawan-kawan mahasiswa, ternyata banyak sekali opsi untuk memilih pendalam berita seperti contoh ada berita demo mahasiswa,Mahasiswa sedang UAS, dll tetapi saya mengambil tema Mahasiswa ke arah beasiswa penghafal alquran untuk menyemangati saya dan berjuang pada kawan-kawan mahasiswa penghafal alquran,"
      ],
      "metadata": {
        "id": "07TrJgiNcmeC"
      }
    },
    {
      "cell_type": "code",
      "source": [
        ""
      ],
      "metadata": {
        "id": "xUghiLsqNlTX"
      },
      "execution_count": 277,
      "outputs": []
    },
    {
      "cell_type": "code",
      "source": [
        "\n"
      ],
      "metadata": {
        "id": "QB1SbNPwSprS"
      },
      "execution_count": 277,
      "outputs": []
    }
  ]
}