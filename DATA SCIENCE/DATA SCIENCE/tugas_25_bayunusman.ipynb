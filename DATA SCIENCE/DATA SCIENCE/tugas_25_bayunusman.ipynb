{
  "nbformat": 4,
  "nbformat_minor": 0,
  "metadata": {
    "colab": {
      "name": "Tugas_13.ipynb",
      "provenance": [],
      "collapsed_sections": []
    },
    "kernelspec": {
      "name": "python3",
      "display_name": "Python 3"
    },
    "language_info": {
      "name": "python"
    }
  },
  "cells": [
    {
      "cell_type": "code",
      "metadata": {
        "id": "PrX2rYsNt5Fb"
      },
      "source": [
        "#library & package. \n",
        "#Jalankan ulang jika menambahkan library baru\n",
        "\n",
        "import pandas as pd, numpy as np, matplotlib.pyplot as plt\n",
        "import json, tweepy, requests, re\n",
        "import tweepy\n",
        "from tweepy import OAuthHandler\n",
        "import pandas as pd\n",
        "from Sastrawi.StopWordRemover.StopWordRemoverFactory import StopWordRemoverFactory\n",
        "from nltk.tokenize import word_tokenize\n",
        "from nltk.probability import FreqDist\n",
        "import nltk\n",
        "#!pip install Sastrawi"
      ],
      "execution_count": 172,
      "outputs": []
    },
    {
      "cell_type": "code",
      "source": [
        "df = pd.DataFrame([tweet.full_text for tweet in posts], columns=['Tweets'])"
      ],
      "metadata": {
        "id": "FgnMx2W2hwcN"
      },
      "execution_count": 173,
      "outputs": []
    },
    {
      "cell_type": "code",
      "metadata": {
        "id": "OhUpQdubuCo1",
        "outputId": "05afe3e1-98fe-4307-d6a1-c3a36b2221a8",
        "colab": {
          "base_uri": "https://localhost:8080/"
        }
      },
      "source": [
        "with open(\"token.json\")as f:\n",
        "  tokens = json.load(f)\n",
        "\n",
        "bearer_token = tokens['bearer_token']\n",
        "api_key = tokens['api_key']\n",
        "api_key_secret = tokens['api_key_secret']\n",
        "acces_token = tokens['acces_token']\n",
        "acces_token_secret = tokens['acces_token_secret']\n",
        "\n",
        "tokens.keys()"
      ],
      "execution_count": 174,
      "outputs": [
        {
          "output_type": "execute_result",
          "data": {
            "text/plain": [
              "dict_keys(['bearer_token', 'api_key', 'api_key_secret', 'acces_token', 'acces_token_secret'])"
            ]
          },
          "metadata": {},
          "execution_count": 174
        }
      ]
    },
    {
      "cell_type": "code",
      "metadata": {
        "id": "mbbPDXz6uYgG",
        "outputId": "223ebbce-28dc-44be-c547-a047f6fb84b2",
        "colab": {
          "base_uri": "https://localhost:8080/",
          "height": 53
        }
      },
      "source": [
        "#Apa kata kunci yang ingin kalian cari di twitter dan kenapa. \n",
        "#jelaskan singkat pada sel ini\n",
        "\"\"\"\n",
        "saya memilih pendidikan karena pentingnya pendidikan untuk generasi penerus bangsa, jika kita bandingkan dengan negara\n",
        "maju maka yang paling di prioritaskan bagaimana kualitas pendidikan nya\n",
        "\n",
        "\"\"\"\n"
      ],
      "execution_count": 175,
      "outputs": [
        {
          "output_type": "execute_result",
          "data": {
            "text/plain": [
              "'\\nsaya memilih pendidikan karena pentingnya pendidikan untuk generasi penerus bangsa, jika kita bandingkan dengan negara\\nmaju maka yang paling di prioritaskan bagaimana kualitas pendidikan nya\\n\\n'"
            ],
            "application/vnd.google.colaboratory.intrinsic+json": {
              "type": "string"
            }
          },
          "metadata": {},
          "execution_count": 175
        }
      ]
    },
    {
      "cell_type": "code",
      "metadata": {
        "id": "fHB0EmI4j1Ok"
      },
      "source": [
        "#ambil data pada twitter dengan kata kunci tersebut.\n",
        "#ambil sebanyak 300 tweet\n",
        "#masukkan pada datarame dan tampilkan dataframenya\n",
        "\n",
        "def cleanTxt(text):\n",
        "    text = re.sub('@[A-Za-z0–9]+', '', text) # Menghapus @mentions\n",
        "    text = re.sub('#', '', text) # Menghapus '#' hash tag\n",
        "    text = re.sub('RT[\\s]+', '', text) # Menghapus RT\n",
        "    text = re.sub('https?:\\/\\/\\S+', '', text) # Menghapus hyperlink\n",
        "    return text\n",
        "#auth = tweepy.OAuthHandler(api_key, api_key_secret)\n",
        "#auth.set_access_token(acces_token,acces_token_secret)\n",
        "#api = tweepy.API(auth, wait_on_rate_limit=True)\n"
      ],
      "execution_count": 176,
      "outputs": []
    },
    {
      "cell_type": "code",
      "source": [
        "df['Tweets'] = df['Tweets'].apply(cleanTxt)\n",
        "#posts = api.user_timeline(screen_name=\"pendidikan\", count = 300, lang =\"en\", tweet_mode=\"extended\")"
      ],
      "metadata": {
        "id": "fvzPHgCHbiZ3"
      },
      "execution_count": 177,
      "outputs": []
    },
    {
      "cell_type": "code",
      "source": [
        "#print(\"Berikut ini adalah 300 twit terakhir dari akun @Pendidikan:\\n\")\n",
        "df.head(300)\n",
        "\n",
        "#print(\"Berikut ini adalah 300 twit terakhir dari akun @Pendidikan:\\n\")\n",
        "#i=1\n",
        "#for tweet in posts[:10]:\n",
        "#    print(str(i) +') '+ tweet.full_text + '\\n')\n",
        "#    i= i+1"
      ],
      "metadata": {
        "id": "ZdAjFmmvfaY6",
        "outputId": "12bc83e5-0747-4d5f-c370-f6295819efe9",
        "colab": {
          "base_uri": "https://localhost:8080/",
          "height": 424
        }
      },
      "execution_count": 178,
      "outputs": [
        {
          "output_type": "execute_result",
          "data": {
            "text/plain": [
              "                                                Tweets\n",
              "0    Lama nian desa-desa di Distrik Tiplol Mayalibi...\n",
              "1    Saya telah menginstruksikan jajaran pemerintah...\n",
              "2    Meskipun kenaikan harga berbagai komoditas -- ...\n",
              "3    Pemerintah juga memperhatikan kenaikan harga p...\n",
              "4    Di antaranya Kartu Sembako bagi 18,8 juta pene...\n",
              "..                                                 ...\n",
              "195  Hari ini di Kab. Humbang Hasundutan, Sumatra U...\n",
              "196  Menanam pohon bersama masyarakat Desa Simangul...\n",
              "197  Di geladak KMP Kaldera Toba dalam perjalanan d...\n",
              "198  Dengan segenap upaya itu, konservasi terhadap ...\n",
              "199  Ini Kampung Ulos Huta Raja di Kab. Samosir yan...\n",
              "\n",
              "[200 rows x 1 columns]"
            ],
            "text/html": [
              "\n",
              "  <div id=\"df-89e56c3d-88ea-45f4-93f3-2518a26a876f\">\n",
              "    <div class=\"colab-df-container\">\n",
              "      <div>\n",
              "<style scoped>\n",
              "    .dataframe tbody tr th:only-of-type {\n",
              "        vertical-align: middle;\n",
              "    }\n",
              "\n",
              "    .dataframe tbody tr th {\n",
              "        vertical-align: top;\n",
              "    }\n",
              "\n",
              "    .dataframe thead th {\n",
              "        text-align: right;\n",
              "    }\n",
              "</style>\n",
              "<table border=\"1\" class=\"dataframe\">\n",
              "  <thead>\n",
              "    <tr style=\"text-align: right;\">\n",
              "      <th></th>\n",
              "      <th>Tweets</th>\n",
              "    </tr>\n",
              "  </thead>\n",
              "  <tbody>\n",
              "    <tr>\n",
              "      <th>0</th>\n",
              "      <td>Lama nian desa-desa di Distrik Tiplol Mayalibi...</td>\n",
              "    </tr>\n",
              "    <tr>\n",
              "      <th>1</th>\n",
              "      <td>Saya telah menginstruksikan jajaran pemerintah...</td>\n",
              "    </tr>\n",
              "    <tr>\n",
              "      <th>2</th>\n",
              "      <td>Meskipun kenaikan harga berbagai komoditas -- ...</td>\n",
              "    </tr>\n",
              "    <tr>\n",
              "      <th>3</th>\n",
              "      <td>Pemerintah juga memperhatikan kenaikan harga p...</td>\n",
              "    </tr>\n",
              "    <tr>\n",
              "      <th>4</th>\n",
              "      <td>Di antaranya Kartu Sembako bagi 18,8 juta pene...</td>\n",
              "    </tr>\n",
              "    <tr>\n",
              "      <th>...</th>\n",
              "      <td>...</td>\n",
              "    </tr>\n",
              "    <tr>\n",
              "      <th>195</th>\n",
              "      <td>Hari ini di Kab. Humbang Hasundutan, Sumatra U...</td>\n",
              "    </tr>\n",
              "    <tr>\n",
              "      <th>196</th>\n",
              "      <td>Menanam pohon bersama masyarakat Desa Simangul...</td>\n",
              "    </tr>\n",
              "    <tr>\n",
              "      <th>197</th>\n",
              "      <td>Di geladak KMP Kaldera Toba dalam perjalanan d...</td>\n",
              "    </tr>\n",
              "    <tr>\n",
              "      <th>198</th>\n",
              "      <td>Dengan segenap upaya itu, konservasi terhadap ...</td>\n",
              "    </tr>\n",
              "    <tr>\n",
              "      <th>199</th>\n",
              "      <td>Ini Kampung Ulos Huta Raja di Kab. Samosir yan...</td>\n",
              "    </tr>\n",
              "  </tbody>\n",
              "</table>\n",
              "<p>200 rows × 1 columns</p>\n",
              "</div>\n",
              "      <button class=\"colab-df-convert\" onclick=\"convertToInteractive('df-89e56c3d-88ea-45f4-93f3-2518a26a876f')\"\n",
              "              title=\"Convert this dataframe to an interactive table.\"\n",
              "              style=\"display:none;\">\n",
              "        \n",
              "  <svg xmlns=\"http://www.w3.org/2000/svg\" height=\"24px\"viewBox=\"0 0 24 24\"\n",
              "       width=\"24px\">\n",
              "    <path d=\"M0 0h24v24H0V0z\" fill=\"none\"/>\n",
              "    <path d=\"M18.56 5.44l.94 2.06.94-2.06 2.06-.94-2.06-.94-.94-2.06-.94 2.06-2.06.94zm-11 1L8.5 8.5l.94-2.06 2.06-.94-2.06-.94L8.5 2.5l-.94 2.06-2.06.94zm10 10l.94 2.06.94-2.06 2.06-.94-2.06-.94-.94-2.06-.94 2.06-2.06.94z\"/><path d=\"M17.41 7.96l-1.37-1.37c-.4-.4-.92-.59-1.43-.59-.52 0-1.04.2-1.43.59L10.3 9.45l-7.72 7.72c-.78.78-.78 2.05 0 2.83L4 21.41c.39.39.9.59 1.41.59.51 0 1.02-.2 1.41-.59l7.78-7.78 2.81-2.81c.8-.78.8-2.07 0-2.86zM5.41 20L4 18.59l7.72-7.72 1.47 1.35L5.41 20z\"/>\n",
              "  </svg>\n",
              "      </button>\n",
              "      \n",
              "  <style>\n",
              "    .colab-df-container {\n",
              "      display:flex;\n",
              "      flex-wrap:wrap;\n",
              "      gap: 12px;\n",
              "    }\n",
              "\n",
              "    .colab-df-convert {\n",
              "      background-color: #E8F0FE;\n",
              "      border: none;\n",
              "      border-radius: 50%;\n",
              "      cursor: pointer;\n",
              "      display: none;\n",
              "      fill: #1967D2;\n",
              "      height: 32px;\n",
              "      padding: 0 0 0 0;\n",
              "      width: 32px;\n",
              "    }\n",
              "\n",
              "    .colab-df-convert:hover {\n",
              "      background-color: #E2EBFA;\n",
              "      box-shadow: 0px 1px 2px rgba(60, 64, 67, 0.3), 0px 1px 3px 1px rgba(60, 64, 67, 0.15);\n",
              "      fill: #174EA6;\n",
              "    }\n",
              "\n",
              "    [theme=dark] .colab-df-convert {\n",
              "      background-color: #3B4455;\n",
              "      fill: #D2E3FC;\n",
              "    }\n",
              "\n",
              "    [theme=dark] .colab-df-convert:hover {\n",
              "      background-color: #434B5C;\n",
              "      box-shadow: 0px 1px 3px 1px rgba(0, 0, 0, 0.15);\n",
              "      filter: drop-shadow(0px 1px 2px rgba(0, 0, 0, 0.3));\n",
              "      fill: #FFFFFF;\n",
              "    }\n",
              "  </style>\n",
              "\n",
              "      <script>\n",
              "        const buttonEl =\n",
              "          document.querySelector('#df-89e56c3d-88ea-45f4-93f3-2518a26a876f button.colab-df-convert');\n",
              "        buttonEl.style.display =\n",
              "          google.colab.kernel.accessAllowed ? 'block' : 'none';\n",
              "\n",
              "        async function convertToInteractive(key) {\n",
              "          const element = document.querySelector('#df-89e56c3d-88ea-45f4-93f3-2518a26a876f');\n",
              "          const dataTable =\n",
              "            await google.colab.kernel.invokeFunction('convertToInteractive',\n",
              "                                                     [key], {});\n",
              "          if (!dataTable) return;\n",
              "\n",
              "          const docLinkHtml = 'Like what you see? Visit the ' +\n",
              "            '<a target=\"_blank\" href=https://colab.research.google.com/notebooks/data_table.ipynb>data table notebook</a>'\n",
              "            + ' to learn more about interactive tables.';\n",
              "          element.innerHTML = '';\n",
              "          dataTable['output_type'] = 'display_data';\n",
              "          await google.colab.output.renderOutput(dataTable, element);\n",
              "          const docLink = document.createElement('div');\n",
              "          docLink.innerHTML = docLinkHtml;\n",
              "          element.appendChild(docLink);\n",
              "        }\n",
              "      </script>\n",
              "    </div>\n",
              "  </div>\n",
              "  "
            ]
          },
          "metadata": {},
          "execution_count": 178
        }
      ]
    },
    {
      "cell_type": "code",
      "source": [
        "df.columns = ['clean_tweet']\n",
        "df\n",
        "#untuk mengubah nama kolom saya simpan disini"
      ],
      "metadata": {
        "id": "RS07-3FSon4c",
        "outputId": "f1bc218c-3f1e-4f4f-fcda-5d736e20cdfa",
        "colab": {
          "base_uri": "https://localhost:8080/",
          "height": 424
        }
      },
      "execution_count": 179,
      "outputs": [
        {
          "output_type": "execute_result",
          "data": {
            "text/plain": [
              "                                           clean_tweet\n",
              "0    Lama nian desa-desa di Distrik Tiplol Mayalibi...\n",
              "1    Saya telah menginstruksikan jajaran pemerintah...\n",
              "2    Meskipun kenaikan harga berbagai komoditas -- ...\n",
              "3    Pemerintah juga memperhatikan kenaikan harga p...\n",
              "4    Di antaranya Kartu Sembako bagi 18,8 juta pene...\n",
              "..                                                 ...\n",
              "195  Hari ini di Kab. Humbang Hasundutan, Sumatra U...\n",
              "196  Menanam pohon bersama masyarakat Desa Simangul...\n",
              "197  Di geladak KMP Kaldera Toba dalam perjalanan d...\n",
              "198  Dengan segenap upaya itu, konservasi terhadap ...\n",
              "199  Ini Kampung Ulos Huta Raja di Kab. Samosir yan...\n",
              "\n",
              "[200 rows x 1 columns]"
            ],
            "text/html": [
              "\n",
              "  <div id=\"df-bbc3579f-ae96-45bb-a8fc-76bf30002109\">\n",
              "    <div class=\"colab-df-container\">\n",
              "      <div>\n",
              "<style scoped>\n",
              "    .dataframe tbody tr th:only-of-type {\n",
              "        vertical-align: middle;\n",
              "    }\n",
              "\n",
              "    .dataframe tbody tr th {\n",
              "        vertical-align: top;\n",
              "    }\n",
              "\n",
              "    .dataframe thead th {\n",
              "        text-align: right;\n",
              "    }\n",
              "</style>\n",
              "<table border=\"1\" class=\"dataframe\">\n",
              "  <thead>\n",
              "    <tr style=\"text-align: right;\">\n",
              "      <th></th>\n",
              "      <th>clean_tweet</th>\n",
              "    </tr>\n",
              "  </thead>\n",
              "  <tbody>\n",
              "    <tr>\n",
              "      <th>0</th>\n",
              "      <td>Lama nian desa-desa di Distrik Tiplol Mayalibi...</td>\n",
              "    </tr>\n",
              "    <tr>\n",
              "      <th>1</th>\n",
              "      <td>Saya telah menginstruksikan jajaran pemerintah...</td>\n",
              "    </tr>\n",
              "    <tr>\n",
              "      <th>2</th>\n",
              "      <td>Meskipun kenaikan harga berbagai komoditas -- ...</td>\n",
              "    </tr>\n",
              "    <tr>\n",
              "      <th>3</th>\n",
              "      <td>Pemerintah juga memperhatikan kenaikan harga p...</td>\n",
              "    </tr>\n",
              "    <tr>\n",
              "      <th>4</th>\n",
              "      <td>Di antaranya Kartu Sembako bagi 18,8 juta pene...</td>\n",
              "    </tr>\n",
              "    <tr>\n",
              "      <th>...</th>\n",
              "      <td>...</td>\n",
              "    </tr>\n",
              "    <tr>\n",
              "      <th>195</th>\n",
              "      <td>Hari ini di Kab. Humbang Hasundutan, Sumatra U...</td>\n",
              "    </tr>\n",
              "    <tr>\n",
              "      <th>196</th>\n",
              "      <td>Menanam pohon bersama masyarakat Desa Simangul...</td>\n",
              "    </tr>\n",
              "    <tr>\n",
              "      <th>197</th>\n",
              "      <td>Di geladak KMP Kaldera Toba dalam perjalanan d...</td>\n",
              "    </tr>\n",
              "    <tr>\n",
              "      <th>198</th>\n",
              "      <td>Dengan segenap upaya itu, konservasi terhadap ...</td>\n",
              "    </tr>\n",
              "    <tr>\n",
              "      <th>199</th>\n",
              "      <td>Ini Kampung Ulos Huta Raja di Kab. Samosir yan...</td>\n",
              "    </tr>\n",
              "  </tbody>\n",
              "</table>\n",
              "<p>200 rows × 1 columns</p>\n",
              "</div>\n",
              "      <button class=\"colab-df-convert\" onclick=\"convertToInteractive('df-bbc3579f-ae96-45bb-a8fc-76bf30002109')\"\n",
              "              title=\"Convert this dataframe to an interactive table.\"\n",
              "              style=\"display:none;\">\n",
              "        \n",
              "  <svg xmlns=\"http://www.w3.org/2000/svg\" height=\"24px\"viewBox=\"0 0 24 24\"\n",
              "       width=\"24px\">\n",
              "    <path d=\"M0 0h24v24H0V0z\" fill=\"none\"/>\n",
              "    <path d=\"M18.56 5.44l.94 2.06.94-2.06 2.06-.94-2.06-.94-.94-2.06-.94 2.06-2.06.94zm-11 1L8.5 8.5l.94-2.06 2.06-.94-2.06-.94L8.5 2.5l-.94 2.06-2.06.94zm10 10l.94 2.06.94-2.06 2.06-.94-2.06-.94-.94-2.06-.94 2.06-2.06.94z\"/><path d=\"M17.41 7.96l-1.37-1.37c-.4-.4-.92-.59-1.43-.59-.52 0-1.04.2-1.43.59L10.3 9.45l-7.72 7.72c-.78.78-.78 2.05 0 2.83L4 21.41c.39.39.9.59 1.41.59.51 0 1.02-.2 1.41-.59l7.78-7.78 2.81-2.81c.8-.78.8-2.07 0-2.86zM5.41 20L4 18.59l7.72-7.72 1.47 1.35L5.41 20z\"/>\n",
              "  </svg>\n",
              "      </button>\n",
              "      \n",
              "  <style>\n",
              "    .colab-df-container {\n",
              "      display:flex;\n",
              "      flex-wrap:wrap;\n",
              "      gap: 12px;\n",
              "    }\n",
              "\n",
              "    .colab-df-convert {\n",
              "      background-color: #E8F0FE;\n",
              "      border: none;\n",
              "      border-radius: 50%;\n",
              "      cursor: pointer;\n",
              "      display: none;\n",
              "      fill: #1967D2;\n",
              "      height: 32px;\n",
              "      padding: 0 0 0 0;\n",
              "      width: 32px;\n",
              "    }\n",
              "\n",
              "    .colab-df-convert:hover {\n",
              "      background-color: #E2EBFA;\n",
              "      box-shadow: 0px 1px 2px rgba(60, 64, 67, 0.3), 0px 1px 3px 1px rgba(60, 64, 67, 0.15);\n",
              "      fill: #174EA6;\n",
              "    }\n",
              "\n",
              "    [theme=dark] .colab-df-convert {\n",
              "      background-color: #3B4455;\n",
              "      fill: #D2E3FC;\n",
              "    }\n",
              "\n",
              "    [theme=dark] .colab-df-convert:hover {\n",
              "      background-color: #434B5C;\n",
              "      box-shadow: 0px 1px 3px 1px rgba(0, 0, 0, 0.15);\n",
              "      filter: drop-shadow(0px 1px 2px rgba(0, 0, 0, 0.3));\n",
              "      fill: #FFFFFF;\n",
              "    }\n",
              "  </style>\n",
              "\n",
              "      <script>\n",
              "        const buttonEl =\n",
              "          document.querySelector('#df-bbc3579f-ae96-45bb-a8fc-76bf30002109 button.colab-df-convert');\n",
              "        buttonEl.style.display =\n",
              "          google.colab.kernel.accessAllowed ? 'block' : 'none';\n",
              "\n",
              "        async function convertToInteractive(key) {\n",
              "          const element = document.querySelector('#df-bbc3579f-ae96-45bb-a8fc-76bf30002109');\n",
              "          const dataTable =\n",
              "            await google.colab.kernel.invokeFunction('convertToInteractive',\n",
              "                                                     [key], {});\n",
              "          if (!dataTable) return;\n",
              "\n",
              "          const docLinkHtml = 'Like what you see? Visit the ' +\n",
              "            '<a target=\"_blank\" href=https://colab.research.google.com/notebooks/data_table.ipynb>data table notebook</a>'\n",
              "            + ' to learn more about interactive tables.';\n",
              "          element.innerHTML = '';\n",
              "          dataTable['output_type'] = 'display_data';\n",
              "          await google.colab.output.renderOutput(dataTable, element);\n",
              "          const docLink = document.createElement('div');\n",
              "          docLink.innerHTML = docLinkHtml;\n",
              "          element.appendChild(docLink);\n",
              "        }\n",
              "      </script>\n",
              "    </div>\n",
              "  </div>\n",
              "  "
            ]
          },
          "metadata": {},
          "execution_count": 179
        }
      ]
    },
    {
      "cell_type": "markdown",
      "source": [
        ""
      ],
      "metadata": {
        "id": "wv7VZ5WtbfzU"
      }
    },
    {
      "cell_type": "markdown",
      "source": [
        ""
      ],
      "metadata": {
        "id": "8aDVeCNYahvi"
      }
    },
    {
      "cell_type": "code",
      "metadata": {
        "id": "PSFov6PzlA8U"
      },
      "source": [
        "#Lakukan Text Preprocessing (lakukan sebaik mungkin). Masukkan pada dataframe kalian dengan nama kolom tweet_clean.\n",
        "#jangan lupa lakukan pembersihan slang word/bahasa gaul\n",
        "#Tampilkan dataframe\n",
        "def remove_slang(text:list):\n",
        "   \n",
        "    result = []\n",
        "    for word in text:\n",
        "        if word not in stopwords:\n",
        "            result.append(word)\n",
        "    return result"
      ],
      "execution_count": 180,
      "outputs": []
    },
    {
      "cell_type": "code",
      "source": [
        "df = remove_stopwords(df['clean_tweet'])\n",
        "print(df)"
      ],
      "metadata": {
        "id": "1Z2ZD0WUnZ9T",
        "outputId": "3eb97de6-735a-411a-dcfe-0c9a9edc08b9",
        "colab": {
          "base_uri": "https://localhost:8080/"
        }
      },
      "execution_count": 181,
      "outputs": [
        {
          "output_type": "stream",
          "name": "stdout",
          "text": [
            "['Lama nian desa-desa di Distrik Tiplol Mayalibit, Papua tak terhubung ke dunia luar. Khalayak jadi tak tahu potensi dan kekayaan alam Tiplol Mayalibit. Sampai BAKTI datang membangun pemancar, dan warga Distrik Tiplol Mayalibit pun bisa melongok dunia yang lebih luas. ', 'Saya telah menginstruksikan jajaran pemerintah untuk melihat secara detail harga-harga pangan dan energi itu, dan mencermati pilihan kebijakan yang bisa kita ambil. Dengan begitu, di satu sisi kita menjaga daya beli masyarakat, menjaga momentum ekonomi, tapi juga menjaga APBN.', 'Meskipun kenaikan harga berbagai komoditas -- minyak, gas, batu bara, nikel, maupun minyak sawit mentah atau CPO -- akan memberikan daya tambah dari sisi penerimaan negara, namun di sisi lain masyarakat akan turut merasakan rambatan inflasi global yang disebabkannya. ', 'Pemerintah juga memperhatikan kenaikan harga pupuk. Untuk pupuk subsidi, pemerintah akan membatasinya pada pupuk urea dan NPK. \\n\\nSaya berharap segenap bantuan dan subsidi tersebut dapat tepat sasaran.', 'Di antaranya Kartu Sembako bagi 18,8 juta penerima, PKH dengan tambahan 2 juta penerima. BLT minyak goreng Rp300.000 untuk 3 bulan. Program BLT Dana Desa dilanjutkan. \\n\\nAda juga Bantuan Subsidi Upah untuk 8,8 juta pekerja bergaji di bawah Rp3,5 juta, sebesar Rp1 juta per orang.', 'Situasi geopolitik di Rusia dan Ukraina berpengaruh ke Indonesia dalam bentuk kenaikan harga pangan, energi, serta kenaikan inflasi. \\n\\nUntuk itu, pemerintah perlu mempersiapkan berbagai perlindungan sosial agar rakyat tidak menanggung seluruh beban akibat kenaikan harga itu. ', 'Marhaban ya Ramadan. Mari menyambut datangnya bulan suci Ramadan 1443 Hijriah, dan menjadikannya momentum untuk meningkatkan keimanan dan ketakwaan. Semoga Allah SWT senantiasa melindungi bangsa Indonesia. ', 'Situasi pandemi yang membaik tahun ini membawa optimisme sehingga kita dapat beribadah salat tarawih berjamaah di masjid dengan tetap menerapkan disiplin protokol kesehatan. \\n\\nMarhaban ya Ramadan. Semoga segenap ibadah kita dilancarkan, dimudahkan, dan diterima oleh Allah SWT. ', 'Saudara-saudara sebangsa dan setanah air. Untuk meringankan beban masyarakat karena naiknya harga minyak goreng, pemerintah akan memberikan Bantuan Langsung Tunai (BLT) Minyak Goreng bagi 20,5 juta keluarga dan 2,5 juta PKL yang berjualan makanan gorengan. ', 'MoU tersebut mengatur penggunaan sistem satu kanal sebagai sistem perekrutan hingga pengawasan untuk perlindungan maksimal bagi para pekerja migran Indonesia (PMI). \\n\\nKami juga berdiskusi mengenai praktik penyelundupan manusia, serta batas negara maritim dan darat kedua negara. ', 'Saya menyambut kedatangan PM Ismail Sabri bin Yaakob di Istana Merdeka, siang tadi. Pada kunjungan kedua PM Ismail Sabri ini, kami menyaksikan penandatanganan MoU tentang Penempatan dan Perlindungan Pekerja Migran Indonesia Sektor Domestik di Malaysia oleh menteri kedua negara. ', 'Saya menyambut kedatangan Perdana Menteri Papua Nugini James Marape dan Ibu Rachel Marape di Istana Bogor, hari ini. \\n\\nDalam pertemuan bilateral, kami membahas peningkatan kerja sama di berbagai bidang, di antaranya bidang perdagangan yang meningkat 87%  selama tahun 2021. ', 'Semua pihak harus taat pada konstitusi yang sudah jelas mengatur soal masa jabatan presiden. Konstitusi kita sudah jelas. Dan kita harus taat, harus patuh, terhadap konstitusi. Itu saja. ', 'Data yang saya terima, setidaknya 79 juta orang menyatakan hendak mudik Lebaran tahun ini. Jadi, janganlah dibandingkan dengan MotoGP yang penontonnya 60 ribu orang. \\n\\nPenanganan pemudik ini harus hati-hati. Calon pemudik sudah harus menerima vaksinasi yang lengkap dan booster. ', 'Saat berkunjung ke Pondok Pesantren API siang tadi, saya juga melihat sendiri bahwa kedisiplinan seluruh santri dalam melakukan protokol kesehatan, utamanya mengenakan masker, sudah baik. \\n\\nSaya berharap Pondok Pesantren API bisa menjadi contoh bagi sekolah atau pesantren lain. ', 'Seluruh santri Pondok Pesantren Asrama Perguruan Islam (API) Asri Syubbanul Wathon, di Tegalrejo, Kabupaten Magelang, telah menerima dua dosis vaksinasi Covid-19. Sebagian bahkan sudah menerima vaksin booster, terutama para guru. Alhamdulillah. ', 'Dua tahun terakhir, jalan-jalan sekitar Candi Borobudur diperlebar, jalur ke arah candi dipercantik. \\n\\nSelain dari sisi infrastruktur, penting juga adanya penyelenggaraan ajang-ajang seni budaya secara rutin di destinasi wisata Tanah Air, untuk menarik banyak wisatawan. ', 'Seraya berkunjung, saya juga menyampaikan bantuan tunai bagi para pedagang di kedua pasar, semoga dapat meringankan beban para pedagang yang terkena dampak pandemi Covid-19. ', 'Menjelang Ramadan ini saya mengecek langsung ketersediaan bahan kebutuhan pokok masyarakat, termasuk minyak goreng, di pasar tradisional. Dua pasar saya kunjungi di Jawa Tengah hari ini, yakni Pasar Baledono di Kab. Purworejo dan Pasar Rakyat di Desa Tempurejo, Kab. Magelang. ', 'Tiba di Bandara Internasional Yogyakarta (YIA), Kab. Kulon Progo, pagi ini, saya langsung meninjau beberapa fasilitas bandara, melihat kedisiplinan calon penumpang menjalankan protokol kesehatan, juga mengecek kesiapan bandara menyambut mudik Lebaran. ', 'Selamat pagi. Saya ke Yogyakarta dan Jawa Tengah hari ini untuk kunjungan kerja ke sejumlah tempat. Saya hendak meninjau fasilitas Bandara Internasional Yogyakarta, mengunjungi sebuah pesantren di Magelang, dan meninjau infrastruktur fasilitas pariwisata di Candi Borobudur. ', 'Terhentinya produksi film, penutupan bioskop, kehilangan sejumlah tokoh selama pandemi, menjadi ujian berat bagi insan film nasional dua tahun ini.\\n\\nKini, pandemi kian melandai, ekonomi kian menggeliat, dan kita melihat asa kebangkitan film nasional Indonesia terbuka lebar. ', 'Saya meminta pemerintah desa untuk mengelola, memanfaatkan, serta merealisasikan dana desa sebaik mungkin sehingga dapat memacu pertumbuhan ekonomi di desa dan secara keseluruhan akan meningkatkan pertumbuhan ekonomi nasional.', 'Sampai tahun 2022 ini, pemerintah telah menyalurkan dana desa Rp468 triliun untuk membangun berbagai fasilitas seperti jalan desa, embung, irigasi, jembatan, dan infrastruktur lainnya. \\n\\nContohnya, saat ini telah terbangun 227.000 km jalan desa yang dibiayai dari dana desa. ', 'Mereka telah bekerja keras, menganjurkan masyarakat untuk vaksinasi, untuk memakai masker, untuk menjaga jarak, untuk cuci tangan. Peran para perangkat desa ini menjadi ciri khas tersendiri bagi bangsa Indonesia dalam penanganan Covid-19.', 'Asosiasi Pemerintah Desa Seluruh Indonesia (Apdesi) menggelar acara silaturahmi nasional di Istora Senayan, hari ini. \\n\\nSaya hadir dan menyampaikan apresiasi atas peran para perangkat desa yang telah bekerja keras membantu pemerintah dalam penanganan pandemi Covid-19. ', 'Saya menargetkan jumlah pelaku UMKM yang masuk ke dalam ekosistem digital sebanyak 20 juta tahun ini dan terus meningkat. \\n\\nAdapun koperasi, saya berharap koperasi modern berbasis digital dapat terus meningkat, dari 250 koperasi tahun 2022 menjadi 400 koperasi tahun 2023, dst.', 'Digitalisasi telah menjadi solusi bagi para pelaku UMKM dan koperasi untuk terus berkembang pada masa pandemi Covid-19. \\n\\nMomentum tersebut harus terus dimanfaatkan sebaik-baiknya untuk meningkatkan jumlah pelaku UMKM ke dalam ekosistem digital. ', 'Menerima kunjungan Presiden Islamic Development Bank, Mohammed Al Jasser, bersama delegasi, siang ini di Istana Merdeka.\\n\\nKami membahas kerja sama di bidang pendidikan, kesehatan, infrastruktur, dll.  \\n\\nSaya menghargai dukungan Presiden Al Jasser untuk presidensi G20 Indonesia. ', 'Beberapa waktu lalu, Buya Syafii Maarif dirawat di rumah sakit. Syukur Alhamdulillah, beliau sudah sehat. \\n\\nHari ini, saya datang menjenguk Buya Syafii di kediaman beliau di Sleman. Keadaan beliau semakin membaik. \\n\\nSemoga Buya Syafii selalu diberikan kesehatan oleh Allah SWT. ', 'Dari Garuda Wisnu Kencana Cultural Park, saya mampir ke Pasar Alas Kusuma, Kab. Badung, dan membagikan Bantuan Langsung Tunai (BLT) kepada pedagang kaki lima dan warung di pasar itu. Semoga bermanfaat. ', 'Saya mengunjungi Garuda Wisnu Kencana (GWK) Cultural Park, Kabupaten Badung, Bali, sore tadi. \\n\\nGWK Cultural Park ini jadi salah satu lokasi acara jamuan makan malam untuk para delegasi Konferensi Tingkat Tinggi (KTT) G20 pada tanggal 15-16 November mendatang. ', 'Ultra fast charging ini mengisi daya kendaraan listrik sangat cepat, kurang dari 30 menit untuk satu kendaraan. \\n\\nSaya mengajak seluruh pihak untuk menjadikan presidensi G20 sebagai kesempatan untuk menujukkan komitmen Indonesia terhadap pengurangan emisi karbondioksida (CO2).', 'Di Bali siang ini, saya meresmikan peluncuran Stasiun Pengisian Kendaraan Listrik Umum (SPKLU) Ultra Fast Charging pertama di Indonesia. \\n\\nPLN telah mempersiapkan 60 SPKLU Ultra Fast Charging dan 150 titik home charging untuk delegasi KTT G20 di Bali pada November mendatang. ', 'Saya menargetkan hingga Mei 2022, anggaran sebesar Rp400 triliun digunakan untuk pembelian barang dari dalam negeri. Segera juga dorong UKM-UKM di daerah untuk masuk ke e-Katalog sebanyak-banyaknya. \\n\\nHal ini penting untuk memacu pertumbuhan ekonomi  dan membuka lapangan kerja.', 'Para menteri, kepala lembaga, kepala daerah, dan BUMN saya tekankan agar memanfaatkan APBN, APBD, serta anggaran BUMN untuk membeli produk dalam negeri.\\n\\nSementara LKPP, saya minta menyediakan berbagai macam produk yang dibutuhkan oleh pemerintah dalam platform yang tersedia. ', 'Apabila produksi yang dihasilkan di lahan 53 ha ini bagus, lahannya akan diperluas sampai 500 ha, bahkan dikembangkan di daerah lain.\\n\\nSelain pengairan, saya juga mendorong pemanfaatan teknologi alat dan mesin pertanian (alsintan) yang cocok untuk lahan sulit seperti di NTT ini. ', 'Saya ke Desa Fatuketi, Kab. Belu, sore tadi untuk ikut menanam jagung bersama masyarakat di lahan seluas 53 ha. \\n\\nSumber airnya ada dua, yakni memanfaatkan sumur air tanah dan aliran air dari Bendungan Rotiklot di Kab. Belu yang telah beroperasi sejak 2018 lalu. ', 'Pembangunan SDM adalah fondasi untuk Indonesia Maju. Karena itu, pelayanan pendidikan harus merata di seluruh Tanah Air, bisa diakses oleh seluruh masyarakat, dan memiliki kualitas yang baik. Itu yang kita lihat dari keberadaan Politeknik Dr. Aloysius Benedictus Mboi ini. ', 'Hari ini saya meresmikan Politeknik Dr. Aloysius Benedictus Mboi, Universitas Pertahanan Republik Indonesia di Kab. Belu, NTT.\\n\\nDengan adanya kampus ini, saya berharap keterampilan anak-anak muda di daerah sekitar terus meningkat, dan memenuhi kebutuhan industri dan dunia usaha. ', 'Pasar Inpres Soe di Kabupaten Timor Tengah Selatan begitu ramai ketika saya datang berkunjung siang tadi. Kepada para pedagang kaki lima dan warung yang berjualan di pasar itu, saya menyerahkan bantuan tunai, semoga bisa meringankan dampak pandemi yang mereka alami. ', 'Mengunjungi Desa Oinlasi di Kab. Timor Tengah Selatan, siang ini. Pompa hidram yang mengalirkan air untuk kebutuhan 54 KK di desa itu telah terpasang.\\n\\nSebanyak 227 pompa hidram telah dibangun di seluruh Bali dan Nusa Tenggara, 175 di antaranya di NTT. ', 'Untuk mencapai target 14% itu, pemerintah akan melakukan intervensi terhadap gizi anak, kondisi rumah, dan ketersediaan air. Ini harus dikerjakan secara terpadu yang melibatkan pemerintah kabupaten/kota, provinsi, pusat, dan seluruh masyarakat. ', 'Siang ini saya datang ke Desa Kesetnana di Kab. Timor Tengah Selatan, NTT meninjau program percepatan penurunan stunting yang dilaksanakan oleh BKKBN.\\n\\nPemerintah menargetkan angka prevalensi kekerdilan atau stunting pada tahun 2024 berada di bawah 14%. ', 'Bantuan tunai untuk para pedagang kaki lima dan warung di Pasar Penfui, Kota Kupang. Semoga membantu meringankan beban para pedagang yang terdampak pandemi Covid-19. ', 'Dari laporan Kementerian PUPR, penataan Kota Kupang ini mencakup area 51.900 m2, yang dilaksanakan sepanjang 2020-2021. Kawasan Kota Lama menjadi destinasi wisata kuliner yang akan menampung 140 pedagang lokal, juga sebagai ruang terbuka publik untuk atraksi seni dan budaya. ', 'Kota Kupang jauh berubah. Sejumlah kawasan di ibu kota Provinsi NTT itu telah ditata menjadi lebih mengesankan, lebih membuat nyaman. \\n\\nSebut saja kawasan Kota Lama Kupang, tepatnya di Pantai Lai-Lai Besi Kopan (LLBK), lalu Pantai Kelapa Lima, serta Koridor 3 Jalan Frans Seda. ', 'Situasi pandemi Covid-19 di Indonesia kian membaik. Pemerintah memutuskan untuk mengambil beberapa langkah pelonggaran terkait kebijakan pelaku perjalanan dari luar negeri (PPLN), ibadah di bulan Ramadan, dan mudik Lebaran.\\n\\n', 'Saya menuju Nusa Tenggara Timur malam ini untuk kunjungan kerja esok hari. \\n\\nDi NTT, saya antara lain hendak meresmikan penataan kawasan Kota Kupang, meninjau program penurunan stunting di Timor Tengah Selatan, dan meresmikan Kampus Politeknik Aloysius Benedictus Mboi. ', 'Hari ini saya menerima para ketua umum 12 organisasi mahasiswa Kelompok Cipayung Plus, yakni dari HMI, GMKI, PMII, PMKRI, KMHDI, IMM, HIKMAHBUDHI, LMND, PII, HIMA PERSIS, KAMMI, dan GMNI.\\n\\nKami berdiskusi tentang program Rumah Kebangsaan, IKN, hingga soal harga bahan pokok. ', 'Salah satu pameran produk kerajinan terbesar di Asia Tenggara tersebut diikuti 722 peserta individu, binaan dinas-dinas dan BUMN, serta toko-toko daring. \\n\\nINACRAFT tahun 2022 menampilkan produk-produk kerajinan yang memiliki kualitas yang baik kreasi para pengrajin kita. ', 'Dua tahun vakum karena pandemi, INACRAFT kembali digelar tahun ini. \\n\\nThe 22nd Jakarta International Handicraft Trade Fair 2022 itu saya buka hari ini di Jakarta Convention Center. Pameran akan berlangsung 23-27 Maret 2022. ', 'ASEAN Para Games 2022 akan dilaksanakan pada akhir bulan Juli di Jawa Tengah. Kenapa di sana? Karena pemusatan latihan dari atlet-atlet paralympic kita ada di Jawa Tengah, dan adanya dukungan fasilitas untuk acara.', 'Sedianya, ASEAN Para Games 2022 hendak digelar di Vietnam, namun tidak jadi karena beberapa kendala. \\n\\nMempertimbangkan fasilitas dan pengalaman yang kita miliki, maka Indonesia yang pernah menjadi tuan rumah ASEAN Para Games 2011 mengajukan diri menjadi tuan rumah. ', 'Saya bertemu Ketua Majelis Nasional Republik Korea, Park Byeong Seug, di Bali, tadi malam. \\n\\nKami berbincang antara lain soal komitmen investasi Korea Selatan di industri mobil listrik dan ekosistemnya di Indonesia. ', 'Saya membuka Sidang Ke-144 Assembly of The Inter-Parliamentary Union (IPU) and Related Meetings di Bali Internasional Convention Center, Kab. Badung, tadi malam. \\n\\nIPU adalah organisasi parlemen internasional yang beranggotakan 179 lembaga parlemen dan 13 asosiasi. ', 'Kejutan datang dari kejuaraan bulutangkis All England 2022 di Birmingham, Inggris, malam ini. Ganda putra muda Indonesia yang baru menjalani debutnya di All England, Muhammad Shohibul Fikri/Bagas Maulana, menjadi juara dengan mengalahkan Mohammad Ahsan/Hendra Setiawan. \\n\\nSelamat. ', 'Saya datang menyaksikan langsung balapan MotoGP 2022 di Sirkuit Mandalika, Kabupaten Lombok Tengah, NTB. Balapan di sirkuit yang indah ini sungguh luar biasa dan penuh kejutan.\\n\\nSelamat kepada para juara, sampai jumpa di MotoGP pada tahun-tahun mendatang. ', 'Terima kasih kepada seluruh masyarakat, terutama masyarakat NTB, yang mendukung gelaran balap motor dunia ini.\\n\\nTerima kasih juga kepada seluruh pihak, yang telah bekerja siang malam menyiapkan MotoGP 2022. Memang masih ada kekurangan, dan itu akan kita perbaiki tahun depan.', 'Saya sendiri tadinya menjagokan Marc Marquez, tetapi kenyataannya ia batal ikut setelah jatuh saat pemanasan sebelum balapan berlangsung. Marquez absen, lalu saya menjagokan Fabio Quartararo. Di akhir balapan, ternyata Fabio juara dua. Selamat.', 'Selesai sudah balapan MotoGP 2022 di Sirkuit Mandalika. Ada banyak yang bisa diingat dan diceritakan para pembalap, panitia, sampai penonton, dari balapan akbar dunia ini: dari suasana Mandalika, sirkuit yang indah, hujan menjelang balapan, sampai kejutan-kejutan di lapangan. ', 'Selamat kepada Miguel Oliveira, pemenang MotoGP Indonesia 2022, juga kepada Fabio Quartararo yang menempati urutan kedua dan Johann Zarco di urutan ketiga. ', 'Hujan turun di Mandalika sebelum laga MotoGP. Saya pun ke paddock sirkuit, bertanya ke CEO Dorna Sports Carmelo Ezpeleta: hujan begini, apa yang dilakukan biasanya?\\n\\n“Kita menunggu dan kami yakin sebentar lagi lomba bisa dimulai,” katanya.\\n\\nBenar, hujan reda. Balapan pun digelar. ', 'Menjelang puncak balapan MotoGP 2022 di Sirkuit Mandalika, sesaat lagi. ', 'Menjelang siang ini, saya menuju NTB untuk menyaksikan puncak balapan MotoGP 2022 di Sirkuit Mandalika, sekaligus menyerahkan piala kepada pemenang di podium.\\n\\nDari Lombok, saya akan ke Bali untuk membuka Sidang Ke-144 The Inter-Parliamentary Union (IPU) di Kab. Badung. ', 'Saya juga sempat berbincang dengan delegasi Mesir tentang sejumlah hal, antara lain upaya untuk meningkatkan kerja sama ekonomi, termasuk perdagangan dan investasi, serta pendidikan. Di tengah pandemi pada tahun lalu, perdagangan kedua negara bahkan mengalami kenaikan 57,6 %', 'Menteri Luar Negeri Mesir Sameh Shoukry berkunjung ke Istana Merdeka hari ini, menyampaikan undangan dari Presiden Abdel Fattah El-Sisi kepada saya untuk menghadiri KTT Perubahan Iklim atau COP27. KTT tersebut akan digelar di Mesir, November mendatang. ', 'Untuk para perawat, yang terdepan bersama rakyat di saat pandemi Covid-19 datang mendera, kita haturkan terima kasih nan tak terhingga. ', 'Beberapa investor akan memulai konstruksi pengolahan nikel dan kobalt Indonesia menjadi bahan material litium baterai. \\n\\nTahun 2024, mobil listrik produksi Indonesia sudah menggunakan baterai listrik dan komponen-komponen penting lainnya yang diproduksi di Indonesia.', 'Pemerintah akan selalu mendukung setiap investasi kendaraan listrik di Indonesia dan juga pengembangan industri hulunya terutama industri baterai.\\n\\nKita punya nikel, kobalt, bauksit, sampai  tembaga yang dibutuhkan untuk baterai dan sistem kabel-kabel di mobil listrik.', 'Saya meluncurkan mobil listrik Hyundai IONIQ 5 dari pabrik PT Hyundai Motor Manufacturing Indonesia di Bekasi, siang tadi. \\n\\nInilah mobil listrik pertama yang dirakit di Indonesia untuk memenuhi pasar Indonesia dan ekspor. ', 'Di antara mereka ada Marc Marquez, Pol Espargaro, Joan Mir, Johann Zarco, dan Andrea Dovizioso. Selain pembalap, hadir juga CEO Dorna Carmelo Ezpeleta.\\n\\nDari depan istana, saya melepas para pembalap MotoGP ini melaju dengan sepeda motor dalam parade promosi Mandalika MotoGP 2022.', 'Sejumlah pembalap dunia yang akan berlomba di ajang Pertamina Grand Prix of Indonesia, seri kedua MotoGP 2022 di Sirkuit Mandalika akhir pekan ini bertandang ke Istana Merdeka, pagi ini. \\n\\nMereka membawa sepeda motor masing-masing dan diparkir di jalan di depan istana. ', 'Memperhatikan kenaikan harga komoditas minyak nabati, termasuk minyak kelapa sawit global, pemerintah memutuskan untuk menyubsidi harga minyak kelapa sawit curah. \\n\\nPemerintah juga terus memperhatikan dengan sungguh-sungguh ketersediaan dan distribusi minyak goreng di pasaran. ', 'Selamat pagi, Indonesia 🇮🇩 ', 'Duduk melingkar di sekitar Titik Nol Ibu Kota Nusantara, siang tadi, saya mendengarkan para tokoh adat dan agama setempat. \\n\\nPara tokoh adat berharap agar pembangunan IKN tidak hanya mengenai infrastruktur, tetapi juga pengembangan sumber daya manusia Kalimantan. ', 'Persemaian Mentawir di Kab. Penajam Paser Utara ini  akan menghasilkan jutaan bibit untuk ditanam di lahan-lahan kritis di lokasi IKN. \\n\\nJenis pohonnya, dari kayu nyatoh, meranti, gaharu, hingga jambu-jambuan yang kelak menarik hewan dan burung-burung ke habitatnya di IKN.', 'Pembangunan Ibu Kota Nusantara akan kita awali dengan merehabilitasi hutan-hutan yang ada, agar area-area di IKN dan sekitarnya kembali pada fungsi semula yaitu sebagai hutan tropis, bukan hutan yang monokultur atau yang homogen. ', 'Sebelum istana dibangun, sebelum bangunan-bangunan kantor pemerintah berdiri ... ', 'Terima kasih kepada seluruh gubernur, lembaga tinggi negara, MPR RI, DPR RI, DPD RI, MA, MK, BPK, Komisi Yudisial dan seluruh komponen masyarakat atas dukungannya untuk pembangunan IKN. \\n\\nSemoga Allah SWT memberikan kemudahan dan kelancaran untuk upaya kita membangun IKN ini.', 'Penyatuan tanah dan air ini adalah simbol kebinekaan dan persatuan Indonesia. \\n\\nKolaborasi antara pemerintah pusat dan daerah, TNI, Polri, swasta, dan seluruh masyarakat mendukung pembangunan ibu kota negara ini, sangat membantu agar yang kita cita-citakan ini segera terwujud.', 'Seluruh gubernur atau yang mewakili dari 34 provinsi hadir di Titik Nol IKN Nusantara, siang ini, dengan membawa tanah dan air dari daerah masing-masing. \\n\\nAcara ini menjadi tonggak sejarah bagi bangsa Indonesia mewujudkan cita-cita besar, yakni pembangunan Ibu Kota Nusantara. ', 'Sehari di titik nol kilometer Ibu Kota Negara Nusantara. ', 'Saya mengecek langsung ketersediaan minyak goreng di sejumlah lokasi pasar dan toko swalayan di Yogyakarta, kemarin. \\n\\nSituasi ini -- minyak goreng langka di pasar -- tidak boleh dibiarkan terlalu lama. Pemerintah akan mengambil jalan keluar selekasnya. ', 'Pemindahan ibu kota negara ini bukan berarti kita ingin meninggalkan DKI Jakarta. Tidak sama sekali. PDB ekonomi negara ini 58 persen ada di Jawa, dan magnetnya DKI. \\n\\nDengan dibangunnya Ibu Kota Nusantara, Indonesia akan memiliki kota dengan standar internasional. ', 'Situasi global saat ini seperti soal krisis energi, pangan, hingga situasi perang, juga perlu disikapi karena bisa berdampak ke negara kita. \\n\\nSaya meminta para gubernur untuk menyesuaikan Anggaran Pendapatan dan Belanja Daerah (APBD) dengan situasi yang terjadi.', 'Bertemu gubernur se-Indonesia di Balikpapan, kemarin, saya mengingatkan untuk tidak mengendurkan protokol kesehatan di daerah masing-masing, kendati kasus harian Covid-19 mulai menurun. \\n\\nMasyarakat harus tetap taat pada protokol kesehatan dan vaksinasi tetap harus digencarkan. ', 'Dari Pangkalan TNI AU Adi Sutjipto siang ini, saya bersama Ibu Negara bertolak menuju Balikpapan, Kalimantan Timur.\\n\\nBesok, jika tak ada aral melintang, saya akan menuju Kawasan Titik Nol Kilometer Ibu Kota Negara Nusantara di Kab. Penajam Paser Utara dan bermalam di lokasi itu. ', 'Selamat atas pengukuhan Gusti Pangeran Hario Bhre Cakrahutomo Wira Sudjiwo sebagai Kanjeng Gusti Pangeran Adipati Ario Mangkunagoro X dalam prosesi adat Jumenengan Dalem, hari ini. ', 'Congratulations to President elect Yoon Suk-yeol. I look forward to working closely with you to further advance RI-ROK Special Strategic Partnership. Thanking also my good friend President Moon Jae-in for his dedication in strengthening the friendship between 🇮🇩 and 🇰🇷.', 'Lokasi Dies Natalis ini adalah satu dari dua gedung baru yang saya resmikan, selain Gedung UNS di Madiun. \\n\\nDi dalam area gedung 11 lantai ini ada sarana olahraga seperti kolam renang, gedung konferensi internasional, kantor, pusat bisnis, dan terdapat ruang-ruang yang disewakan.', 'Dengan terus berinovasi dan bertransformasi, saya yakin UNS akan makin sukses mengemban mandatnya berkontribusi untuk Indonesia maju yang kita cita-citakan.', 'Acara Dies Natalis ke-46 Universitas Sebelas Maret (UNS) digelar di UNS Tower Ki Hadjar Dewantara, Kota Surakarta, hari ini. \\n\\nSaya hadir dan menyampaikan selamat kepada keluarga besar UNS, juga terima kasih atas peran universitas ini pada kemajuan masyarakat. ', 'Saya bertolak menuju Yogyakarta, selepas petang ini, untuk kunjungan kerja esok hari. Saya akan menghadiri acara Dies Natalis ke-46 Universitas Sebelas Maret di Surakarta, sekaligus meninjau dan meresmikan sejumlah fasilitas di universitas itu. ', 'Hari ini di Istana Negara, saya melantik Bambang Susantono dan Dhony Rahajoe sebagai Kepala dan Wakil Kepala Otorita Ibu Kota Nusantara. \\n\\nKeduanya akan bekerja untuk bersama-sama membangun IKN sebagai ibu kota yang merefleksikan kota Indonesia masa depan.\\n\\nSelamat bekerja. ', 'Selamat bekerja Andi Sudirman Sulaiman sebagai Gubernur Sulawesi Selatan (sisa masa jabatan 2018-2023). ', 'Pembangunan persemaian merupakan salah satu upaya pemerintah dalam program rehabilitasi lahan di Tanah Air. \\n\\nKeberadaannya tidak hanya memberikan manfaat kepada lingkungan, tetapi juga dapat membantu meningkatkan perekonomian.', 'Tahun ini, ada sekitar 30 persemaian di tanah air yang bisa memproduksi 12 juta bibit tanaman. \\n\\nSalah satunya, Persemaian Modern Rumpin di Bogor yang tadi saya tinjau bersama Ibu Megawati Soekarnoputri, Presiden ke-5 RI dan Ketua Dewan Pengarah Badan Riset dan Inovasi Nasional. ', 'Saya juga mengapresiasi upaya KY dalam membangun kemitraan dengan MA. \\n\\nKemitraan itu akan menjaga marwah para hakim dalam memutus perkara, agar kita mampu membatasi dan memutus ruang gerak mafia peradilan dan mafia-mafia lain.', 'KY harus menjamin ketersediaan hakim agung, hakim ad hoc MA, dan hakim lain melalui seleksi yang transparan dan profesional. KY memastikan calon hakim yang diusulkan ke DPR RI memiliki rekam jejak terpuji, berintegritas, kompeten, memiliki komitmen tinggi memerangi korupsi.', 'Sebagai lembaga penyeimbang, Komisi Yudisial harus mampu melakukan fungsi pengawasan eksternal independen. \\n\\nKY harus memastikan, setiap perbuatan merendahkan kehormatan hakim diselesaikan, agar kewibawaan, kehormatan, dan keluhuran hakim serta institusi peradilan tetap terjaga. ', 'Indonesia tak hanya kaya akan bahasa dan tradisi, tapi juga musik dan lagu. \\n\\nMusik dan lagu-lagu daerah itu adalah khazanah kekayaan budaya bangsa Indonesia yang harus terus kita rawat dan kita kembangkan untuk mengiringi langkah kita menuju kemajuan. ', 'Di antara mobil-mobil yang akan diekspor melalui Pelabuhan Patimban di Subang, Jawa Barat, hari ini.\\n\\nEkspor kendaraan dari Pelabuhan Patimban dimulai 17 Desember 2021. Sampai 8 Maret 2022 ekspor melalui pelabuhan ini mencapai 24.000 unit. ', 'Menurut UNHCR, sudah 1,2 juta orang harus mengungsi ke negara lain karena perang di Ukraina. \\n\\nApabila krisis berlanjut niscaya akan terjadi “krisis pengungsi terbesar sepanjang abad”. Inilah yang harus kita sama-sama cegah agar jangan sampai terjadi.', 'Gagalnya kesepakatan gencatan senjata di Ukraina bukan hanya mendorong eskalasi konflik bersenjata tetapi semakin bertambahnya korban jiwa dan krisis kemanusian di Ukraina.\\n\\nPerang adalah persoalan ego, melupakan sisi kemanusiaan, dan hanya menonjolkan kepentingan dan kekuasaan.', 'Dengan helikopter, pagi ini saya menuju Pelabuhan Patimban di Subang, Jawa Barat, untuk meninjau pelepasan ekspor mobil ke sejumlah negara. \\n\\nEkspor kendaraan dari Pelabuhan Patimban dimulai 17 Desember 2021. Sampai 8 Maret 2022 ekspor melalui pelabuhan ini mencapai 24.000 unit. ', 'Melayat ke rumah duka alm. Arifin Panigoro, anggota Wantimpres yang meninggal dunia di AS, Minggu 27 Februari 2022 lalu.  \\n\\nSaya menyampaikan rasa duka yang mendalam atas kepergian alm. Semoga segala amal ibadahnya diterima oleh Allah SWT dan keluarga yang ditinggalkan tabah. ', 'Di saat dunia dilanda ketidakpastian dan manusia dihentak bencana, pandemi, bahkan perang, kita menyaksikan perempuan-perempuan yang menjadi penyelamat dan penuh daya. \\n\\nMereka berjuang dan berprestasi di berbagai palagan, dari bidang ekonomi, kesehatan, sosial, sampai politik. ', 'Dalam diskusi selama sejam lebih, delegasi PEA yang antara lain Menteri Energi dan Infrastruktur PEA Suhail Mohammed Al Mazroei, menyampaikan kesiapan pemerintah PEA untuk berinvestasi dalam pembangunan Ibu Kota Negara (IKN) Nusantara.', 'Sebuah delegasi dari Persatuan Emirat Arab berkunjung ke Istana Bogor, siang tadi, untuk menyampaikan undangan khusus dari Pangeran Mohammed bin Zayed kepada saya untuk menyaksikan penandatanganan kesepakatan perdagangan antara Abu Dhabi dan Indonesia pada akhir Maret ini. ', 'Saya telah menerima laporan hasil seleksi calon anggota Dewan Komisioner Otoritas Jasa Keuangan (OJK) periode 2022-2027 dari Menteri Keuangan. \\n\\nSelanjutnya, 21 nama calon itu akan saya pilih sebanyak 14 nama, untuk diteruskan ke DPR untuk dipilih menjadi tujuh jabatan di OJK. ', 'Pajak yang kita bayarkan sangat diperlukan untuk mendukung program pembangunan, terutama untuk pemulihan ekonomi, meningkatkan daya beli masyarakat, pemulihan kesehatan, termasuk program vaksinasi. \\n\\nPajak kita untuk kita.', 'Saya melaporkan SPT Tahunan Pajak Penghasilan saya hari ini dari Istana Bogor. Caranya mudah dan tidak perlu ke kantor pajak, bisa melalui aplikasi daring e-filing.\\n\\nBapak, Ibu, Saudara-saudara yang belum lapor SPT Tahunan segera melaporkan. Ingat terakhir tanggal 31 Maret 2022. ', 'Dalam hening kita melihat dengan mata dan hati yang bening. Kita selaraskan niat, pikiran, dan langkah menuju Indonesia yang kita cita-citakan bersama. Indonesia yang maju. ', 'Saya menerima surat kepercayaan dari enam duta besar baru negara-negara sahabat, pagi ini di Ruang Kredensial, Istana Merdeka.\\n\\nPara duta besar negara sahabat tersebut berasal dari Spanyol, Turki, Aljazair, Peru, Vietnam, dan Tiongkok.\\n\\nSelamat datang para duta besar. ', 'Talenta-talenta digital Indonesia di luar negeri diundang untuk kembali ke Tanah Air dan ikut membangun sistem digital kita agar lebih baik.\\n\\nSaya menghargai upaya seperti yang dilakukan Sea dan Sea Labs Indonesia yang telah mengundang talenta digital Indonesia untuk kembali.', 'Indonesia memiliki potensi besar dalam ekonomi digital, sektor yang bertumbuh dua digit di tahun 2021. Karena itu, Indonesia tidak boleh hanya jadi pasar, melainkan jadi pemain.\\n\\nCaranya, ya ekosistem digital yang kondusif harus kita bangun bersama-sama. ', 'Kepada jajaran TNI-Polri saya menekankan pentingnya kedisiplinan nasional. Kedisiplinan TNI-Polri berbeda dengan masyarakat sipil. \\n\\nKedisiplinan TNI-Polri dibatasi aturan yang dibuat para pimpinan, harus terus dijunjung tinggi, dan menjadi contoh yang baik kepada masyarakat.', 'Saya menghadiri Rapim TNI dan Polri tahun 2022, hari ini di Plaza Mabes TNI.\\n\\nApresiasi tinggi saya sampaikan kepada seluruh jajaran TNI-Polri yang telah membantu pemerintah dalam penanganan bencana, pandemi Covid-19, hingga percepatan vaksinasi Covid-19 di seluruh Indonesia. ', 'Dari sungai yang mengalir di tengah rimba Poso di Sulawesi Tengah dan Tana Toraja, Sulawesi Selatan, kita memanen energi hijau lewat PLTA berkapasitas 515 MW dan 90 MW. ', \"Kehidupan dunia memang penuh dengan ketidakpastian, disrupsi, juga tantangan. Akan tetapi ada satu yang pasti: kita tetap berjalan ke arah cahaya yang terang benderang dan kehidupan yang lebih maju.\\n\\nSelamat memperingati hari Isra Mi'raj untuk semua umat muslim. \", 'Jalan Tol Manado-Bitung di Sulawesi Utara kini dapat dilalui. Jalan tol sepanjang hampir 40 km ini telah memangkas waktu perjalanan dari Manado ke Bitung, dari 2 jam menjadi 30 menit saja. Akses menuju Kawasan Wisata Likupang, Tondano, dan KEK Bitung jadi semakin mudah. ', 'Vaksinasi Covid-19 digelar di Terminal Petikemas Bitung,  siang tadi. Masyarakat Kota Bitung terlihat antusias menunggu giliran menerima vaksin.\\n\\nSaya sempat berdialog melalui konferensi video dengan sejumlah perwakilan dari kab./kota yang juga menggelar acara yang sama hari ini. ', 'Jalan Tol Manado-Bitung dapat meningkatkan efisiensi pengiriman logistik dari Pelabuhan Bitung ke Manado dan sekitarnya, membantu akses ke Kawasan Wisata Likupang, Tondano, dan Bitung, juga memunculkan titik-titik pertumbuhan ekonomi baru di Sulawesi Utara.', 'Hari ini, seksi akhir dari Jalan Tol Manado-Bitung yaitu seksi Danowudu-Bitung sepanjang 13,5 km saya resmikan dari Gerbang Tol Bitung. \\n\\nDengan demikian, seluruh Jalan Tol Manado-Bitung telah tuntas dan siap dimanfaatkan untuk mendukung aktivitas masyarakat di Sulawesi Utara.', 'Dulu, dari Manado ke Bitung di Sulawesi Utara ditempuh dalam waktu 1,5 sampai 2 jam. \\n\\nSekarang ada pilihan yang hanya memakan waktu 30 menit saja, yakni melalui Jalan Tol Manado-Bitung yang panjangnya 39,8 km. ', 'Masih di Poso, seusai meresmikan PLTA, saya meninjau pelaksanaan vaksinasi Covid-19 untuk Lansia dan masyarakat yang diadakan di Ruang Serbaguna PLTA Poso Energy. ', 'Pembangunan PLTA di sejumlah daerah di Tanah Air mendukung transformasi energi baru terbarukan (EBT). \\n\\nPemerintah berupaya keras memperbaiki kemudahan dalam proses negosiasi maupun perizinan sehingga pembangunan PLTA selanjutnya dapat segera terlaksana.', 'Di Kab. Poso, Sulawesi Tengah siang ini, saya meresmikan dua Pembangkit Listrik Tenaga Air sekaligus, yakni PLTA PT Poso Energy di Poso dan PLTA PT Malea Energy di Kab. Tana Toraja, Sulawesi Selatan. PLTA Poso yang dibangun Kalla Group berkapasitas 515 MW dan PLTA Malea 90 MW. ', 'Masyarakat Kota Palu begitu bersemangat untuk mendapatkan vaksin. Seperti saya saksikan pagi ini di lapangan kantor Bandara Mutiara SIS Al Jufrie, anak-anak sampai lansia tertib menunggu giliran divaksinasi. \\n\\nKegiatan seperti ini harap dilanjutkan. Makin banyak, makin baik. ', 'Saya juga telah menginstruksikan agar studi kelayakan untuk jalur dari Fatmawati sampai Taman Mini segera diselesaikan. \\n\\nDengan begitu, DKI Jakarta akan memiliki sarana transportasi modern, memiliki MRT, LRT, TransJakarta yang semuanya tersambung dengan semua moda yang ada. ', 'Sejak tahun 2019, Mtelah beroperasi di Jakarta pada jalur Lebak Bulus sampai Bundaran HI. Dan sekarang, pemerintah melanjutkannya dengan fase 2A dari Bundaran HI sampai ke Kota. \\n\\nSaya berharap jalur MJakarta terus berlanjut sampai fase 2B dari Kota ke Ancol Barat, dst. ', 'Dari Stasiun MBundaran HI, siang tadi, saya meluncurkan Tunnel Boring Machine (TBM) untuk membangun jalur Mfase 2A. Jalur ini akan melewati tujuh stasiun yakni Stasiun Thamrin, Monas, Harmoni, Sawah Besar, Mangga Besar, Glodok, dan Kota. ', 'Stop the war. War brings misery to mankind and puts the whole world at risk.', 'Setop perang. Perang itu menyengsarakan umat manusia, dan membahayakan dunia.', 'Sore ini, saya bertolak ke Provinsi Sulawesi Tengah untuk kunjungan kerja. \\n\\nBesok, saya hendak meninjau kegiatan vaksinasi Covid-19, lalu meresmikan sejumlah PLTA di Kab. Poso, lanjut ke Provinsi Sulawesi Utara untuk meresmikan Jalan Tol Manado-Bitung ruas Danowudu-Bitung. ', 'Pemerintah mendorong seluruh kawasan industri di Tanah Air mempercepat program vaksinasi Covid-19 suntikan penguat untuk memberikan perlindungan bagi para pekerja. Dengan begitu,  produksi jalan terus, ekspor jalan terus, sehingga seluruh ekonomi kita bisa berjalan dengan baik. ', 'Saya meninjau pelaksanaan percepatan vaksinasi booster bagi pekerja sektor industri di PT Komatsu Indonesia, Jakarta Utara dan di PT Smart Tbk di Kab. Bekasi, hari ini, dan berdialog secara virtual dengan sejumlah perwakilan kawasan industri di sejumlah daerah. ', 'Seluruh masyarakat Indonesia yang saya cintai. Pemindahan Ibu Kota Negara ke Nusantara bukan sekadar memindahkan ASN dan membangun gedung-gedung pemerintahan.\\n\\nPemindahan IKN adalah lompatan untuk melakukan transformasi bangsa menuju Indonesia Maju.\\n\\n', 'Kita tidak boleh lelah untuk terus membantu rakyat Myanmar. Bersama-sama kita pasti bisa membantu mereka. Mereka berhak untuk menikmati perdamaian, kesejahteraan dan demokrasi. \\n\\nKita harus membantu memberikan solusi yang adil untuk rakyat Myanmar. Tidak bisa ditunda-tunda lagi.', 'Saya juga mendorong BNPB untuk membangun sistem edukasi kebencanaan berkelanjutan, terutama di daerah rawan bencana. Gali berbagai kearifan lokal di masyarakat, latih masyarakat untuk tanggap menghadapi bencana, lakukan latihan dan simulasi. Jangan menunggu sampai bencana datang.', 'Bencana kerap datang secara tidak terduga, meski beberapa jenis bencana dapat dikurangi atau dicegah sebelumnya. \\n\\nKarena itulah, Badan Nasional Penanggulangan Bencana harus terus berbenah diri dengan menerapkan budaya kerja yang lebih siaga, antisipatif, responsif, dan adaptif. ', 'Saya berharap, melalui pembangunan ekosistem kendaraan listrik dari hulu ke hilir tersebut, Indonesia dapat menjadi produsen kendaraan listrik. Kita targetkan di 2025, dua juta kendaraan listrik bisa digunakan oleh masyarakat kita, dan selanjutnya menuju pasar-pasar ekspor.', 'Kolaborasi Pengembangan Ekosistem Kendaraan Listrik diluncurkan hari ini di di Jakarta. \\n\\nKolaborasi BUMN dan swasta ini jadi langkah nyata mempercepat terwujudnya ekosistem kendaraan listrik yang terintegrasi di Indonesia. Di dalamnya ada Electrum, Pertamina, Gogoro, dan Gesits. ', 'Lalu siapa yang akan menjadi Kepala Otorita Ibu Kota Nusantara yang baru? \\n\\nSabar. Dalam waktu dekat akan saya umumkan. Yang jelas, Kepala Otorita IKN akan dijabat oleh seseorang dari kalangan non-partai politik.', 'Ibu Kota Nusantara kelak akan menggagas konsep Smart Forest City dengan 70 persen kawasannya berupa area hijau. \\n\\nPengelolaan transportasi, sistem pengairan, sistem kelistrikan, infrastruktur komunikasi, hingga pelayanan publiknya juga akan menggunakan teknologi modern. ', 'Saya memiliki pandangan yang sama dengan Sekjen PBB Antonio Guterres bahwa penanganan krisis Ukraina harus dilakukan secara cermat agar bencana besar bagi umat manusia bisa dihindarkan. Tetapi, upaya perdamaian ini harus cepat dan tidak bisa ditunda-tunda.', 'Situasi pandemi telah mempercepat proses migrasi dari sistem peradilan konvensional ke sistem peradilan elektronik oleh Mahkamah Agung.\\n\\nSaya mengapresiasi langkah MA tersebut mengingat transformasi ini penting untuk memberikan pelayanan peradilan yang lebih baik bagi masyarakat. ', 'Hari ini saya melantik dua pejabat: Andi Widjajanto sebagai Gubernur Lembaga Ketahanan Nasional RI dan Arief Prasetyo Adi sebagai Kepala Badan Pangan Nasional. Pelantikan digelar di Istana Negara dengan protokol kesehatan ketat dan dihadiri undangan terbatas.\\n\\nSelamat bekerja. ', 'Saatnya dunia bersinergi dan berkolaborasi menghadapi pandemi. Saatnya kita memulihkan ekonomi dunia, mengantisipasi kelangkaan pangan, dan mencegah kelaparan.', 'Rivalitas dan ketegangan di Ukraina harus dihentikan sesegera mungkin. Semua pihak yang terlibat harus menahan diri dan kita semua harus berkontribusi pada perdamaian. Perang tidak boleh terjadi.', 'Pada kesempatan ini, saya meminta Basarnas untuk memperbanyak inovasi dengan memanfaatkan teknologi, meningkatkan kompetensi sumber daya manusia SAR, memperkuat sinergi dan kolaborasi dengan berbagai potensi SAR lain, dan memperkuat pencegahan, mitigasi, dan antisipasi bencana. ', 'Saat ini, tantangan dalam menghadapi situasi kedaruratan akan makin besar. Tetapi, dalam situasi apapun pelayanan SAR harus sigap dan cepat untuk menyelamatkan setiap jiwa manusia, di mana pun, dan dalam situasi apapun. ', 'Badan Nasional Pencarian dan Pertolongan (Basarnas) telah mencapai usia emas di tahun ini. Selamat ulang tahun ke-50 Basarnas, juga terima kasih telah membantu masyarakat yang tertimpa musibah di berbagai daerah dan medan bencana. ', 'Ada yang menghitung dengan “sikok, duo, tigo …”. Di bagian lain Indonesia, ada yang dengan “mbai, be, name … ”, atau “ije, due, telu …”. Dst. \\n\\nLain daerah, lain pula bahasa ibunya. Dan itulah kekayaan Indonesia.  \\n\\nMasih bisakah Anda menghitung dalam bahasa ibu? ', 'Srikandi-srikandi bulutangkis putri Indonesia mencetak sejarah dengan meraih gelar juara pada Kejuaraan Bulutangkis Asia Beregu 2022, hari ini di Selangor, Malaysia. Sementara tim putra Indonesia berhasil menempati posisi runner-up.\\n\\nDari Tanah Air, saya menyampaikan selamat. ', 'Hari ini, di Istana Bogor, saya menerima kunjungan President Asian Development Bank Masatsugu Asakawa dan dua pimpinan ADB lainnya. \\n\\nDalam pertemuan itu, kami membahas sejumlah hal, dari soal penanganan pandemi Covid-19 hingga dukungan ADB terhadap transisi energi di Indonesia. ', 'Hari ini saya kembali meninjau vaksinasi di beberapa daerah secara virtual dan berdialog dengan peserta vaksinasi di 17 provinsi.\\n\\nSaya mendorong seluruh kab./kota dan provinsi ini konsentrasi di suntikan yang kedua dan ketiga yang saya lihat masih banyak yang di bawah 60 %. ', 'Sebagai pemegang Presidensi G20, Indonesia mendorong semua negara G20 bekerja sama untuk mengatasi berbagai permasalahan dunia seperti inflasi yang cenderung terus meningkat, kenaikan harga pangan, kelangkaan kontainer, juga mencegah terjadinya kelaparan.', 'Saat ini semua pihak harus menghentikan rivalitas dan ketegangan. Kita harus fokus untuk bersinergi, untuk berkolaborasi menyelamatkan dan membangkitkan dunia tempat kita hidup untuk segera bangkit kembali, pulih kembali.', 'Dalam situasi global seperti ini, bukan saatnya menonjolkan rivalitas atau membuat ketegangan baru yang mengganggu pemulihan dunia. Tidak satu negara pun yang bisa bangkit sendirian. \\n\\nIni saya sampaikan pada Pertemuan I Menteri Keuangan dan Gubernur Bank Sentral G20, siang tadi. ', 'Saat ini, penyebaran kasus Covid-19 varian Omicron di Tanah Air terus meningkat. Untuk itu, perlu percepatan vaksinasi dan pengetatan terhadap protokol kesehatan di seluruh Tanah Air.', 'Kegiatan ini menggunakan vaksin AstraZeneca, Pfizer, Moderna, Sinopharm, CoronaVac, Johnson &amp; Johnson, dan Sinovac.\\n\\nMelalui konferensi video, saya berdialog langsung para peserta vaksinasi di 12 provinsi, dari Aceh sampai Papua.', 'Saya meninjau pelaksanaan program vaksinasi serentak di seluruh Indonesia secara virtual hari ini dari Istana Bogor. \\n\\nVaksinasi digelar di 5.086 lokasi di Tanah Air dengan target lebih 1,1 juta dosis vaksin, pertama sampai ketiga, dan melibatkan 62.803 vaksinator. ', 'Melalui Presidensi G20, Indonesia akan mengangkat dan mendorong ekonomi biru, karbon biru, dan penanganan sampah laut. Indonesia siap bermitra dengan semua pihak bagi terwujudnya ekosistem laut yang berkelanjutan.', 'Through its G20 Presidency, Indonesia will highlight and advance blue economy, blue carbon and marine litter management. Indonesia stands ready to collaborate with all parties for the realization of a sustainable marine ecosystem.', 'Laut adalah sumber kehidupan dan penghidupan umat manusia, maka komitmen Indonesia kuat untuk selalu berada di  garda depan dunia dalam hal perlindungan laut.', 'The ocean is a source of life and livelihood for mankind, therefore Indonesia is strongly committed to always be at the forefront of marine protection.', 'Dalam KTT One Ocean (Paris 11/2), tegas saya sampaikan bahwa pengelolaan lingkungan laut perlu ditempatkan dalam dimensi pembangunan berkelanjutan dan mendukung pemulihan ekonomi dari dampak pandemi.', 'At the One Ocean Summit (Paris 11/2), I underlined that management of marine environment must be placed within the dimension of sustainable development and support economic recovery from the pandemic. ', 'Menerima sejumlah pimpinan Bank Dunia, siang ini, di Istana Merdeka. \\n\\nKami membahas beberapa hal penting, dari Presidensi G20 Indonesia, transisi energi, lingkungan, penanganan pandemi Covid-19, hingga situasi di Myanmar dan masalah kemanusiaan di Afghanistan. ', 'Toyota Fortuner tadi, juga produk lain, dihasilkan oleh SDM Indonesia yang berkualitas. Saya senang juga bahwa kandungan lokalnya sudah lebih dari 75 %. Komponen mobil-mobil itu disuplai industri-industri UKM kita. Dan ini menghidupkan usaha-usaha kecil yang ada di negara kita. ', 'Dari Karawang siang ini, saya melepas ekspor perdana mobil Toyota Fortuner ke Australia yang diproduksi PT Toyota Motor Manufacturing Indonesia.\\n\\nPerusahaan ini telah mencatatkan volume ekspor sebesar dua juta unit mobil secara kumulatif. ', 'Iriana and I send our wishes for a speedy recovery to President  and the First Lady . Get well soon, my brother!', 'Setiap langkah dan tindakan luar biasa yang diambil pemerintah di masa pandemi ini tidak lain untuk mengatasi krisis dan menyelamatkan masyarakat dari pandemi Covid-19.', 'Langkah-langkah extraordinary yang ditempuh pemerintah dalam penanganan pandemi dilakukan dengan penuh kehati-hatian dan sudah dengan pertimbangan-pertimbangan yang cermat, menjaga agar semua langkah yang ditempuh tetap berada dalam koridor hukum dan koridor konstitusi.', 'Selama masa pandemi pemerintah harus mengambil  tindakan luar biasa dengan keselamatan rakyat sebagai prioritas utama. \\n\\nTidak pernah terpikir sedikit pun untuk atas nama pandemi Covid-19, pemerintah sengaja menempuh cara-cara inkonstitusional dan menabrak prosedur. ', 'Indonesia mengapresiasi kolaborasi global Access to Covid-19 Tools Accelerator (ACT-A) yang dibentuk untuk mempercepat pengembangan, produksi, dan akses yang adil terhadap tes, perawatan, dan vaksin Covid-19. \\n\\nNo one is safe until everyone is.\\n\\n', 'Kritik, masukan dan dukungan dari insan pers sangat penting. Mengingatkan apa yang kurang, mendorong yang masih lamban, juga mengapresiasi yang sudah berjalan baik agar seluruh jajaran pemerintah bekerja dalam visi yang sama untuk Indonesia maju.\\n\\nSelamat Hari Pers Nasional', 'Dalam mengerjakan kerja besar transformasi bangsa, pemerintah memiliki banyak kekurangan dan keterbatasan. \\n\\nUntuk itu, pemerintah sangat terbuka terhadap masukan dari para insan pers agar langkah besar tersebut benar tereksekusi dan membawa perubahan bagi kemajuan Indonesia. ', 'Berita dan informasi datang silih berganti, tak kenal ruang dan waktu. Sebuah kabar belum tuntas dicerna, telah muncul kabar baru dari berbagai penjuru. \\n\\nDi tengah belantara informasi ini, kita punya pegangan dan panduan yaitu pers nasional sebagai sumber informasi terpercaya. ', 'Saya bertemu para pedagang kaki lima dan warung di Pasar Kebun Lada, Kota Binjai, Sumatra Utara, siang ini. Kepada mereka, saya menyerahkan bantuan langsung tunai sebesar Rp1,2 juta per orang. \\n\\nSemoga membantu meringankan beban para pedagang yang terdampak pandemi Covid-19. ', 'Jalan Tol Binjai-Langsa juga bagian dari  Trans Sumatra yang membentang dari Lampung hingga Aceh.\\n\\nJalan nasional antarprovinsi akan menghubungkan sentra-sentra produksi yang ada di daerah untuk dikembangkan, dan membuka peluang usaha baru bagi masyarakat sekitar. ', 'Dari Gerbang Tol Stabat di Kab. Langkat siang ini, saya meresmikan Jalan Tol Binjai-Langsa seksi I Binjai-Stabat sepanjang 11,8 km. \\n\\nPanjang Jalan Tol Binjai-Langsa sendiri 131 km yang akan menghubungkan Sumatra Utara dan Aceh. ', 'Penanganan Jalan Liang Melas Datas sepanjang 37,2 km membutuhkan biaya Rp164,8 miliar dengan masa pelaksanaan Tahun Anggaran 2022-2023. \\n\\nDengan perbaikan jalan produksi ini, ongkos logistik menjadi lebih murah. Jeruk dari Karo bisa dikirim ke semua kota dengan harga kompetitif. ', 'Kab. Karo sendiri adalah salah satu sentra produksi komoditas jeruk. Produksi jeruknya dipasarkan ke kota-kota seperti Bandung, Jakarta, Semarang, Surabaya, sampai ke Malaysia dan Singapura.\\n\\nDan setelah melihat langsung, jalan ke daerah ini memang perlu perbaikan. ', 'Awal Desember 2021 lalu, saya menerima perwakilan warga Liang Melas Datas, Kab. Karo, di Jakarta. Mereka datang menyampaikan aspirasi terkait jalan rusak di daerah mereka, juga membawa oleh-oleh satu truk buah jeruk.\\n\\nHari ini, giliran saya yang berkunjung ke Liang Melas Datas. ', 'Saya berkunjung ke Pasar Induk Sidikalang di Kabupaten Dairi, Sumatra Utara kemarin dan mendapat sambutan begitu meriah oleh warga dan pedagang. \\n\\nDi pasar ini, saya membagikan bantuan langsung tunai sebesar Rp1,2 juta per orang bagi para pedagang kaki lima dan warung. ', 'Saya meminta Bapak, Ibu, dan saudara-saudara tetap tenang. Tetaplah disiplin menjaga protokol kesehatan, kurangi aktivitas yang tidak perlu. bagi yang belum divaksin agar segera divaksin. Bagi yang sudah divaksin lengkap dan sudah waktunya dibooster agar segera divaksin booster.', 'Saya telah memerintahkan Koordinator PPKM Jawa Bali dan Koordinator PPKM luar Jawa Bali untuk segera mengevaluasi level PPKM.\\n \\nJajaran pemerintah daerah dibantu TNI dan Polri saya minta memastikan: protokol kesehatan dilaksanakan oleh masyarakat dan vaksinasi terus dijalankan.', 'Varian Omicron dapat disembuhkan tanpa harus ke rumah sakit. Pasien yang terpapar varian ini cukup melakukan isolasi mandiri di rumah, minum obat dan multivitamin, dan segera tes kembali setelah 5 hari.', 'Varian omicron ini memang tingkat penularannya tinggi, namun tingkat fatalitasnya lebih rendah dibandingkan dengan varian delta. \\n\\nDi beberapa negara, juga di Indonesia, kasusnya melonjak cukup tinggi, namun tingkat keterisian  rumah sakit masih terkendali.', 'Lonjakan kasus Covid-19 yang sedang terjadi, sudah kita perkirakan sebelumnya. Karena itulah, kesiapan kita sudah jauh lebih baik dibandingkan tahun lalu, dari rumah sakit, obat-obatan, oksigen, hingga tenaga kesehatan. \\n\\nSaya meminta Bapak, Ibu, dan saudara-saudara tetap tenang. ', 'Permasalahan sertifikat tanah menjadi perhatian  karena masih adanya sengketa tanah di daerah, baik antara warga dengan warga, warga dengan pemerintah, maupun warga dengan perusahaan swasta.', 'Sertifikat tanah penting dimiliki setiap pemilik tanah karena merupakan tanda bukti hukum atas tanah yang dimiliki. Di dalamnya tertulis nama pemilik serta luas lahan yang dimiliki. \\n\\nUntuk itu, pemerintah terus mempercepat proses pengurusan sertifikat tanah. ', 'Hari ini di Kab. Humbang Hasundutan, Sumatra Utara, saya menyerahkan SK Hutan Sosial dan SK Tanah Objek Reforma Agraria kepada masyarakat.\\n\\nKepada para penerima SK, saya minta agar segera memanfaatkan lahan itu untuk kegiatan produktif. Jangan sampai ditelantarkan. ', 'Menanam pohon bersama masyarakat Desa Simangulampe di Kabupaten Humbang Hasundutan, siang ini. Saya sendiri menanam tanaman kacang macadamia, sejenis tanaman hasil hutan bukan kayu. ', 'Di geladak KMP Kaldera Toba dalam perjalanan dari Pelabuhan Ambarita di Kab. Samosir, menuju Pelabuhan Ajibata di Kab. Toba, pagi ini. \\n\\nPemerintah membangun 13 pelabuhan penyeberangan di tujuh kabupaten di sekitar Danau Toba. Tujuh di antaranya sudah saya resmikan kemarin. ', 'Dengan segenap upaya itu, konservasi terhadap warisan pusaka yang kita miliki di Kampung Ulos Huta Raja kita lakukan, sekaligus menjadikannya salah satu destinasi wisata budaya yang menarik.\\n\\nSaya mengapresiasi semua pihak yang telah mendukung penataan Kampung Ulos Huta Raja ini. ', 'Ini Kampung Ulos Huta Raja di Kab. Samosir yang sudah direvitalisasi. Atap Rumah Bolon diperbarui, ditambah Rumah Bolon baru. \\n\\nDi kawasan 16.000 m2 itu sudah berdiri Pusat Informasi Budaya Galeri dan Suvenir, amfiteater, warung, dan toilet umum. Pagar Makam juga sudah ditata. ']\n"
          ]
        }
      ]
    },
    {
      "cell_type": "code",
      "source": [
        "df"
      ],
      "metadata": {
        "id": "G8PxTjgNnpfX",
        "outputId": "bb106116-f057-47b8-f454-ab8030e93999",
        "colab": {
          "base_uri": "https://localhost:8080/"
        }
      },
      "execution_count": 182,
      "outputs": [
        {
          "output_type": "execute_result",
          "data": {
            "text/plain": [
              "['Lama nian desa-desa di Distrik Tiplol Mayalibit, Papua tak terhubung ke dunia luar. Khalayak jadi tak tahu potensi dan kekayaan alam Tiplol Mayalibit. Sampai BAKTI datang membangun pemancar, dan warga Distrik Tiplol Mayalibit pun bisa melongok dunia yang lebih luas. ',\n",
              " 'Saya telah menginstruksikan jajaran pemerintah untuk melihat secara detail harga-harga pangan dan energi itu, dan mencermati pilihan kebijakan yang bisa kita ambil. Dengan begitu, di satu sisi kita menjaga daya beli masyarakat, menjaga momentum ekonomi, tapi juga menjaga APBN.',\n",
              " 'Meskipun kenaikan harga berbagai komoditas -- minyak, gas, batu bara, nikel, maupun minyak sawit mentah atau CPO -- akan memberikan daya tambah dari sisi penerimaan negara, namun di sisi lain masyarakat akan turut merasakan rambatan inflasi global yang disebabkannya. ',\n",
              " 'Pemerintah juga memperhatikan kenaikan harga pupuk. Untuk pupuk subsidi, pemerintah akan membatasinya pada pupuk urea dan NPK. \\n\\nSaya berharap segenap bantuan dan subsidi tersebut dapat tepat sasaran.',\n",
              " 'Di antaranya Kartu Sembako bagi 18,8 juta penerima, PKH dengan tambahan 2 juta penerima. BLT minyak goreng Rp300.000 untuk 3 bulan. Program BLT Dana Desa dilanjutkan. \\n\\nAda juga Bantuan Subsidi Upah untuk 8,8 juta pekerja bergaji di bawah Rp3,5 juta, sebesar Rp1 juta per orang.',\n",
              " 'Situasi geopolitik di Rusia dan Ukraina berpengaruh ke Indonesia dalam bentuk kenaikan harga pangan, energi, serta kenaikan inflasi. \\n\\nUntuk itu, pemerintah perlu mempersiapkan berbagai perlindungan sosial agar rakyat tidak menanggung seluruh beban akibat kenaikan harga itu. ',\n",
              " 'Marhaban ya Ramadan. Mari menyambut datangnya bulan suci Ramadan 1443 Hijriah, dan menjadikannya momentum untuk meningkatkan keimanan dan ketakwaan. Semoga Allah SWT senantiasa melindungi bangsa Indonesia. ',\n",
              " 'Situasi pandemi yang membaik tahun ini membawa optimisme sehingga kita dapat beribadah salat tarawih berjamaah di masjid dengan tetap menerapkan disiplin protokol kesehatan. \\n\\nMarhaban ya Ramadan. Semoga segenap ibadah kita dilancarkan, dimudahkan, dan diterima oleh Allah SWT. ',\n",
              " 'Saudara-saudara sebangsa dan setanah air. Untuk meringankan beban masyarakat karena naiknya harga minyak goreng, pemerintah akan memberikan Bantuan Langsung Tunai (BLT) Minyak Goreng bagi 20,5 juta keluarga dan 2,5 juta PKL yang berjualan makanan gorengan. ',\n",
              " 'MoU tersebut mengatur penggunaan sistem satu kanal sebagai sistem perekrutan hingga pengawasan untuk perlindungan maksimal bagi para pekerja migran Indonesia (PMI). \\n\\nKami juga berdiskusi mengenai praktik penyelundupan manusia, serta batas negara maritim dan darat kedua negara. ',\n",
              " 'Saya menyambut kedatangan PM Ismail Sabri bin Yaakob di Istana Merdeka, siang tadi. Pada kunjungan kedua PM Ismail Sabri ini, kami menyaksikan penandatanganan MoU tentang Penempatan dan Perlindungan Pekerja Migran Indonesia Sektor Domestik di Malaysia oleh menteri kedua negara. ',\n",
              " 'Saya menyambut kedatangan Perdana Menteri Papua Nugini James Marape dan Ibu Rachel Marape di Istana Bogor, hari ini. \\n\\nDalam pertemuan bilateral, kami membahas peningkatan kerja sama di berbagai bidang, di antaranya bidang perdagangan yang meningkat 87%  selama tahun 2021. ',\n",
              " 'Semua pihak harus taat pada konstitusi yang sudah jelas mengatur soal masa jabatan presiden. Konstitusi kita sudah jelas. Dan kita harus taat, harus patuh, terhadap konstitusi. Itu saja. ',\n",
              " 'Data yang saya terima, setidaknya 79 juta orang menyatakan hendak mudik Lebaran tahun ini. Jadi, janganlah dibandingkan dengan MotoGP yang penontonnya 60 ribu orang. \\n\\nPenanganan pemudik ini harus hati-hati. Calon pemudik sudah harus menerima vaksinasi yang lengkap dan booster. ',\n",
              " 'Saat berkunjung ke Pondok Pesantren API siang tadi, saya juga melihat sendiri bahwa kedisiplinan seluruh santri dalam melakukan protokol kesehatan, utamanya mengenakan masker, sudah baik. \\n\\nSaya berharap Pondok Pesantren API bisa menjadi contoh bagi sekolah atau pesantren lain. ',\n",
              " 'Seluruh santri Pondok Pesantren Asrama Perguruan Islam (API) Asri Syubbanul Wathon, di Tegalrejo, Kabupaten Magelang, telah menerima dua dosis vaksinasi Covid-19. Sebagian bahkan sudah menerima vaksin booster, terutama para guru. Alhamdulillah. ',\n",
              " 'Dua tahun terakhir, jalan-jalan sekitar Candi Borobudur diperlebar, jalur ke arah candi dipercantik. \\n\\nSelain dari sisi infrastruktur, penting juga adanya penyelenggaraan ajang-ajang seni budaya secara rutin di destinasi wisata Tanah Air, untuk menarik banyak wisatawan. ',\n",
              " 'Seraya berkunjung, saya juga menyampaikan bantuan tunai bagi para pedagang di kedua pasar, semoga dapat meringankan beban para pedagang yang terkena dampak pandemi Covid-19. ',\n",
              " 'Menjelang Ramadan ini saya mengecek langsung ketersediaan bahan kebutuhan pokok masyarakat, termasuk minyak goreng, di pasar tradisional. Dua pasar saya kunjungi di Jawa Tengah hari ini, yakni Pasar Baledono di Kab. Purworejo dan Pasar Rakyat di Desa Tempurejo, Kab. Magelang. ',\n",
              " 'Tiba di Bandara Internasional Yogyakarta (YIA), Kab. Kulon Progo, pagi ini, saya langsung meninjau beberapa fasilitas bandara, melihat kedisiplinan calon penumpang menjalankan protokol kesehatan, juga mengecek kesiapan bandara menyambut mudik Lebaran. ',\n",
              " 'Selamat pagi. Saya ke Yogyakarta dan Jawa Tengah hari ini untuk kunjungan kerja ke sejumlah tempat. Saya hendak meninjau fasilitas Bandara Internasional Yogyakarta, mengunjungi sebuah pesantren di Magelang, dan meninjau infrastruktur fasilitas pariwisata di Candi Borobudur. ',\n",
              " 'Terhentinya produksi film, penutupan bioskop, kehilangan sejumlah tokoh selama pandemi, menjadi ujian berat bagi insan film nasional dua tahun ini.\\n\\nKini, pandemi kian melandai, ekonomi kian menggeliat, dan kita melihat asa kebangkitan film nasional Indonesia terbuka lebar. ',\n",
              " 'Saya meminta pemerintah desa untuk mengelola, memanfaatkan, serta merealisasikan dana desa sebaik mungkin sehingga dapat memacu pertumbuhan ekonomi di desa dan secara keseluruhan akan meningkatkan pertumbuhan ekonomi nasional.',\n",
              " 'Sampai tahun 2022 ini, pemerintah telah menyalurkan dana desa Rp468 triliun untuk membangun berbagai fasilitas seperti jalan desa, embung, irigasi, jembatan, dan infrastruktur lainnya. \\n\\nContohnya, saat ini telah terbangun 227.000 km jalan desa yang dibiayai dari dana desa. ',\n",
              " 'Mereka telah bekerja keras, menganjurkan masyarakat untuk vaksinasi, untuk memakai masker, untuk menjaga jarak, untuk cuci tangan. Peran para perangkat desa ini menjadi ciri khas tersendiri bagi bangsa Indonesia dalam penanganan Covid-19.',\n",
              " 'Asosiasi Pemerintah Desa Seluruh Indonesia (Apdesi) menggelar acara silaturahmi nasional di Istora Senayan, hari ini. \\n\\nSaya hadir dan menyampaikan apresiasi atas peran para perangkat desa yang telah bekerja keras membantu pemerintah dalam penanganan pandemi Covid-19. ',\n",
              " 'Saya menargetkan jumlah pelaku UMKM yang masuk ke dalam ekosistem digital sebanyak 20 juta tahun ini dan terus meningkat. \\n\\nAdapun koperasi, saya berharap koperasi modern berbasis digital dapat terus meningkat, dari 250 koperasi tahun 2022 menjadi 400 koperasi tahun 2023, dst.',\n",
              " 'Digitalisasi telah menjadi solusi bagi para pelaku UMKM dan koperasi untuk terus berkembang pada masa pandemi Covid-19. \\n\\nMomentum tersebut harus terus dimanfaatkan sebaik-baiknya untuk meningkatkan jumlah pelaku UMKM ke dalam ekosistem digital. ',\n",
              " 'Menerima kunjungan Presiden Islamic Development Bank, Mohammed Al Jasser, bersama delegasi, siang ini di Istana Merdeka.\\n\\nKami membahas kerja sama di bidang pendidikan, kesehatan, infrastruktur, dll.  \\n\\nSaya menghargai dukungan Presiden Al Jasser untuk presidensi G20 Indonesia. ',\n",
              " 'Beberapa waktu lalu, Buya Syafii Maarif dirawat di rumah sakit. Syukur Alhamdulillah, beliau sudah sehat. \\n\\nHari ini, saya datang menjenguk Buya Syafii di kediaman beliau di Sleman. Keadaan beliau semakin membaik. \\n\\nSemoga Buya Syafii selalu diberikan kesehatan oleh Allah SWT. ',\n",
              " 'Dari Garuda Wisnu Kencana Cultural Park, saya mampir ke Pasar Alas Kusuma, Kab. Badung, dan membagikan Bantuan Langsung Tunai (BLT) kepada pedagang kaki lima dan warung di pasar itu. Semoga bermanfaat. ',\n",
              " 'Saya mengunjungi Garuda Wisnu Kencana (GWK) Cultural Park, Kabupaten Badung, Bali, sore tadi. \\n\\nGWK Cultural Park ini jadi salah satu lokasi acara jamuan makan malam untuk para delegasi Konferensi Tingkat Tinggi (KTT) G20 pada tanggal 15-16 November mendatang. ',\n",
              " 'Ultra fast charging ini mengisi daya kendaraan listrik sangat cepat, kurang dari 30 menit untuk satu kendaraan. \\n\\nSaya mengajak seluruh pihak untuk menjadikan presidensi G20 sebagai kesempatan untuk menujukkan komitmen Indonesia terhadap pengurangan emisi karbondioksida (CO2).',\n",
              " 'Di Bali siang ini, saya meresmikan peluncuran Stasiun Pengisian Kendaraan Listrik Umum (SPKLU) Ultra Fast Charging pertama di Indonesia. \\n\\nPLN telah mempersiapkan 60 SPKLU Ultra Fast Charging dan 150 titik home charging untuk delegasi KTT G20 di Bali pada November mendatang. ',\n",
              " 'Saya menargetkan hingga Mei 2022, anggaran sebesar Rp400 triliun digunakan untuk pembelian barang dari dalam negeri. Segera juga dorong UKM-UKM di daerah untuk masuk ke e-Katalog sebanyak-banyaknya. \\n\\nHal ini penting untuk memacu pertumbuhan ekonomi  dan membuka lapangan kerja.',\n",
              " 'Para menteri, kepala lembaga, kepala daerah, dan BUMN saya tekankan agar memanfaatkan APBN, APBD, serta anggaran BUMN untuk membeli produk dalam negeri.\\n\\nSementara LKPP, saya minta menyediakan berbagai macam produk yang dibutuhkan oleh pemerintah dalam platform yang tersedia. ',\n",
              " 'Apabila produksi yang dihasilkan di lahan 53 ha ini bagus, lahannya akan diperluas sampai 500 ha, bahkan dikembangkan di daerah lain.\\n\\nSelain pengairan, saya juga mendorong pemanfaatan teknologi alat dan mesin pertanian (alsintan) yang cocok untuk lahan sulit seperti di NTT ini. ',\n",
              " 'Saya ke Desa Fatuketi, Kab. Belu, sore tadi untuk ikut menanam jagung bersama masyarakat di lahan seluas 53 ha. \\n\\nSumber airnya ada dua, yakni memanfaatkan sumur air tanah dan aliran air dari Bendungan Rotiklot di Kab. Belu yang telah beroperasi sejak 2018 lalu. ',\n",
              " 'Pembangunan SDM adalah fondasi untuk Indonesia Maju. Karena itu, pelayanan pendidikan harus merata di seluruh Tanah Air, bisa diakses oleh seluruh masyarakat, dan memiliki kualitas yang baik. Itu yang kita lihat dari keberadaan Politeknik Dr. Aloysius Benedictus Mboi ini. ',\n",
              " 'Hari ini saya meresmikan Politeknik Dr. Aloysius Benedictus Mboi, Universitas Pertahanan Republik Indonesia di Kab. Belu, NTT.\\n\\nDengan adanya kampus ini, saya berharap keterampilan anak-anak muda di daerah sekitar terus meningkat, dan memenuhi kebutuhan industri dan dunia usaha. ',\n",
              " 'Pasar Inpres Soe di Kabupaten Timor Tengah Selatan begitu ramai ketika saya datang berkunjung siang tadi. Kepada para pedagang kaki lima dan warung yang berjualan di pasar itu, saya menyerahkan bantuan tunai, semoga bisa meringankan dampak pandemi yang mereka alami. ',\n",
              " 'Mengunjungi Desa Oinlasi di Kab. Timor Tengah Selatan, siang ini. Pompa hidram yang mengalirkan air untuk kebutuhan 54 KK di desa itu telah terpasang.\\n\\nSebanyak 227 pompa hidram telah dibangun di seluruh Bali dan Nusa Tenggara, 175 di antaranya di NTT. ',\n",
              " 'Untuk mencapai target 14% itu, pemerintah akan melakukan intervensi terhadap gizi anak, kondisi rumah, dan ketersediaan air. Ini harus dikerjakan secara terpadu yang melibatkan pemerintah kabupaten/kota, provinsi, pusat, dan seluruh masyarakat. ',\n",
              " 'Siang ini saya datang ke Desa Kesetnana di Kab. Timor Tengah Selatan, NTT meninjau program percepatan penurunan stunting yang dilaksanakan oleh BKKBN.\\n\\nPemerintah menargetkan angka prevalensi kekerdilan atau stunting pada tahun 2024 berada di bawah 14%. ',\n",
              " 'Bantuan tunai untuk para pedagang kaki lima dan warung di Pasar Penfui, Kota Kupang. Semoga membantu meringankan beban para pedagang yang terdampak pandemi Covid-19. ',\n",
              " 'Dari laporan Kementerian PUPR, penataan Kota Kupang ini mencakup area 51.900 m2, yang dilaksanakan sepanjang 2020-2021. Kawasan Kota Lama menjadi destinasi wisata kuliner yang akan menampung 140 pedagang lokal, juga sebagai ruang terbuka publik untuk atraksi seni dan budaya. ',\n",
              " 'Kota Kupang jauh berubah. Sejumlah kawasan di ibu kota Provinsi NTT itu telah ditata menjadi lebih mengesankan, lebih membuat nyaman. \\n\\nSebut saja kawasan Kota Lama Kupang, tepatnya di Pantai Lai-Lai Besi Kopan (LLBK), lalu Pantai Kelapa Lima, serta Koridor 3 Jalan Frans Seda. ',\n",
              " 'Situasi pandemi Covid-19 di Indonesia kian membaik. Pemerintah memutuskan untuk mengambil beberapa langkah pelonggaran terkait kebijakan pelaku perjalanan dari luar negeri (PPLN), ibadah di bulan Ramadan, dan mudik Lebaran.\\n\\n',\n",
              " 'Saya menuju Nusa Tenggara Timur malam ini untuk kunjungan kerja esok hari. \\n\\nDi NTT, saya antara lain hendak meresmikan penataan kawasan Kota Kupang, meninjau program penurunan stunting di Timor Tengah Selatan, dan meresmikan Kampus Politeknik Aloysius Benedictus Mboi. ',\n",
              " 'Hari ini saya menerima para ketua umum 12 organisasi mahasiswa Kelompok Cipayung Plus, yakni dari HMI, GMKI, PMII, PMKRI, KMHDI, IMM, HIKMAHBUDHI, LMND, PII, HIMA PERSIS, KAMMI, dan GMNI.\\n\\nKami berdiskusi tentang program Rumah Kebangsaan, IKN, hingga soal harga bahan pokok. ',\n",
              " 'Salah satu pameran produk kerajinan terbesar di Asia Tenggara tersebut diikuti 722 peserta individu, binaan dinas-dinas dan BUMN, serta toko-toko daring. \\n\\nINACRAFT tahun 2022 menampilkan produk-produk kerajinan yang memiliki kualitas yang baik kreasi para pengrajin kita. ',\n",
              " 'Dua tahun vakum karena pandemi, INACRAFT kembali digelar tahun ini. \\n\\nThe 22nd Jakarta International Handicraft Trade Fair 2022 itu saya buka hari ini di Jakarta Convention Center. Pameran akan berlangsung 23-27 Maret 2022. ',\n",
              " 'ASEAN Para Games 2022 akan dilaksanakan pada akhir bulan Juli di Jawa Tengah. Kenapa di sana? Karena pemusatan latihan dari atlet-atlet paralympic kita ada di Jawa Tengah, dan adanya dukungan fasilitas untuk acara.',\n",
              " 'Sedianya, ASEAN Para Games 2022 hendak digelar di Vietnam, namun tidak jadi karena beberapa kendala. \\n\\nMempertimbangkan fasilitas dan pengalaman yang kita miliki, maka Indonesia yang pernah menjadi tuan rumah ASEAN Para Games 2011 mengajukan diri menjadi tuan rumah. ',\n",
              " 'Saya bertemu Ketua Majelis Nasional Republik Korea, Park Byeong Seug, di Bali, tadi malam. \\n\\nKami berbincang antara lain soal komitmen investasi Korea Selatan di industri mobil listrik dan ekosistemnya di Indonesia. ',\n",
              " 'Saya membuka Sidang Ke-144 Assembly of The Inter-Parliamentary Union (IPU) and Related Meetings di Bali Internasional Convention Center, Kab. Badung, tadi malam. \\n\\nIPU adalah organisasi parlemen internasional yang beranggotakan 179 lembaga parlemen dan 13 asosiasi. ',\n",
              " 'Kejutan datang dari kejuaraan bulutangkis All England 2022 di Birmingham, Inggris, malam ini. Ganda putra muda Indonesia yang baru menjalani debutnya di All England, Muhammad Shohibul Fikri/Bagas Maulana, menjadi juara dengan mengalahkan Mohammad Ahsan/Hendra Setiawan. \\n\\nSelamat. ',\n",
              " 'Saya datang menyaksikan langsung balapan MotoGP 2022 di Sirkuit Mandalika, Kabupaten Lombok Tengah, NTB. Balapan di sirkuit yang indah ini sungguh luar biasa dan penuh kejutan.\\n\\nSelamat kepada para juara, sampai jumpa di MotoGP pada tahun-tahun mendatang. ',\n",
              " 'Terima kasih kepada seluruh masyarakat, terutama masyarakat NTB, yang mendukung gelaran balap motor dunia ini.\\n\\nTerima kasih juga kepada seluruh pihak, yang telah bekerja siang malam menyiapkan MotoGP 2022. Memang masih ada kekurangan, dan itu akan kita perbaiki tahun depan.',\n",
              " 'Saya sendiri tadinya menjagokan Marc Marquez, tetapi kenyataannya ia batal ikut setelah jatuh saat pemanasan sebelum balapan berlangsung. Marquez absen, lalu saya menjagokan Fabio Quartararo. Di akhir balapan, ternyata Fabio juara dua. Selamat.',\n",
              " 'Selesai sudah balapan MotoGP 2022 di Sirkuit Mandalika. Ada banyak yang bisa diingat dan diceritakan para pembalap, panitia, sampai penonton, dari balapan akbar dunia ini: dari suasana Mandalika, sirkuit yang indah, hujan menjelang balapan, sampai kejutan-kejutan di lapangan. ',\n",
              " 'Selamat kepada Miguel Oliveira, pemenang MotoGP Indonesia 2022, juga kepada Fabio Quartararo yang menempati urutan kedua dan Johann Zarco di urutan ketiga. ',\n",
              " 'Hujan turun di Mandalika sebelum laga MotoGP. Saya pun ke paddock sirkuit, bertanya ke CEO Dorna Sports Carmelo Ezpeleta: hujan begini, apa yang dilakukan biasanya?\\n\\n“Kita menunggu dan kami yakin sebentar lagi lomba bisa dimulai,” katanya.\\n\\nBenar, hujan reda. Balapan pun digelar. ',\n",
              " 'Menjelang puncak balapan MotoGP 2022 di Sirkuit Mandalika, sesaat lagi. ',\n",
              " 'Menjelang siang ini, saya menuju NTB untuk menyaksikan puncak balapan MotoGP 2022 di Sirkuit Mandalika, sekaligus menyerahkan piala kepada pemenang di podium.\\n\\nDari Lombok, saya akan ke Bali untuk membuka Sidang Ke-144 The Inter-Parliamentary Union (IPU) di Kab. Badung. ',\n",
              " 'Saya juga sempat berbincang dengan delegasi Mesir tentang sejumlah hal, antara lain upaya untuk meningkatkan kerja sama ekonomi, termasuk perdagangan dan investasi, serta pendidikan. Di tengah pandemi pada tahun lalu, perdagangan kedua negara bahkan mengalami kenaikan 57,6 %',\n",
              " 'Menteri Luar Negeri Mesir Sameh Shoukry berkunjung ke Istana Merdeka hari ini, menyampaikan undangan dari Presiden Abdel Fattah El-Sisi kepada saya untuk menghadiri KTT Perubahan Iklim atau COP27. KTT tersebut akan digelar di Mesir, November mendatang. ',\n",
              " 'Untuk para perawat, yang terdepan bersama rakyat di saat pandemi Covid-19 datang mendera, kita haturkan terima kasih nan tak terhingga. ',\n",
              " 'Beberapa investor akan memulai konstruksi pengolahan nikel dan kobalt Indonesia menjadi bahan material litium baterai. \\n\\nTahun 2024, mobil listrik produksi Indonesia sudah menggunakan baterai listrik dan komponen-komponen penting lainnya yang diproduksi di Indonesia.',\n",
              " 'Pemerintah akan selalu mendukung setiap investasi kendaraan listrik di Indonesia dan juga pengembangan industri hulunya terutama industri baterai.\\n\\nKita punya nikel, kobalt, bauksit, sampai  tembaga yang dibutuhkan untuk baterai dan sistem kabel-kabel di mobil listrik.',\n",
              " 'Saya meluncurkan mobil listrik Hyundai IONIQ 5 dari pabrik PT Hyundai Motor Manufacturing Indonesia di Bekasi, siang tadi. \\n\\nInilah mobil listrik pertama yang dirakit di Indonesia untuk memenuhi pasar Indonesia dan ekspor. ',\n",
              " 'Di antara mereka ada Marc Marquez, Pol Espargaro, Joan Mir, Johann Zarco, dan Andrea Dovizioso. Selain pembalap, hadir juga CEO Dorna Carmelo Ezpeleta.\\n\\nDari depan istana, saya melepas para pembalap MotoGP ini melaju dengan sepeda motor dalam parade promosi Mandalika MotoGP 2022.',\n",
              " 'Sejumlah pembalap dunia yang akan berlomba di ajang Pertamina Grand Prix of Indonesia, seri kedua MotoGP 2022 di Sirkuit Mandalika akhir pekan ini bertandang ke Istana Merdeka, pagi ini. \\n\\nMereka membawa sepeda motor masing-masing dan diparkir di jalan di depan istana. ',\n",
              " 'Memperhatikan kenaikan harga komoditas minyak nabati, termasuk minyak kelapa sawit global, pemerintah memutuskan untuk menyubsidi harga minyak kelapa sawit curah. \\n\\nPemerintah juga terus memperhatikan dengan sungguh-sungguh ketersediaan dan distribusi minyak goreng di pasaran. ',\n",
              " 'Selamat pagi, Indonesia 🇮🇩 ',\n",
              " 'Duduk melingkar di sekitar Titik Nol Ibu Kota Nusantara, siang tadi, saya mendengarkan para tokoh adat dan agama setempat. \\n\\nPara tokoh adat berharap agar pembangunan IKN tidak hanya mengenai infrastruktur, tetapi juga pengembangan sumber daya manusia Kalimantan. ',\n",
              " 'Persemaian Mentawir di Kab. Penajam Paser Utara ini  akan menghasilkan jutaan bibit untuk ditanam di lahan-lahan kritis di lokasi IKN. \\n\\nJenis pohonnya, dari kayu nyatoh, meranti, gaharu, hingga jambu-jambuan yang kelak menarik hewan dan burung-burung ke habitatnya di IKN.',\n",
              " 'Pembangunan Ibu Kota Nusantara akan kita awali dengan merehabilitasi hutan-hutan yang ada, agar area-area di IKN dan sekitarnya kembali pada fungsi semula yaitu sebagai hutan tropis, bukan hutan yang monokultur atau yang homogen. ',\n",
              " 'Sebelum istana dibangun, sebelum bangunan-bangunan kantor pemerintah berdiri ... ',\n",
              " 'Terima kasih kepada seluruh gubernur, lembaga tinggi negara, MPR RI, DPR RI, DPD RI, MA, MK, BPK, Komisi Yudisial dan seluruh komponen masyarakat atas dukungannya untuk pembangunan IKN. \\n\\nSemoga Allah SWT memberikan kemudahan dan kelancaran untuk upaya kita membangun IKN ini.',\n",
              " 'Penyatuan tanah dan air ini adalah simbol kebinekaan dan persatuan Indonesia. \\n\\nKolaborasi antara pemerintah pusat dan daerah, TNI, Polri, swasta, dan seluruh masyarakat mendukung pembangunan ibu kota negara ini, sangat membantu agar yang kita cita-citakan ini segera terwujud.',\n",
              " 'Seluruh gubernur atau yang mewakili dari 34 provinsi hadir di Titik Nol IKN Nusantara, siang ini, dengan membawa tanah dan air dari daerah masing-masing. \\n\\nAcara ini menjadi tonggak sejarah bagi bangsa Indonesia mewujudkan cita-cita besar, yakni pembangunan Ibu Kota Nusantara. ',\n",
              " 'Sehari di titik nol kilometer Ibu Kota Negara Nusantara. ',\n",
              " 'Saya mengecek langsung ketersediaan minyak goreng di sejumlah lokasi pasar dan toko swalayan di Yogyakarta, kemarin. \\n\\nSituasi ini -- minyak goreng langka di pasar -- tidak boleh dibiarkan terlalu lama. Pemerintah akan mengambil jalan keluar selekasnya. ',\n",
              " 'Pemindahan ibu kota negara ini bukan berarti kita ingin meninggalkan DKI Jakarta. Tidak sama sekali. PDB ekonomi negara ini 58 persen ada di Jawa, dan magnetnya DKI. \\n\\nDengan dibangunnya Ibu Kota Nusantara, Indonesia akan memiliki kota dengan standar internasional. ',\n",
              " 'Situasi global saat ini seperti soal krisis energi, pangan, hingga situasi perang, juga perlu disikapi karena bisa berdampak ke negara kita. \\n\\nSaya meminta para gubernur untuk menyesuaikan Anggaran Pendapatan dan Belanja Daerah (APBD) dengan situasi yang terjadi.',\n",
              " 'Bertemu gubernur se-Indonesia di Balikpapan, kemarin, saya mengingatkan untuk tidak mengendurkan protokol kesehatan di daerah masing-masing, kendati kasus harian Covid-19 mulai menurun. \\n\\nMasyarakat harus tetap taat pada protokol kesehatan dan vaksinasi tetap harus digencarkan. ',\n",
              " 'Dari Pangkalan TNI AU Adi Sutjipto siang ini, saya bersama Ibu Negara bertolak menuju Balikpapan, Kalimantan Timur.\\n\\nBesok, jika tak ada aral melintang, saya akan menuju Kawasan Titik Nol Kilometer Ibu Kota Negara Nusantara di Kab. Penajam Paser Utara dan bermalam di lokasi itu. ',\n",
              " 'Selamat atas pengukuhan Gusti Pangeran Hario Bhre Cakrahutomo Wira Sudjiwo sebagai Kanjeng Gusti Pangeran Adipati Ario Mangkunagoro X dalam prosesi adat Jumenengan Dalem, hari ini. ',\n",
              " 'Congratulations to President elect Yoon Suk-yeol. I look forward to working closely with you to further advance RI-ROK Special Strategic Partnership. Thanking also my good friend President Moon Jae-in for his dedication in strengthening the friendship between 🇮🇩 and 🇰🇷.',\n",
              " 'Lokasi Dies Natalis ini adalah satu dari dua gedung baru yang saya resmikan, selain Gedung UNS di Madiun. \\n\\nDi dalam area gedung 11 lantai ini ada sarana olahraga seperti kolam renang, gedung konferensi internasional, kantor, pusat bisnis, dan terdapat ruang-ruang yang disewakan.',\n",
              " 'Dengan terus berinovasi dan bertransformasi, saya yakin UNS akan makin sukses mengemban mandatnya berkontribusi untuk Indonesia maju yang kita cita-citakan.',\n",
              " 'Acara Dies Natalis ke-46 Universitas Sebelas Maret (UNS) digelar di UNS Tower Ki Hadjar Dewantara, Kota Surakarta, hari ini. \\n\\nSaya hadir dan menyampaikan selamat kepada keluarga besar UNS, juga terima kasih atas peran universitas ini pada kemajuan masyarakat. ',\n",
              " 'Saya bertolak menuju Yogyakarta, selepas petang ini, untuk kunjungan kerja esok hari. Saya akan menghadiri acara Dies Natalis ke-46 Universitas Sebelas Maret di Surakarta, sekaligus meninjau dan meresmikan sejumlah fasilitas di universitas itu. ',\n",
              " 'Hari ini di Istana Negara, saya melantik Bambang Susantono dan Dhony Rahajoe sebagai Kepala dan Wakil Kepala Otorita Ibu Kota Nusantara. \\n\\nKeduanya akan bekerja untuk bersama-sama membangun IKN sebagai ibu kota yang merefleksikan kota Indonesia masa depan.\\n\\nSelamat bekerja. ',\n",
              " 'Selamat bekerja Andi Sudirman Sulaiman sebagai Gubernur Sulawesi Selatan (sisa masa jabatan 2018-2023). ',\n",
              " 'Pembangunan persemaian merupakan salah satu upaya pemerintah dalam program rehabilitasi lahan di Tanah Air. \\n\\nKeberadaannya tidak hanya memberikan manfaat kepada lingkungan, tetapi juga dapat membantu meningkatkan perekonomian.',\n",
              " 'Tahun ini, ada sekitar 30 persemaian di tanah air yang bisa memproduksi 12 juta bibit tanaman. \\n\\nSalah satunya, Persemaian Modern Rumpin di Bogor yang tadi saya tinjau bersama Ibu Megawati Soekarnoputri, Presiden ke-5 RI dan Ketua Dewan Pengarah Badan Riset dan Inovasi Nasional. ',\n",
              " 'Saya juga mengapresiasi upaya KY dalam membangun kemitraan dengan MA. \\n\\nKemitraan itu akan menjaga marwah para hakim dalam memutus perkara, agar kita mampu membatasi dan memutus ruang gerak mafia peradilan dan mafia-mafia lain.',\n",
              " 'KY harus menjamin ketersediaan hakim agung, hakim ad hoc MA, dan hakim lain melalui seleksi yang transparan dan profesional. KY memastikan calon hakim yang diusulkan ke DPR RI memiliki rekam jejak terpuji, berintegritas, kompeten, memiliki komitmen tinggi memerangi korupsi.',\n",
              " 'Sebagai lembaga penyeimbang, Komisi Yudisial harus mampu melakukan fungsi pengawasan eksternal independen. \\n\\nKY harus memastikan, setiap perbuatan merendahkan kehormatan hakim diselesaikan, agar kewibawaan, kehormatan, dan keluhuran hakim serta institusi peradilan tetap terjaga. ',\n",
              " 'Indonesia tak hanya kaya akan bahasa dan tradisi, tapi juga musik dan lagu. \\n\\nMusik dan lagu-lagu daerah itu adalah khazanah kekayaan budaya bangsa Indonesia yang harus terus kita rawat dan kita kembangkan untuk mengiringi langkah kita menuju kemajuan. ',\n",
              " 'Di antara mobil-mobil yang akan diekspor melalui Pelabuhan Patimban di Subang, Jawa Barat, hari ini.\\n\\nEkspor kendaraan dari Pelabuhan Patimban dimulai 17 Desember 2021. Sampai 8 Maret 2022 ekspor melalui pelabuhan ini mencapai 24.000 unit. ',\n",
              " 'Menurut UNHCR, sudah 1,2 juta orang harus mengungsi ke negara lain karena perang di Ukraina. \\n\\nApabila krisis berlanjut niscaya akan terjadi “krisis pengungsi terbesar sepanjang abad”. Inilah yang harus kita sama-sama cegah agar jangan sampai terjadi.',\n",
              " 'Gagalnya kesepakatan gencatan senjata di Ukraina bukan hanya mendorong eskalasi konflik bersenjata tetapi semakin bertambahnya korban jiwa dan krisis kemanusian di Ukraina.\\n\\nPerang adalah persoalan ego, melupakan sisi kemanusiaan, dan hanya menonjolkan kepentingan dan kekuasaan.',\n",
              " 'Dengan helikopter, pagi ini saya menuju Pelabuhan Patimban di Subang, Jawa Barat, untuk meninjau pelepasan ekspor mobil ke sejumlah negara. \\n\\nEkspor kendaraan dari Pelabuhan Patimban dimulai 17 Desember 2021. Sampai 8 Maret 2022 ekspor melalui pelabuhan ini mencapai 24.000 unit. ',\n",
              " 'Melayat ke rumah duka alm. Arifin Panigoro, anggota Wantimpres yang meninggal dunia di AS, Minggu 27 Februari 2022 lalu.  \\n\\nSaya menyampaikan rasa duka yang mendalam atas kepergian alm. Semoga segala amal ibadahnya diterima oleh Allah SWT dan keluarga yang ditinggalkan tabah. ',\n",
              " 'Di saat dunia dilanda ketidakpastian dan manusia dihentak bencana, pandemi, bahkan perang, kita menyaksikan perempuan-perempuan yang menjadi penyelamat dan penuh daya. \\n\\nMereka berjuang dan berprestasi di berbagai palagan, dari bidang ekonomi, kesehatan, sosial, sampai politik. ',\n",
              " 'Dalam diskusi selama sejam lebih, delegasi PEA yang antara lain Menteri Energi dan Infrastruktur PEA Suhail Mohammed Al Mazroei, menyampaikan kesiapan pemerintah PEA untuk berinvestasi dalam pembangunan Ibu Kota Negara (IKN) Nusantara.',\n",
              " 'Sebuah delegasi dari Persatuan Emirat Arab berkunjung ke Istana Bogor, siang tadi, untuk menyampaikan undangan khusus dari Pangeran Mohammed bin Zayed kepada saya untuk menyaksikan penandatanganan kesepakatan perdagangan antara Abu Dhabi dan Indonesia pada akhir Maret ini. ',\n",
              " 'Saya telah menerima laporan hasil seleksi calon anggota Dewan Komisioner Otoritas Jasa Keuangan (OJK) periode 2022-2027 dari Menteri Keuangan. \\n\\nSelanjutnya, 21 nama calon itu akan saya pilih sebanyak 14 nama, untuk diteruskan ke DPR untuk dipilih menjadi tujuh jabatan di OJK. ',\n",
              " 'Pajak yang kita bayarkan sangat diperlukan untuk mendukung program pembangunan, terutama untuk pemulihan ekonomi, meningkatkan daya beli masyarakat, pemulihan kesehatan, termasuk program vaksinasi. \\n\\nPajak kita untuk kita.',\n",
              " 'Saya melaporkan SPT Tahunan Pajak Penghasilan saya hari ini dari Istana Bogor. Caranya mudah dan tidak perlu ke kantor pajak, bisa melalui aplikasi daring e-filing.\\n\\nBapak, Ibu, Saudara-saudara yang belum lapor SPT Tahunan segera melaporkan. Ingat terakhir tanggal 31 Maret 2022. ',\n",
              " 'Dalam hening kita melihat dengan mata dan hati yang bening. Kita selaraskan niat, pikiran, dan langkah menuju Indonesia yang kita cita-citakan bersama. Indonesia yang maju. ',\n",
              " 'Saya menerima surat kepercayaan dari enam duta besar baru negara-negara sahabat, pagi ini di Ruang Kredensial, Istana Merdeka.\\n\\nPara duta besar negara sahabat tersebut berasal dari Spanyol, Turki, Aljazair, Peru, Vietnam, dan Tiongkok.\\n\\nSelamat datang para duta besar. ',\n",
              " 'Talenta-talenta digital Indonesia di luar negeri diundang untuk kembali ke Tanah Air dan ikut membangun sistem digital kita agar lebih baik.\\n\\nSaya menghargai upaya seperti yang dilakukan Sea dan Sea Labs Indonesia yang telah mengundang talenta digital Indonesia untuk kembali.',\n",
              " 'Indonesia memiliki potensi besar dalam ekonomi digital, sektor yang bertumbuh dua digit di tahun 2021. Karena itu, Indonesia tidak boleh hanya jadi pasar, melainkan jadi pemain.\\n\\nCaranya, ya ekosistem digital yang kondusif harus kita bangun bersama-sama. ',\n",
              " 'Kepada jajaran TNI-Polri saya menekankan pentingnya kedisiplinan nasional. Kedisiplinan TNI-Polri berbeda dengan masyarakat sipil. \\n\\nKedisiplinan TNI-Polri dibatasi aturan yang dibuat para pimpinan, harus terus dijunjung tinggi, dan menjadi contoh yang baik kepada masyarakat.',\n",
              " 'Saya menghadiri Rapim TNI dan Polri tahun 2022, hari ini di Plaza Mabes TNI.\\n\\nApresiasi tinggi saya sampaikan kepada seluruh jajaran TNI-Polri yang telah membantu pemerintah dalam penanganan bencana, pandemi Covid-19, hingga percepatan vaksinasi Covid-19 di seluruh Indonesia. ',\n",
              " 'Dari sungai yang mengalir di tengah rimba Poso di Sulawesi Tengah dan Tana Toraja, Sulawesi Selatan, kita memanen energi hijau lewat PLTA berkapasitas 515 MW dan 90 MW. ',\n",
              " \"Kehidupan dunia memang penuh dengan ketidakpastian, disrupsi, juga tantangan. Akan tetapi ada satu yang pasti: kita tetap berjalan ke arah cahaya yang terang benderang dan kehidupan yang lebih maju.\\n\\nSelamat memperingati hari Isra Mi'raj untuk semua umat muslim. \",\n",
              " 'Jalan Tol Manado-Bitung di Sulawesi Utara kini dapat dilalui. Jalan tol sepanjang hampir 40 km ini telah memangkas waktu perjalanan dari Manado ke Bitung, dari 2 jam menjadi 30 menit saja. Akses menuju Kawasan Wisata Likupang, Tondano, dan KEK Bitung jadi semakin mudah. ',\n",
              " 'Vaksinasi Covid-19 digelar di Terminal Petikemas Bitung,  siang tadi. Masyarakat Kota Bitung terlihat antusias menunggu giliran menerima vaksin.\\n\\nSaya sempat berdialog melalui konferensi video dengan sejumlah perwakilan dari kab./kota yang juga menggelar acara yang sama hari ini. ',\n",
              " 'Jalan Tol Manado-Bitung dapat meningkatkan efisiensi pengiriman logistik dari Pelabuhan Bitung ke Manado dan sekitarnya, membantu akses ke Kawasan Wisata Likupang, Tondano, dan Bitung, juga memunculkan titik-titik pertumbuhan ekonomi baru di Sulawesi Utara.',\n",
              " 'Hari ini, seksi akhir dari Jalan Tol Manado-Bitung yaitu seksi Danowudu-Bitung sepanjang 13,5 km saya resmikan dari Gerbang Tol Bitung. \\n\\nDengan demikian, seluruh Jalan Tol Manado-Bitung telah tuntas dan siap dimanfaatkan untuk mendukung aktivitas masyarakat di Sulawesi Utara.',\n",
              " 'Dulu, dari Manado ke Bitung di Sulawesi Utara ditempuh dalam waktu 1,5 sampai 2 jam. \\n\\nSekarang ada pilihan yang hanya memakan waktu 30 menit saja, yakni melalui Jalan Tol Manado-Bitung yang panjangnya 39,8 km. ',\n",
              " 'Masih di Poso, seusai meresmikan PLTA, saya meninjau pelaksanaan vaksinasi Covid-19 untuk Lansia dan masyarakat yang diadakan di Ruang Serbaguna PLTA Poso Energy. ',\n",
              " 'Pembangunan PLTA di sejumlah daerah di Tanah Air mendukung transformasi energi baru terbarukan (EBT). \\n\\nPemerintah berupaya keras memperbaiki kemudahan dalam proses negosiasi maupun perizinan sehingga pembangunan PLTA selanjutnya dapat segera terlaksana.',\n",
              " 'Di Kab. Poso, Sulawesi Tengah siang ini, saya meresmikan dua Pembangkit Listrik Tenaga Air sekaligus, yakni PLTA PT Poso Energy di Poso dan PLTA PT Malea Energy di Kab. Tana Toraja, Sulawesi Selatan. PLTA Poso yang dibangun Kalla Group berkapasitas 515 MW dan PLTA Malea 90 MW. ',\n",
              " 'Masyarakat Kota Palu begitu bersemangat untuk mendapatkan vaksin. Seperti saya saksikan pagi ini di lapangan kantor Bandara Mutiara SIS Al Jufrie, anak-anak sampai lansia tertib menunggu giliran divaksinasi. \\n\\nKegiatan seperti ini harap dilanjutkan. Makin banyak, makin baik. ',\n",
              " 'Saya juga telah menginstruksikan agar studi kelayakan untuk jalur dari Fatmawati sampai Taman Mini segera diselesaikan. \\n\\nDengan begitu, DKI Jakarta akan memiliki sarana transportasi modern, memiliki MRT, LRT, TransJakarta yang semuanya tersambung dengan semua moda yang ada. ',\n",
              " 'Sejak tahun 2019, Mtelah beroperasi di Jakarta pada jalur Lebak Bulus sampai Bundaran HI. Dan sekarang, pemerintah melanjutkannya dengan fase 2A dari Bundaran HI sampai ke Kota. \\n\\nSaya berharap jalur MJakarta terus berlanjut sampai fase 2B dari Kota ke Ancol Barat, dst. ',\n",
              " 'Dari Stasiun MBundaran HI, siang tadi, saya meluncurkan Tunnel Boring Machine (TBM) untuk membangun jalur Mfase 2A. Jalur ini akan melewati tujuh stasiun yakni Stasiun Thamrin, Monas, Harmoni, Sawah Besar, Mangga Besar, Glodok, dan Kota. ',\n",
              " 'Stop the war. War brings misery to mankind and puts the whole world at risk.',\n",
              " 'Setop perang. Perang itu menyengsarakan umat manusia, dan membahayakan dunia.',\n",
              " 'Sore ini, saya bertolak ke Provinsi Sulawesi Tengah untuk kunjungan kerja. \\n\\nBesok, saya hendak meninjau kegiatan vaksinasi Covid-19, lalu meresmikan sejumlah PLTA di Kab. Poso, lanjut ke Provinsi Sulawesi Utara untuk meresmikan Jalan Tol Manado-Bitung ruas Danowudu-Bitung. ',\n",
              " 'Pemerintah mendorong seluruh kawasan industri di Tanah Air mempercepat program vaksinasi Covid-19 suntikan penguat untuk memberikan perlindungan bagi para pekerja. Dengan begitu,  produksi jalan terus, ekspor jalan terus, sehingga seluruh ekonomi kita bisa berjalan dengan baik. ',\n",
              " 'Saya meninjau pelaksanaan percepatan vaksinasi booster bagi pekerja sektor industri di PT Komatsu Indonesia, Jakarta Utara dan di PT Smart Tbk di Kab. Bekasi, hari ini, dan berdialog secara virtual dengan sejumlah perwakilan kawasan industri di sejumlah daerah. ',\n",
              " 'Seluruh masyarakat Indonesia yang saya cintai. Pemindahan Ibu Kota Negara ke Nusantara bukan sekadar memindahkan ASN dan membangun gedung-gedung pemerintahan.\\n\\nPemindahan IKN adalah lompatan untuk melakukan transformasi bangsa menuju Indonesia Maju.\\n\\n',\n",
              " 'Kita tidak boleh lelah untuk terus membantu rakyat Myanmar. Bersama-sama kita pasti bisa membantu mereka. Mereka berhak untuk menikmati perdamaian, kesejahteraan dan demokrasi. \\n\\nKita harus membantu memberikan solusi yang adil untuk rakyat Myanmar. Tidak bisa ditunda-tunda lagi.',\n",
              " 'Saya juga mendorong BNPB untuk membangun sistem edukasi kebencanaan berkelanjutan, terutama di daerah rawan bencana. Gali berbagai kearifan lokal di masyarakat, latih masyarakat untuk tanggap menghadapi bencana, lakukan latihan dan simulasi. Jangan menunggu sampai bencana datang.',\n",
              " 'Bencana kerap datang secara tidak terduga, meski beberapa jenis bencana dapat dikurangi atau dicegah sebelumnya. \\n\\nKarena itulah, Badan Nasional Penanggulangan Bencana harus terus berbenah diri dengan menerapkan budaya kerja yang lebih siaga, antisipatif, responsif, dan adaptif. ',\n",
              " 'Saya berharap, melalui pembangunan ekosistem kendaraan listrik dari hulu ke hilir tersebut, Indonesia dapat menjadi produsen kendaraan listrik. Kita targetkan di 2025, dua juta kendaraan listrik bisa digunakan oleh masyarakat kita, dan selanjutnya menuju pasar-pasar ekspor.',\n",
              " 'Kolaborasi Pengembangan Ekosistem Kendaraan Listrik diluncurkan hari ini di di Jakarta. \\n\\nKolaborasi BUMN dan swasta ini jadi langkah nyata mempercepat terwujudnya ekosistem kendaraan listrik yang terintegrasi di Indonesia. Di dalamnya ada Electrum, Pertamina, Gogoro, dan Gesits. ',\n",
              " 'Lalu siapa yang akan menjadi Kepala Otorita Ibu Kota Nusantara yang baru? \\n\\nSabar. Dalam waktu dekat akan saya umumkan. Yang jelas, Kepala Otorita IKN akan dijabat oleh seseorang dari kalangan non-partai politik.',\n",
              " 'Ibu Kota Nusantara kelak akan menggagas konsep Smart Forest City dengan 70 persen kawasannya berupa area hijau. \\n\\nPengelolaan transportasi, sistem pengairan, sistem kelistrikan, infrastruktur komunikasi, hingga pelayanan publiknya juga akan menggunakan teknologi modern. ',\n",
              " 'Saya memiliki pandangan yang sama dengan Sekjen PBB Antonio Guterres bahwa penanganan krisis Ukraina harus dilakukan secara cermat agar bencana besar bagi umat manusia bisa dihindarkan. Tetapi, upaya perdamaian ini harus cepat dan tidak bisa ditunda-tunda.',\n",
              " 'Situasi pandemi telah mempercepat proses migrasi dari sistem peradilan konvensional ke sistem peradilan elektronik oleh Mahkamah Agung.\\n\\nSaya mengapresiasi langkah MA tersebut mengingat transformasi ini penting untuk memberikan pelayanan peradilan yang lebih baik bagi masyarakat. ',\n",
              " 'Hari ini saya melantik dua pejabat: Andi Widjajanto sebagai Gubernur Lembaga Ketahanan Nasional RI dan Arief Prasetyo Adi sebagai Kepala Badan Pangan Nasional. Pelantikan digelar di Istana Negara dengan protokol kesehatan ketat dan dihadiri undangan terbatas.\\n\\nSelamat bekerja. ',\n",
              " 'Saatnya dunia bersinergi dan berkolaborasi menghadapi pandemi. Saatnya kita memulihkan ekonomi dunia, mengantisipasi kelangkaan pangan, dan mencegah kelaparan.',\n",
              " 'Rivalitas dan ketegangan di Ukraina harus dihentikan sesegera mungkin. Semua pihak yang terlibat harus menahan diri dan kita semua harus berkontribusi pada perdamaian. Perang tidak boleh terjadi.',\n",
              " 'Pada kesempatan ini, saya meminta Basarnas untuk memperbanyak inovasi dengan memanfaatkan teknologi, meningkatkan kompetensi sumber daya manusia SAR, memperkuat sinergi dan kolaborasi dengan berbagai potensi SAR lain, dan memperkuat pencegahan, mitigasi, dan antisipasi bencana. ',\n",
              " 'Saat ini, tantangan dalam menghadapi situasi kedaruratan akan makin besar. Tetapi, dalam situasi apapun pelayanan SAR harus sigap dan cepat untuk menyelamatkan setiap jiwa manusia, di mana pun, dan dalam situasi apapun. ',\n",
              " 'Badan Nasional Pencarian dan Pertolongan (Basarnas) telah mencapai usia emas di tahun ini. Selamat ulang tahun ke-50 Basarnas, juga terima kasih telah membantu masyarakat yang tertimpa musibah di berbagai daerah dan medan bencana. ',\n",
              " 'Ada yang menghitung dengan “sikok, duo, tigo …”. Di bagian lain Indonesia, ada yang dengan “mbai, be, name … ”, atau “ije, due, telu …”. Dst. \\n\\nLain daerah, lain pula bahasa ibunya. Dan itulah kekayaan Indonesia.  \\n\\nMasih bisakah Anda menghitung dalam bahasa ibu? ',\n",
              " 'Srikandi-srikandi bulutangkis putri Indonesia mencetak sejarah dengan meraih gelar juara pada Kejuaraan Bulutangkis Asia Beregu 2022, hari ini di Selangor, Malaysia. Sementara tim putra Indonesia berhasil menempati posisi runner-up.\\n\\nDari Tanah Air, saya menyampaikan selamat. ',\n",
              " 'Hari ini, di Istana Bogor, saya menerima kunjungan President Asian Development Bank Masatsugu Asakawa dan dua pimpinan ADB lainnya. \\n\\nDalam pertemuan itu, kami membahas sejumlah hal, dari soal penanganan pandemi Covid-19 hingga dukungan ADB terhadap transisi energi di Indonesia. ',\n",
              " 'Hari ini saya kembali meninjau vaksinasi di beberapa daerah secara virtual dan berdialog dengan peserta vaksinasi di 17 provinsi.\\n\\nSaya mendorong seluruh kab./kota dan provinsi ini konsentrasi di suntikan yang kedua dan ketiga yang saya lihat masih banyak yang di bawah 60 %. ',\n",
              " 'Sebagai pemegang Presidensi G20, Indonesia mendorong semua negara G20 bekerja sama untuk mengatasi berbagai permasalahan dunia seperti inflasi yang cenderung terus meningkat, kenaikan harga pangan, kelangkaan kontainer, juga mencegah terjadinya kelaparan.',\n",
              " 'Saat ini semua pihak harus menghentikan rivalitas dan ketegangan. Kita harus fokus untuk bersinergi, untuk berkolaborasi menyelamatkan dan membangkitkan dunia tempat kita hidup untuk segera bangkit kembali, pulih kembali.',\n",
              " 'Dalam situasi global seperti ini, bukan saatnya menonjolkan rivalitas atau membuat ketegangan baru yang mengganggu pemulihan dunia. Tidak satu negara pun yang bisa bangkit sendirian. \\n\\nIni saya sampaikan pada Pertemuan I Menteri Keuangan dan Gubernur Bank Sentral G20, siang tadi. ',\n",
              " 'Saat ini, penyebaran kasus Covid-19 varian Omicron di Tanah Air terus meningkat. Untuk itu, perlu percepatan vaksinasi dan pengetatan terhadap protokol kesehatan di seluruh Tanah Air.',\n",
              " 'Kegiatan ini menggunakan vaksin AstraZeneca, Pfizer, Moderna, Sinopharm, CoronaVac, Johnson &amp; Johnson, dan Sinovac.\\n\\nMelalui konferensi video, saya berdialog langsung para peserta vaksinasi di 12 provinsi, dari Aceh sampai Papua.',\n",
              " 'Saya meninjau pelaksanaan program vaksinasi serentak di seluruh Indonesia secara virtual hari ini dari Istana Bogor. \\n\\nVaksinasi digelar di 5.086 lokasi di Tanah Air dengan target lebih 1,1 juta dosis vaksin, pertama sampai ketiga, dan melibatkan 62.803 vaksinator. ',\n",
              " 'Melalui Presidensi G20, Indonesia akan mengangkat dan mendorong ekonomi biru, karbon biru, dan penanganan sampah laut. Indonesia siap bermitra dengan semua pihak bagi terwujudnya ekosistem laut yang berkelanjutan.',\n",
              " 'Through its G20 Presidency, Indonesia will highlight and advance blue economy, blue carbon and marine litter management. Indonesia stands ready to collaborate with all parties for the realization of a sustainable marine ecosystem.',\n",
              " 'Laut adalah sumber kehidupan dan penghidupan umat manusia, maka komitmen Indonesia kuat untuk selalu berada di  garda depan dunia dalam hal perlindungan laut.',\n",
              " 'The ocean is a source of life and livelihood for mankind, therefore Indonesia is strongly committed to always be at the forefront of marine protection.',\n",
              " 'Dalam KTT One Ocean (Paris 11/2), tegas saya sampaikan bahwa pengelolaan lingkungan laut perlu ditempatkan dalam dimensi pembangunan berkelanjutan dan mendukung pemulihan ekonomi dari dampak pandemi.',\n",
              " 'At the One Ocean Summit (Paris 11/2), I underlined that management of marine environment must be placed within the dimension of sustainable development and support economic recovery from the pandemic. ',\n",
              " 'Menerima sejumlah pimpinan Bank Dunia, siang ini, di Istana Merdeka. \\n\\nKami membahas beberapa hal penting, dari Presidensi G20 Indonesia, transisi energi, lingkungan, penanganan pandemi Covid-19, hingga situasi di Myanmar dan masalah kemanusiaan di Afghanistan. ',\n",
              " 'Toyota Fortuner tadi, juga produk lain, dihasilkan oleh SDM Indonesia yang berkualitas. Saya senang juga bahwa kandungan lokalnya sudah lebih dari 75 %. Komponen mobil-mobil itu disuplai industri-industri UKM kita. Dan ini menghidupkan usaha-usaha kecil yang ada di negara kita. ',\n",
              " 'Dari Karawang siang ini, saya melepas ekspor perdana mobil Toyota Fortuner ke Australia yang diproduksi PT Toyota Motor Manufacturing Indonesia.\\n\\nPerusahaan ini telah mencatatkan volume ekspor sebesar dua juta unit mobil secara kumulatif. ',\n",
              " 'Iriana and I send our wishes for a speedy recovery to President  and the First Lady . Get well soon, my brother!',\n",
              " 'Setiap langkah dan tindakan luar biasa yang diambil pemerintah di masa pandemi ini tidak lain untuk mengatasi krisis dan menyelamatkan masyarakat dari pandemi Covid-19.',\n",
              " 'Langkah-langkah extraordinary yang ditempuh pemerintah dalam penanganan pandemi dilakukan dengan penuh kehati-hatian dan sudah dengan pertimbangan-pertimbangan yang cermat, menjaga agar semua langkah yang ditempuh tetap berada dalam koridor hukum dan koridor konstitusi.',\n",
              " 'Selama masa pandemi pemerintah harus mengambil  tindakan luar biasa dengan keselamatan rakyat sebagai prioritas utama. \\n\\nTidak pernah terpikir sedikit pun untuk atas nama pandemi Covid-19, pemerintah sengaja menempuh cara-cara inkonstitusional dan menabrak prosedur. ',\n",
              " 'Indonesia mengapresiasi kolaborasi global Access to Covid-19 Tools Accelerator (ACT-A) yang dibentuk untuk mempercepat pengembangan, produksi, dan akses yang adil terhadap tes, perawatan, dan vaksin Covid-19. \\n\\nNo one is safe until everyone is.\\n\\n',\n",
              " 'Kritik, masukan dan dukungan dari insan pers sangat penting. Mengingatkan apa yang kurang, mendorong yang masih lamban, juga mengapresiasi yang sudah berjalan baik agar seluruh jajaran pemerintah bekerja dalam visi yang sama untuk Indonesia maju.\\n\\nSelamat Hari Pers Nasional',\n",
              " 'Dalam mengerjakan kerja besar transformasi bangsa, pemerintah memiliki banyak kekurangan dan keterbatasan. \\n\\nUntuk itu, pemerintah sangat terbuka terhadap masukan dari para insan pers agar langkah besar tersebut benar tereksekusi dan membawa perubahan bagi kemajuan Indonesia. ',\n",
              " 'Berita dan informasi datang silih berganti, tak kenal ruang dan waktu. Sebuah kabar belum tuntas dicerna, telah muncul kabar baru dari berbagai penjuru. \\n\\nDi tengah belantara informasi ini, kita punya pegangan dan panduan yaitu pers nasional sebagai sumber informasi terpercaya. ',\n",
              " 'Saya bertemu para pedagang kaki lima dan warung di Pasar Kebun Lada, Kota Binjai, Sumatra Utara, siang ini. Kepada mereka, saya menyerahkan bantuan langsung tunai sebesar Rp1,2 juta per orang. \\n\\nSemoga membantu meringankan beban para pedagang yang terdampak pandemi Covid-19. ',\n",
              " 'Jalan Tol Binjai-Langsa juga bagian dari  Trans Sumatra yang membentang dari Lampung hingga Aceh.\\n\\nJalan nasional antarprovinsi akan menghubungkan sentra-sentra produksi yang ada di daerah untuk dikembangkan, dan membuka peluang usaha baru bagi masyarakat sekitar. ',\n",
              " 'Dari Gerbang Tol Stabat di Kab. Langkat siang ini, saya meresmikan Jalan Tol Binjai-Langsa seksi I Binjai-Stabat sepanjang 11,8 km. \\n\\nPanjang Jalan Tol Binjai-Langsa sendiri 131 km yang akan menghubungkan Sumatra Utara dan Aceh. ',\n",
              " 'Penanganan Jalan Liang Melas Datas sepanjang 37,2 km membutuhkan biaya Rp164,8 miliar dengan masa pelaksanaan Tahun Anggaran 2022-2023. \\n\\nDengan perbaikan jalan produksi ini, ongkos logistik menjadi lebih murah. Jeruk dari Karo bisa dikirim ke semua kota dengan harga kompetitif. ',\n",
              " 'Kab. Karo sendiri adalah salah satu sentra produksi komoditas jeruk. Produksi jeruknya dipasarkan ke kota-kota seperti Bandung, Jakarta, Semarang, Surabaya, sampai ke Malaysia dan Singapura.\\n\\nDan setelah melihat langsung, jalan ke daerah ini memang perlu perbaikan. ',\n",
              " 'Awal Desember 2021 lalu, saya menerima perwakilan warga Liang Melas Datas, Kab. Karo, di Jakarta. Mereka datang menyampaikan aspirasi terkait jalan rusak di daerah mereka, juga membawa oleh-oleh satu truk buah jeruk.\\n\\nHari ini, giliran saya yang berkunjung ke Liang Melas Datas. ',\n",
              " 'Saya berkunjung ke Pasar Induk Sidikalang di Kabupaten Dairi, Sumatra Utara kemarin dan mendapat sambutan begitu meriah oleh warga dan pedagang. \\n\\nDi pasar ini, saya membagikan bantuan langsung tunai sebesar Rp1,2 juta per orang bagi para pedagang kaki lima dan warung. ',\n",
              " 'Saya meminta Bapak, Ibu, dan saudara-saudara tetap tenang. Tetaplah disiplin menjaga protokol kesehatan, kurangi aktivitas yang tidak perlu. bagi yang belum divaksin agar segera divaksin. Bagi yang sudah divaksin lengkap dan sudah waktunya dibooster agar segera divaksin booster.',\n",
              " 'Saya telah memerintahkan Koordinator PPKM Jawa Bali dan Koordinator PPKM luar Jawa Bali untuk segera mengevaluasi level PPKM.\\n \\nJajaran pemerintah daerah dibantu TNI dan Polri saya minta memastikan: protokol kesehatan dilaksanakan oleh masyarakat dan vaksinasi terus dijalankan.',\n",
              " 'Varian Omicron dapat disembuhkan tanpa harus ke rumah sakit. Pasien yang terpapar varian ini cukup melakukan isolasi mandiri di rumah, minum obat dan multivitamin, dan segera tes kembali setelah 5 hari.',\n",
              " 'Varian omicron ini memang tingkat penularannya tinggi, namun tingkat fatalitasnya lebih rendah dibandingkan dengan varian delta. \\n\\nDi beberapa negara, juga di Indonesia, kasusnya melonjak cukup tinggi, namun tingkat keterisian  rumah sakit masih terkendali.',\n",
              " 'Lonjakan kasus Covid-19 yang sedang terjadi, sudah kita perkirakan sebelumnya. Karena itulah, kesiapan kita sudah jauh lebih baik dibandingkan tahun lalu, dari rumah sakit, obat-obatan, oksigen, hingga tenaga kesehatan. \\n\\nSaya meminta Bapak, Ibu, dan saudara-saudara tetap tenang. ',\n",
              " 'Permasalahan sertifikat tanah menjadi perhatian  karena masih adanya sengketa tanah di daerah, baik antara warga dengan warga, warga dengan pemerintah, maupun warga dengan perusahaan swasta.',\n",
              " 'Sertifikat tanah penting dimiliki setiap pemilik tanah karena merupakan tanda bukti hukum atas tanah yang dimiliki. Di dalamnya tertulis nama pemilik serta luas lahan yang dimiliki. \\n\\nUntuk itu, pemerintah terus mempercepat proses pengurusan sertifikat tanah. ',\n",
              " 'Hari ini di Kab. Humbang Hasundutan, Sumatra Utara, saya menyerahkan SK Hutan Sosial dan SK Tanah Objek Reforma Agraria kepada masyarakat.\\n\\nKepada para penerima SK, saya minta agar segera memanfaatkan lahan itu untuk kegiatan produktif. Jangan sampai ditelantarkan. ',\n",
              " 'Menanam pohon bersama masyarakat Desa Simangulampe di Kabupaten Humbang Hasundutan, siang ini. Saya sendiri menanam tanaman kacang macadamia, sejenis tanaman hasil hutan bukan kayu. ',\n",
              " 'Di geladak KMP Kaldera Toba dalam perjalanan dari Pelabuhan Ambarita di Kab. Samosir, menuju Pelabuhan Ajibata di Kab. Toba, pagi ini. \\n\\nPemerintah membangun 13 pelabuhan penyeberangan di tujuh kabupaten di sekitar Danau Toba. Tujuh di antaranya sudah saya resmikan kemarin. ',\n",
              " 'Dengan segenap upaya itu, konservasi terhadap warisan pusaka yang kita miliki di Kampung Ulos Huta Raja kita lakukan, sekaligus menjadikannya salah satu destinasi wisata budaya yang menarik.\\n\\nSaya mengapresiasi semua pihak yang telah mendukung penataan Kampung Ulos Huta Raja ini. ',\n",
              " 'Ini Kampung Ulos Huta Raja di Kab. Samosir yang sudah direvitalisasi. Atap Rumah Bolon diperbarui, ditambah Rumah Bolon baru. \\n\\nDi kawasan 16.000 m2 itu sudah berdiri Pusat Informasi Budaya Galeri dan Suvenir, amfiteater, warung, dan toilet umum. Pagar Makam juga sudah ditata. ']"
            ]
          },
          "metadata": {},
          "execution_count": 182
        }
      ]
    },
    {
      "cell_type": "code",
      "metadata": {
        "id": "wY4vY6Z-vWOe",
        "outputId": "a8c7edeb-da12-498e-deeb-46f994dd5dee",
        "colab": {
          "base_uri": "https://localhost:8080/",
          "height": 235
        }
      },
      "source": [
        "#lakukan semua Text Analysis, seperti word_frequency, mean_word_length, dsb.\n",
        "#tampilkan plot dari setiap analysis\n",
        "#dengan melihat word_frequency coba perbaiki pembersihan slang word pada tweet_clean\n",
        "#tampilkan dataframe kalian\n",
        "\n",
        "#bin_range = np.arange(0, 260, 10)\n",
        "#df['clean_tweet'].str.len().hist(bins=bin_range)\n",
        "#plt.show()\n",
        "#df['tweet'].str.split().apply(lambda x : [len(i) for i in x]).map(lambda x: np.mean(x)).hist()\n",
        "#plt.show()\n",
        "\n",
        "#saya mengambil tema pendidikan yang isi nya string namun bukan integer, \n",
        "#masih eror\n",
        " \n"
      ],
      "execution_count": 190,
      "outputs": [
        {
          "output_type": "error",
          "ename": "TypeError",
          "evalue": "ignored",
          "traceback": [
            "\u001b[0;31m---------------------------------------------------------------------------\u001b[0m",
            "\u001b[0;31mTypeError\u001b[0m                                 Traceback (most recent call last)",
            "\u001b[0;32m<ipython-input-190-5a7df6ef16bd>\u001b[0m in \u001b[0;36m<module>\u001b[0;34m()\u001b[0m\n\u001b[1;32m      7\u001b[0m \u001b[0;31m#df['clean_tweet'].str.len().hist(bins=bin_range)\u001b[0m\u001b[0;34m\u001b[0m\u001b[0;34m\u001b[0m\u001b[0;34m\u001b[0m\u001b[0m\n\u001b[1;32m      8\u001b[0m \u001b[0;31m#plt.show()\u001b[0m\u001b[0;34m\u001b[0m\u001b[0;34m\u001b[0m\u001b[0;34m\u001b[0m\u001b[0m\n\u001b[0;32m----> 9\u001b[0;31m \u001b[0mdf\u001b[0m\u001b[0;34m[\u001b[0m\u001b[0;34m'tweet'\u001b[0m\u001b[0;34m]\u001b[0m\u001b[0;34m.\u001b[0m\u001b[0mstr\u001b[0m\u001b[0;34m.\u001b[0m\u001b[0msplit\u001b[0m\u001b[0;34m(\u001b[0m\u001b[0;34m)\u001b[0m\u001b[0;34m.\u001b[0m\u001b[0mapply\u001b[0m\u001b[0;34m(\u001b[0m\u001b[0;32mlambda\u001b[0m \u001b[0mx\u001b[0m \u001b[0;34m:\u001b[0m \u001b[0;34m[\u001b[0m\u001b[0mlen\u001b[0m\u001b[0;34m(\u001b[0m\u001b[0mi\u001b[0m\u001b[0;34m)\u001b[0m \u001b[0;32mfor\u001b[0m \u001b[0mi\u001b[0m \u001b[0;32min\u001b[0m \u001b[0mx\u001b[0m\u001b[0;34m]\u001b[0m\u001b[0;34m)\u001b[0m\u001b[0;34m.\u001b[0m\u001b[0mmap\u001b[0m\u001b[0;34m(\u001b[0m\u001b[0;32mlambda\u001b[0m \u001b[0mx\u001b[0m\u001b[0;34m:\u001b[0m \u001b[0mnp\u001b[0m\u001b[0;34m.\u001b[0m\u001b[0mmean\u001b[0m\u001b[0;34m(\u001b[0m\u001b[0mx\u001b[0m\u001b[0;34m)\u001b[0m\u001b[0;34m)\u001b[0m\u001b[0;34m.\u001b[0m\u001b[0mhist\u001b[0m\u001b[0;34m(\u001b[0m\u001b[0;34m)\u001b[0m\u001b[0;34m\u001b[0m\u001b[0;34m\u001b[0m\u001b[0m\n\u001b[0m\u001b[1;32m     10\u001b[0m \u001b[0mplt\u001b[0m\u001b[0;34m.\u001b[0m\u001b[0mshow\u001b[0m\u001b[0;34m(\u001b[0m\u001b[0;34m)\u001b[0m\u001b[0;34m\u001b[0m\u001b[0;34m\u001b[0m\u001b[0m\n\u001b[1;32m     11\u001b[0m \u001b[0;34m\u001b[0m\u001b[0m\n",
            "\u001b[0;31mTypeError\u001b[0m: list indices must be integers or slices, not str"
          ]
        }
      ]
    },
    {
      "cell_type": "code",
      "metadata": {
        "id": "g7WVeJ65wAPP",
        "outputId": "e541905f-471c-4d4d-a3b2-22c01001dd45",
        "colab": {
          "base_uri": "https://localhost:8080/",
          "height": 235
        }
      },
      "source": [
        "#Lakukan Sentiment Analysis \n",
        "#masukkan hasilnya pada dataframe dengan nama kolom \"sentiment\"\n",
        "query = \"token -is:retweet lang:id\"\n",
        "\n",
        "response = tweepy.Paginator(api.search_recent_tweets,\n",
        "                          query = query,\n",
        "                          max_results=100\n",
        "                          ).flatten(limit=50)\n",
        "\n",
        "#maaf kak belum selesai mempelajari sampai sini"
      ],
      "execution_count": 191,
      "outputs": [
        {
          "output_type": "error",
          "ename": "AttributeError",
          "evalue": "ignored",
          "traceback": [
            "\u001b[0;31m---------------------------------------------------------------------------\u001b[0m",
            "\u001b[0;31mAttributeError\u001b[0m                            Traceback (most recent call last)",
            "\u001b[0;32m<ipython-input-191-573a3361d03d>\u001b[0m in \u001b[0;36m<module>\u001b[0;34m()\u001b[0m\n\u001b[1;32m      3\u001b[0m \u001b[0mquery\u001b[0m \u001b[0;34m=\u001b[0m \u001b[0;34m\"token -is:retweet lang:id\"\u001b[0m\u001b[0;34m\u001b[0m\u001b[0;34m\u001b[0m\u001b[0m\n\u001b[1;32m      4\u001b[0m \u001b[0;34m\u001b[0m\u001b[0m\n\u001b[0;32m----> 5\u001b[0;31m response = tweepy.Paginator(api.search_recent_tweets,\n\u001b[0m\u001b[1;32m      6\u001b[0m                           \u001b[0mquery\u001b[0m \u001b[0;34m=\u001b[0m \u001b[0mquery\u001b[0m\u001b[0;34m,\u001b[0m\u001b[0;34m\u001b[0m\u001b[0;34m\u001b[0m\u001b[0m\n\u001b[1;32m      7\u001b[0m                           \u001b[0mmax_results\u001b[0m\u001b[0;34m=\u001b[0m\u001b[0;36m100\u001b[0m\u001b[0;34m\u001b[0m\u001b[0;34m\u001b[0m\u001b[0m\n",
            "\u001b[0;31mAttributeError\u001b[0m: module 'tweepy' has no attribute 'Paginator'"
          ]
        }
      ]
    },
    {
      "cell_type": "code",
      "metadata": {
        "id": "Kikw8PlPwKe1"
      },
      "source": [
        "#lakukan analisis dan tarik kesimpulan dari Text analysis dan Sentiment Analysis\n",
        "#masukkan analisis kalian pada sel berikut.\n",
        "\n"
      ],
      "execution_count": 185,
      "outputs": []
    }
  ]
}